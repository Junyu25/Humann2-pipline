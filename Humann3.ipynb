{
 "cells": [
  {
   "cell_type": "markdown",
   "id": "charged-recommendation",
   "metadata": {},
   "source": [
    "## HUMAnN 3.0"
   ]
  },
  {
   "cell_type": "markdown",
   "id": "radio-psychology",
   "metadata": {
    "heading_collapsed": "true"
   },
   "source": [
    "### Env"
   ]
  },
  {
   "cell_type": "code",
   "execution_count": null,
   "id": "empirical-declaration",
   "metadata": {},
   "outputs": [],
   "source": [
    "mamba create -n humann3 -c biobakery kneaddata metaphlan humann"
   ]
  },
  {
   "cell_type": "code",
   "execution_count": null,
   "id": "internal-inflation",
   "metadata": {},
   "outputs": [],
   "source": [
    "conda install -c biobakery kneaddata"
   ]
  },
  {
   "cell_type": "code",
   "execution_count": null,
   "id": "broad-morgan",
   "metadata": {},
   "outputs": [],
   "source": [
    "conda install -c bioconda metaphlan"
   ]
  },
  {
   "cell_type": "code",
   "execution_count": null,
   "id": "designed-bolivia",
   "metadata": {},
   "outputs": [],
   "source": [
    "conda install -c biobakery humann"
   ]
  },
  {
   "cell_type": "code",
   "execution_count": null,
   "id": "future-surprise",
   "metadata": {},
   "outputs": [],
   "source": [
    "conda install -c bioconda kraken2"
   ]
  },
  {
   "cell_type": "code",
   "execution_count": null,
   "id": "human-closing",
   "metadata": {},
   "outputs": [],
   "source": [
    "#conda install -c bioconda strainphlan"
   ]
  },
  {
   "cell_type": "code",
   "execution_count": null,
   "id": "existing-boxing",
   "metadata": {},
   "outputs": [],
   "source": [
    "mamba instal fastqc #kneaddata funtion"
   ]
  },
  {
   "cell_type": "markdown",
   "id": "public-proof",
   "metadata": {},
   "source": [
    "`conda activate /home/hongbinliu/anaconda3/envs/humann3`"
   ]
  },
  {
   "cell_type": "markdown",
   "id": "congressional-closing",
   "metadata": {
    "heading_collapsed": "true"
   },
   "source": [
    "### DB"
   ]
  },
  {
   "cell_type": "code",
   "execution_count": null,
   "id": "spoken-native",
   "metadata": {},
   "outputs": [],
   "source": [
    "humann_databases --download chocophlan full $INSTALL_LOCATION"
   ]
  },
  {
   "cell_type": "code",
   "execution_count": null,
   "id": "cognitive-observation",
   "metadata": {},
   "outputs": [],
   "source": [
    "humann_databases --download uniref uniref90_diamond $INSTALL_LOCATION"
   ]
  },
  {
   "cell_type": "markdown",
   "id": "colonial-crazy",
   "metadata": {},
   "source": [
    "`/home/hongbinliu/humann_dbs/`"
   ]
  },
  {
   "cell_type": "markdown",
   "id": "earlier-capitol",
   "metadata": {},
   "source": [
    "### Pipeline update"
   ]
  },
  {
   "cell_type": "code",
   "execution_count": null,
   "id": "intimate-frontier",
   "metadata": {},
   "outputs": [],
   "source": []
  },
  {
   "cell_type": "markdown",
   "id": "sustainable-testing",
   "metadata": {},
   "source": [
    "HUMAnN 3.0 is simply to concatenate all reads into a single FASTA or FASTQ file."
   ]
  },
  {
   "cell_type": "code",
   "execution_count": null,
   "id": "continued-suite",
   "metadata": {},
   "outputs": [],
   "source": []
  },
  {
   "cell_type": "code",
   "execution_count": null,
   "id": "modular-democrat",
   "metadata": {},
   "outputs": [],
   "source": [
    "--threads"
   ]
  },
  {
   "cell_type": "markdown",
   "id": "activated-handle",
   "metadata": {},
   "source": [
    "humann2_config --update database_folders utility_mapping /home/junyuchen/Databases/HUMAnN2/utility_mapping\n",
    "humann2_config --update database_folders protein /home/junyuchen/Databases/HUMAnN2/uniref90\n",
    "humann2_config --update database_folders nucleotide /home/junyuchen/Databases/HUMAnN2/chocophlan"
   ]
  },
  {
   "cell_type": "code",
   "execution_count": null,
   "id": "extreme-stuff",
   "metadata": {},
   "outputs": [],
   "source": [
    "humann_config --update database_folders nucleotide $DIR"
   ]
  },
  {
   "cell_type": "code",
   "execution_count": null,
   "id": "signal-revision",
   "metadata": {},
   "outputs": [],
   "source": [
    "humann_config --update database_folders protein $DIR"
   ]
  },
  {
   "cell_type": "code",
   "execution_count": null,
   "id": "fleet-alaska",
   "metadata": {},
   "outputs": [],
   "source": []
  },
  {
   "cell_type": "code",
   "execution_count": null,
   "id": "under-driving",
   "metadata": {},
   "outputs": [],
   "source": [
    "--nucleotide-database"
   ]
  },
  {
   "cell_type": "code",
   "execution_count": null,
   "id": "substantial-affiliation",
   "metadata": {},
   "outputs": [],
   "source": [
    "--protein-database"
   ]
  }
 ],
 "metadata": {
  "kernelspec": {
   "display_name": "Python 3",
   "language": "python",
   "name": "python3"
  },
  "language_info": {
   "codemirror_mode": {
    "name": "ipython",
    "version": 3
   },
   "file_extension": ".py",
   "mimetype": "text/x-python",
   "name": "python",
   "nbconvert_exporter": "python",
   "pygments_lexer": "ipython3",
   "version": "3.8.6"
  }
 },
 "nbformat": 4,
 "nbformat_minor": 5
}
