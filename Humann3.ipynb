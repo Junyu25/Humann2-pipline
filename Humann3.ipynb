{
 "cells": [
  {
   "cell_type": "markdown",
   "id": "figured-brazilian",
   "metadata": {},
   "source": [
    "## HUMAnN 3.0"
   ]
  },
  {
   "cell_type": "markdown",
   "id": "suspended-outreach",
   "metadata": {},
   "source": [
    "### Env"
   ]
  },
  {
   "cell_type": "code",
   "execution_count": null,
   "id": "becoming-civilian",
   "metadata": {},
   "outputs": [],
   "source": [
    "mamba create -n humann3 -c biobakery kneaddata metaphlan humann"
   ]
  },
  {
   "cell_type": "code",
   "execution_count": null,
   "id": "understood-africa",
   "metadata": {},
   "outputs": [],
   "source": [
    "conda install -c biobakery kneaddata"
   ]
  },
  {
   "cell_type": "code",
   "execution_count": null,
   "id": "natural-capacity",
   "metadata": {},
   "outputs": [],
   "source": [
    "conda install -c bioconda metaphlan"
   ]
  },
  {
   "cell_type": "code",
   "execution_count": null,
   "id": "equivalent-concert",
   "metadata": {},
   "outputs": [],
   "source": [
    "conda install -c biobakery humann"
   ]
  },
  {
   "cell_type": "code",
   "execution_count": null,
   "id": "ranking-violence",
   "metadata": {},
   "outputs": [],
   "source": [
    "conda install -c bioconda kraken2"
   ]
  },
  {
   "cell_type": "code",
   "execution_count": null,
   "id": "exceptional-highway",
   "metadata": {},
   "outputs": [],
   "source": [
    "#conda install -c bioconda strainphlan"
   ]
  },
  {
   "cell_type": "code",
   "execution_count": null,
   "id": "formed-vitamin",
   "metadata": {},
   "outputs": [],
   "source": [
    "mamba instal fastqc #kneaddata funtion"
   ]
  },
  {
   "cell_type": "markdown",
   "id": "ordinary-possession",
   "metadata": {},
   "source": [
    "`conda activate /home/hongbinliu/anaconda3/envs/humann3`"
   ]
  },
  {
   "cell_type": "markdown",
   "id": "wooden-kidney",
   "metadata": {},
   "source": [
    "### DB"
   ]
  },
  {
   "cell_type": "code",
   "execution_count": null,
   "id": "decreased-melissa",
   "metadata": {},
   "outputs": [],
   "source": [
    "humann_databases --download chocophlan full $INSTALL_LOCATION"
   ]
  },
  {
   "cell_type": "code",
   "execution_count": null,
   "id": "regulation-moldova",
   "metadata": {},
   "outputs": [],
   "source": [
    "humann_databases --download uniref uniref90_diamond $INSTALL_LOCATION"
   ]
  },
  {
   "cell_type": "markdown",
   "id": "touched-husband",
   "metadata": {},
   "source": [
    "`/home/hongbinliu/humann_dbs/`"
   ]
  },
  {
   "cell_type": "markdown",
   "id": "bound-delaware",
   "metadata": {},
   "source": [
    "### Pipeline update"
   ]
  },
  {
   "cell_type": "code",
   "execution_count": null,
   "id": "statistical-helena",
   "metadata": {},
   "outputs": [],
   "source": []
  },
  {
   "cell_type": "markdown",
   "id": "owned-platform",
   "metadata": {},
   "source": [
    "HUMAnN 3.0 is simply to concatenate all reads into a single FASTA or FASTQ file."
   ]
  },
  {
   "cell_type": "code",
   "execution_count": null,
   "id": "floating-uruguay",
   "metadata": {},
   "outputs": [],
   "source": []
  },
  {
   "cell_type": "code",
   "execution_count": null,
   "id": "silver-genre",
   "metadata": {},
   "outputs": [],
   "source": [
    "--threads"
   ]
  },
  {
   "cell_type": "markdown",
   "id": "featured-timeline",
   "metadata": {},
   "source": [
    "humann2_config --update database_folders utility_mapping /home/junyuchen/Databases/HUMAnN2/utility_mapping\n",
    "humann2_config --update database_folders protein /home/junyuchen/Databases/HUMAnN2/uniref90\n",
    "humann2_config --update database_folders nucleotide /home/junyuchen/Databases/HUMAnN2/chocophlan"
   ]
  },
  {
   "cell_type": "code",
   "execution_count": null,
   "id": "eastern-weight",
   "metadata": {},
   "outputs": [],
   "source": [
    "humann_config --update database_folders nucleotide $DIR"
   ]
  },
  {
   "cell_type": "code",
   "execution_count": null,
   "id": "conceptual-fitting",
   "metadata": {},
   "outputs": [],
   "source": [
    "humann_config --update database_folders protein $DIR"
   ]
  },
  {
   "cell_type": "code",
   "execution_count": null,
   "id": "sufficient-diabetes",
   "metadata": {},
   "outputs": [],
   "source": []
  },
  {
   "cell_type": "code",
   "execution_count": null,
   "id": "occasional-service",
   "metadata": {},
   "outputs": [],
   "source": [
    "--nucleotide-database"
   ]
  },
  {
   "cell_type": "code",
   "execution_count": null,
   "id": "signal-walnut",
   "metadata": {},
   "outputs": [],
   "source": [
    "--protein-database"
   ]
  }
 ],
 "metadata": {
  "kernelspec": {
   "display_name": "Python 3",
   "language": "python",
   "name": "python3"
  },
  "language_info": {
   "codemirror_mode": {
    "name": "ipython",
    "version": 3
   },
   "file_extension": ".py",
   "mimetype": "text/x-python",
   "name": "python",
   "nbconvert_exporter": "python",
   "pygments_lexer": "ipython3",
   "version": "3.8.6"
  }
 },
 "nbformat": 4,
 "nbformat_minor": 5
}
