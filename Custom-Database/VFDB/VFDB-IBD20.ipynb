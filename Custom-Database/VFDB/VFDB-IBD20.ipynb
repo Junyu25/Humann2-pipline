{
 "cells": [
  {
   "cell_type": "markdown",
   "metadata": {},
   "source": [
    "## 20 IBD Sample"
   ]
  },
  {
   "cell_type": "markdown",
   "metadata": {},
   "source": [
    "Ten IBD and 10 healthy individual's fecal microbiomes were determined by NGS sequencing, to identify features that are unique to each group. This was done using shot-gun metagenomics of DNA extracted from fecal samples and run on a HiSeq 2500."
   ]
  },
  {
   "cell_type": "markdown",
   "metadata": {},
   "source": [
    "https://www.ebi.ac.uk/ena/browser/view/PRJEB7949"
   ]
  },
  {
   "cell_type": "code",
   "execution_count": 3,
   "metadata": {},
   "outputs": [
    {
     "name": "stdout",
     "output_type": "stream",
     "text": [
      "ERR695598  ERR695604  ERR695610  ERR695616  ERR695622  ERR695628  ERR695634\n",
      "ERR695599  ERR695605  ERR695611  ERR695617  ERR695623  ERR695629  ERR695635\n",
      "ERR695600  ERR695606  ERR695612  ERR695618  ERR695624  ERR695630  ERR695636\n",
      "ERR695601  ERR695607  ERR695613  ERR695619  ERR695625  ERR695631  ERR695637\n",
      "ERR695602  ERR695608  ERR695614  ERR695620  ERR695626  ERR695632\n",
      "ERR695603  ERR695609  ERR695615  ERR695621  ERR695627  ERR695633\n"
     ]
    }
   ],
   "source": [
    "!ls /mnt/data1/LD_lab/JunyuChen/meta-analysis/data/seq/PRJEB7949"
   ]
  },
  {
   "cell_type": "code",
   "execution_count": 4,
   "metadata": {},
   "outputs": [
    {
     "name": "stdout",
     "output_type": "stream",
     "text": [
      "40\n"
     ]
    }
   ],
   "source": [
    "!ls /mnt/data1/LD_lab/JunyuChen/meta-analysis/data/seq/PRJEB7949 | wc -l"
   ]
  },
  {
   "cell_type": "code",
   "execution_count": null,
   "metadata": {},
   "outputs": [],
   "source": [
    "~/Lab/HUMAnN2-Pipline/fq_sample_table_generate.py"
   ]
  },
  {
   "cell_type": "code",
   "execution_count": 21,
   "metadata": {},
   "outputs": [
    {
     "name": "stdout",
     "output_type": "stream",
     "text": [
      "Usage example with minimum parameters: python /home/yxtan/YT_scripts/fq_sample_table_generate.py -i abs_path_raw_fq_folder\n",
      "/mnt/data1/LD_lab/JunyuChen/meta-analysis/data/seq/PRJEB7949\n",
      "1\n",
      "2\n",
      "_\n",
      "sample_table.txt\n"
     ]
    }
   ],
   "source": [
    "!python ~/Lab/HUMAnN2-Pipline/fq_sample_table_generate.py -i /mnt/data1/LD_lab/JunyuChen/meta-analysis/data/seq/PRJEB7949 -F 1 -R 2"
   ]
  },
  {
   "cell_type": "code",
   "execution_count": null,
   "metadata": {},
   "outputs": [],
   "source": [
    "!head sample_table.txt"
   ]
  },
  {
   "cell_type": "code",
   "execution_count": 23,
   "metadata": {},
   "outputs": [
    {
     "name": "stdout",
     "output_type": "stream",
     "text": [
      "/home/junyuchen/Lab/Custom-DataBase/VFDB\n"
     ]
    }
   ],
   "source": [
    "!pwd"
   ]
  },
  {
   "cell_type": "code",
   "execution_count": null,
   "metadata": {},
   "outputs": [],
   "source": [
    "/home/junyuchen/Lab/Custom-DataBase/VFDB/IBD20/sample_table.txt"
   ]
  },
  {
   "cell_type": "code",
   "execution_count": null,
   "metadata": {},
   "outputs": [],
   "source": [
    "python /home/yxtan/HUMANN2_SOP_scripts/Metagenomics_HUMANN2.py -i /home/junyuchen/Lab/Custom-DataBase/VFDB/IBD20/sample_table.txt -n 4"
   ]
  },
  {
   "cell_type": "code",
   "execution_count": null,
   "metadata": {},
   "outputs": [],
   "source": []
  },
  {
   "cell_type": "markdown",
   "metadata": {},
   "source": [
    "结果"
   ]
  },
  {
   "cell_type": "code",
   "execution_count": 1,
   "metadata": {},
   "outputs": [
    {
     "name": "stdout",
     "output_type": "stream",
     "text": [
      "ERR695598  ERR695603  ERR695607  ERR695623  ERR695627  ERR695633  ERR695637\n",
      "ERR695599  ERR695604  ERR695608  ERR695624  ERR695629  ERR695634\n",
      "ERR695600  ERR695605  ERR695620  ERR695625  ERR695630  ERR695635\n",
      "ERR695602  ERR695606  ERR695622  ERR695626  ERR695632  ERR695636\n"
     ]
    }
   ],
   "source": [
    "!ls ~/Lab/Custom-DataBase/VFDB/IBD20/humann2_out"
   ]
  },
  {
   "cell_type": "code",
   "execution_count": 2,
   "metadata": {},
   "outputs": [
    {
     "name": "stdout",
     "output_type": "stream",
     "text": [
      "25\n"
     ]
    }
   ],
   "source": [
    "%%bash\n",
    "ls ~/Lab/Custom-DataBase/VFDB/IBD20/humann2_out |wc -l"
   ]
  },
  {
   "cell_type": "markdown",
   "metadata": {},
   "source": [
    "少了15个sample"
   ]
  },
  {
   "cell_type": "code",
   "execution_count": 5,
   "metadata": {},
   "outputs": [
    {
     "name": "stdout",
     "output_type": "stream",
     "text": [
      "51\n"
     ]
    }
   ],
   "source": [
    "%%bash\n",
    "grep \"fastq\" ~/Lab/Custom-DataBase/VFDB/IBD20/sample_table.txt | wc -l"
   ]
  },
  {
   "cell_type": "code",
   "execution_count": 5,
   "metadata": {},
   "outputs": [
    {
     "name": "stdout",
     "output_type": "stream",
     "text": [
      "79\n"
     ]
    }
   ],
   "source": [
    "!ls /mnt/data1/LD_lab/JunyuChen/meta-analysis/data/seq/PRJEB7949/*/ | grep \".gz\" | wc -l"
   ]
  },
  {
   "cell_type": "code",
   "execution_count": 6,
   "metadata": {},
   "outputs": [
    {
     "name": "stdout",
     "output_type": "stream",
     "text": [
      "ERR695619_2.fastq.gz  logs\n"
     ]
    }
   ],
   "source": [
    "!ls /mnt/data1/LD_lab/JunyuChen/meta-analysis/data/seq/PRJEB7949/ERR695619"
   ]
  },
  {
   "cell_type": "code",
   "execution_count": null,
   "metadata": {},
   "outputs": [],
   "source": []
  },
  {
   "cell_type": "markdown",
   "metadata": {},
   "source": [
    "ERR695621_1.fastq.gz"
   ]
  },
  {
   "cell_type": "code",
   "execution_count": 7,
   "metadata": {},
   "outputs": [
    {
     "name": "stdout",
     "output_type": "stream",
     "text": [
      "ERR695621_1.fastq.gz  ERR695621_2.fastq.gz  ERR695621_2.fastq.gz.aspx  logs\n"
     ]
    }
   ],
   "source": [
    "!ls /mnt/data1/LD_lab/JunyuChen/meta-analysis/data/seq/PRJEB7949/ERR695621"
   ]
  },
  {
   "cell_type": "markdown",
   "metadata": {},
   "source": [
    "ERR695619_2.fastq.gz"
   ]
  },
  {
   "cell_type": "code",
   "execution_count": 15,
   "metadata": {},
   "outputs": [
    {
     "name": "stdout",
     "output_type": "stream",
     "text": [
      "ERR695619_2.fastq.gz  logs\n"
     ]
    }
   ],
   "source": [
    "!ls /mnt/data1/LD_lab/JunyuChen/meta-analysis/data/seq/PRJEB7949/ERR695619"
   ]
  },
  {
   "cell_type": "markdown",
   "metadata": {},
   "source": [
    "漏下了2个！！！"
   ]
  },
  {
   "cell_type": "markdown",
   "metadata": {},
   "source": [
    "ftp://ftp.sra.ebi.ac.uk/vol1/fastq/ERR695/ERR695621/ERR695621_2.fastq.gz"
   ]
  },
  {
   "cell_type": "markdown",
   "metadata": {},
   "source": [
    "ftp://ftp.sra.ebi.ac.uk/vol1/fastq/ERR695/ERR695619/ERR695619_1.fastq.gz"
   ]
  },
  {
   "cell_type": "code",
   "execution_count": null,
   "metadata": {},
   "outputs": [],
   "source": [
    "ascp -v -k 1 -T -l 200m -P 33001 -i /home/junyuchen/Biosoft/anaconda3/etc/asperaweb_id_dsa.openssh era-fasp@fasp.sra.ebi.ac.uk:/vol1/fastq/ERR695/ERR695619/ERR695619_1.fastq.gz ./"
   ]
  },
  {
   "cell_type": "code",
   "execution_count": null,
   "metadata": {},
   "outputs": [],
   "source": [
    "ascp -v -k 1 -T -l 200m -P 33001 -i /home/junyuchen/Biosoft/anaconda3/etc/asperaweb_id_dsa.openssh era-fasp@fasp.sra.ebi.ac.uk:/vol1/fastq/ERR695/ERR695621/ERR695621_2.fastq.gz ./"
   ]
  },
  {
   "cell_type": "code",
   "execution_count": null,
   "metadata": {},
   "outputs": [],
   "source": [
    "python ~/Lab/HUMAnN2-Pipline/fq_sample_table_generate.py -i /mnt/data1/LD_lab/JunyuChen/meta-analysis/data/seq/PRJEB7949 -F 1 -R 2"
   ]
  },
  {
   "cell_type": "code",
   "execution_count": null,
   "metadata": {},
   "outputs": [],
   "source": []
  },
  {
   "cell_type": "markdown",
   "metadata": {},
   "source": [
    "### 计数"
   ]
  },
  {
   "cell_type": "code",
   "execution_count": 14,
   "metadata": {
    "collapsed": true,
    "jupyter": {
     "outputs_hidden": true
    }
   },
   "outputs": [
    {
     "name": "stdout",
     "output_type": "stream",
     "text": [
      "ERR695628_1.fastq.gz\n",
      "ERR695628_2.fastq.gz\n",
      "ERR695609_1.fastq.gz\n",
      "ERR695609_2.fastq.gz\n",
      "ERR695627_2.fastq.gz\n",
      "ERR695627_1.fastq.gz\n",
      "ERR695598_1.fastq.gz\n",
      "ERR695598_2.fastq.gz\n",
      "ERR695607_1.fastq.gz\n",
      "ERR695607_2.fastq.gz\n",
      "ERR695617_1.fastq.gz\n",
      "ERR695617_2.fastq.gz\n",
      "ERR695612_1.fastq.gz\n",
      "ERR695612_2.fastq.gz\n",
      "ERR695615_2.fastq.gz\n",
      "ERR695615_1.fastq.gz\n",
      "ERR695602_2.fastq.gz\n",
      "ERR695602_1.fastq.gz\n",
      "ERR695622_2.fastq.gz\n",
      "ERR695622_1.fastq.gz\n",
      "ERR695618_2.fastq.gz\n",
      "ERR695618_1.fastq.gz\n",
      "ERR695608_1.fastq.gz\n",
      "ERR695608_2.fastq.gz\n",
      "ERR695621_1.fastq.gz\n",
      "ERR695621_2.fastq.gz\n",
      "ERR695614_1.fastq.gz\n",
      "ERR695614_2.fastq.gz\n",
      "ERR695613_2.fastq.gz\n",
      "ERR695613_1.fastq.gz\n",
      "ERR695634_1.fastq.gz\n",
      "ERR695634_2.fastq.gz\n",
      "ERR695630_2.fastq.gz\n",
      "ERR695630_1.fastq.gz\n",
      "ERR695601_1.fastq.gz\n",
      "ERR695601_2.fastq.gz\n",
      "ERR695600_2.fastq.gz\n",
      "ERR695600_1.fastq.gz\n",
      "ERR695633_1.fastq.gz\n",
      "ERR695633_2.fastq.gz\n",
      "ERR695629_2.fastq.gz\n",
      "ERR695629_1.fastq.gz\n",
      "ERR695624_1.fastq.gz\n",
      "ERR695624_2.fastq.gz\n",
      "ERR695599_1.fastq.gz\n",
      "ERR695599_2.fastq.gz\n",
      "ERR695611_1.fastq.gz\n",
      "ERR695611_2.fastq.gz\n",
      "ERR695620_1.fastq.gz\n",
      "ERR695620_2.fastq.gz\n",
      "ERR695605_2.fastq.gz\n",
      "ERR695605_1.fastq.gz\n",
      "ERR695626_2.fastq.gz\n",
      "ERR695626_1.fastq.gz\n",
      "ERR695637_2.fastq.gz\n",
      "ERR695637_1.fastq.gz\n",
      "ERR695619_2.fastq.gz\n",
      "ERR695619_1.fastq.gz\n",
      "ERR695631_2.fastq.gz\n",
      "ERR695631_1.fastq.gz\n",
      "ERR695623_1.fastq.gz\n",
      "ERR695623_2.fastq.gz\n",
      "ERR695603_2.fastq.gz\n",
      "ERR695603_1.fastq.gz\n",
      "ERR695635_2.fastq.gz\n",
      "ERR695635_1.fastq.gz\n",
      "ERR695625_2.fastq.gz\n",
      "ERR695625_1.fastq.gz\n",
      "ERR695610_1.fastq.gz\n",
      "ERR695610_2.fastq.gz\n",
      "ERR695604_1.fastq.gz\n",
      "ERR695604_2.fastq.gz\n",
      "ERR695632_2.fastq.gz\n",
      "ERR695632_1.fastq.gz\n",
      "ERR695606_1.fastq.gz\n",
      "ERR695606_2.fastq.gz\n",
      "ERR695616_2.fastq.gz\n",
      "ERR695616_1.fastq.gz\n",
      "ERR695636_2.fastq.gz\n",
      "ERR695636_1.fastq.gz\n"
     ]
    }
   ],
   "source": [
    "import os\n",
    "rd_dir1 = \"/mnt/data1/LD_lab/JunyuChen/meta-analysis/data/seq/PRJEB7949\"\n",
    "path = []\n",
    "for root,dirs,files in os.walk(rd_dir1):\n",
    "    #print(dirs)\n",
    "    #print(dirs)\n",
    "    for tempFile in files:\n",
    "        #print(dirs)\n",
    "        if \"fastq.gz\" in tempFile:\n",
    "            #print(root)\n",
    "            #print(dirs)\n",
    "            print(tempFile)\n",
    "            path.append(os.path.join(tempFile))\n",
    "            "
   ]
  },
  {
   "cell_type": "code",
   "execution_count": 15,
   "metadata": {},
   "outputs": [
    {
     "data": {
      "text/plain": [
       "80"
      ]
     },
     "execution_count": 15,
     "metadata": {},
     "output_type": "execute_result"
    }
   ],
   "source": [
    "len(path)"
   ]
  },
  {
   "cell_type": "code",
   "execution_count": null,
   "metadata": {},
   "outputs": [],
   "source": []
  },
  {
   "cell_type": "code",
   "execution_count": 16,
   "metadata": {
    "collapsed": true,
    "jupyter": {
     "outputs_hidden": true
    }
   },
   "outputs": [
    {
     "name": "stdout",
     "output_type": "stream",
     "text": [
      "ERR695628\n",
      "/mnt/data1/LD_lab/JunyuChen/meta-analysis/data/seq/PRJEB7949/ERR695628/ERR695628_1.fastq.gz\n",
      "/mnt/data1/LD_lab/JunyuChen/meta-analysis/data/seq/PRJEB7949/ERR695628/ERR695628_2.fastq.gz\n",
      "ERR695609\n",
      "/mnt/data1/LD_lab/JunyuChen/meta-analysis/data/seq/PRJEB7949/ERR695609/ERR695609_1.fastq.gz\n",
      "/mnt/data1/LD_lab/JunyuChen/meta-analysis/data/seq/PRJEB7949/ERR695609/ERR695609_2.fastq.gz\n",
      "ERR695627\n",
      "/mnt/data1/LD_lab/JunyuChen/meta-analysis/data/seq/PRJEB7949/ERR695627/ERR695627_2.fastq.gz\n",
      "/mnt/data1/LD_lab/JunyuChen/meta-analysis/data/seq/PRJEB7949/ERR695627/ERR695627_1.fastq.gz\n",
      "ERR695598\n",
      "/mnt/data1/LD_lab/JunyuChen/meta-analysis/data/seq/PRJEB7949/ERR695598/ERR695598_1.fastq.gz\n",
      "/mnt/data1/LD_lab/JunyuChen/meta-analysis/data/seq/PRJEB7949/ERR695598/ERR695598_2.fastq.gz\n",
      "ERR695607\n",
      "/mnt/data1/LD_lab/JunyuChen/meta-analysis/data/seq/PRJEB7949/ERR695607/ERR695607_1.fastq.gz\n",
      "/mnt/data1/LD_lab/JunyuChen/meta-analysis/data/seq/PRJEB7949/ERR695607/ERR695607_2.fastq.gz\n",
      "ERR695617\n",
      "/mnt/data1/LD_lab/JunyuChen/meta-analysis/data/seq/PRJEB7949/ERR695617/ERR695617_1.fastq.gz\n",
      "/mnt/data1/LD_lab/JunyuChen/meta-analysis/data/seq/PRJEB7949/ERR695617/ERR695617_2.fastq.gz\n",
      "ERR695612\n",
      "/mnt/data1/LD_lab/JunyuChen/meta-analysis/data/seq/PRJEB7949/ERR695612/ERR695612_1.fastq.gz\n",
      "/mnt/data1/LD_lab/JunyuChen/meta-analysis/data/seq/PRJEB7949/ERR695612/ERR695612_2.fastq.gz\n",
      "ERR695615\n",
      "/mnt/data1/LD_lab/JunyuChen/meta-analysis/data/seq/PRJEB7949/ERR695615/ERR695615_2.fastq.gz\n",
      "/mnt/data1/LD_lab/JunyuChen/meta-analysis/data/seq/PRJEB7949/ERR695615/ERR695615_1.fastq.gz\n",
      "ERR695602\n",
      "/mnt/data1/LD_lab/JunyuChen/meta-analysis/data/seq/PRJEB7949/ERR695602/ERR695602_2.fastq.gz\n",
      "/mnt/data1/LD_lab/JunyuChen/meta-analysis/data/seq/PRJEB7949/ERR695602/ERR695602_1.fastq.gz\n",
      "ERR695622\n",
      "/mnt/data1/LD_lab/JunyuChen/meta-analysis/data/seq/PRJEB7949/ERR695622/ERR695622_2.fastq.gz\n",
      "/mnt/data1/LD_lab/JunyuChen/meta-analysis/data/seq/PRJEB7949/ERR695622/ERR695622_1.fastq.gz\n",
      "ERR695618\n",
      "/mnt/data1/LD_lab/JunyuChen/meta-analysis/data/seq/PRJEB7949/ERR695618/ERR695618_2.fastq.gz\n",
      "/mnt/data1/LD_lab/JunyuChen/meta-analysis/data/seq/PRJEB7949/ERR695618/ERR695618_1.fastq.gz\n",
      "ERR695608\n",
      "/mnt/data1/LD_lab/JunyuChen/meta-analysis/data/seq/PRJEB7949/ERR695608/ERR695608_1.fastq.gz\n",
      "/mnt/data1/LD_lab/JunyuChen/meta-analysis/data/seq/PRJEB7949/ERR695608/ERR695608_2.fastq.gz\n",
      "ERR695621\n",
      "/mnt/data1/LD_lab/JunyuChen/meta-analysis/data/seq/PRJEB7949/ERR695621/ERR695621_1.fastq.gz\n",
      "/mnt/data1/LD_lab/JunyuChen/meta-analysis/data/seq/PRJEB7949/ERR695621/ERR695621_2.fastq.gz\n",
      "ERR695614\n",
      "/mnt/data1/LD_lab/JunyuChen/meta-analysis/data/seq/PRJEB7949/ERR695614/ERR695614_1.fastq.gz\n",
      "/mnt/data1/LD_lab/JunyuChen/meta-analysis/data/seq/PRJEB7949/ERR695614/ERR695614_2.fastq.gz\n",
      "ERR695613\n",
      "/mnt/data1/LD_lab/JunyuChen/meta-analysis/data/seq/PRJEB7949/ERR695613/ERR695613_2.fastq.gz\n",
      "/mnt/data1/LD_lab/JunyuChen/meta-analysis/data/seq/PRJEB7949/ERR695613/ERR695613_1.fastq.gz\n",
      "ERR695634\n",
      "/mnt/data1/LD_lab/JunyuChen/meta-analysis/data/seq/PRJEB7949/ERR695634/ERR695634_1.fastq.gz\n",
      "/mnt/data1/LD_lab/JunyuChen/meta-analysis/data/seq/PRJEB7949/ERR695634/ERR695634_2.fastq.gz\n",
      "ERR695630\n",
      "/mnt/data1/LD_lab/JunyuChen/meta-analysis/data/seq/PRJEB7949/ERR695630/ERR695630_2.fastq.gz\n",
      "/mnt/data1/LD_lab/JunyuChen/meta-analysis/data/seq/PRJEB7949/ERR695630/ERR695630_1.fastq.gz\n",
      "ERR695601\n",
      "/mnt/data1/LD_lab/JunyuChen/meta-analysis/data/seq/PRJEB7949/ERR695601/ERR695601_1.fastq.gz\n",
      "/mnt/data1/LD_lab/JunyuChen/meta-analysis/data/seq/PRJEB7949/ERR695601/ERR695601_2.fastq.gz\n",
      "ERR695600\n",
      "/mnt/data1/LD_lab/JunyuChen/meta-analysis/data/seq/PRJEB7949/ERR695600/ERR695600_2.fastq.gz\n",
      "/mnt/data1/LD_lab/JunyuChen/meta-analysis/data/seq/PRJEB7949/ERR695600/ERR695600_1.fastq.gz\n",
      "ERR695633\n",
      "/mnt/data1/LD_lab/JunyuChen/meta-analysis/data/seq/PRJEB7949/ERR695633/ERR695633_1.fastq.gz\n",
      "/mnt/data1/LD_lab/JunyuChen/meta-analysis/data/seq/PRJEB7949/ERR695633/ERR695633_2.fastq.gz\n",
      "ERR695629\n",
      "/mnt/data1/LD_lab/JunyuChen/meta-analysis/data/seq/PRJEB7949/ERR695629/ERR695629_2.fastq.gz\n",
      "/mnt/data1/LD_lab/JunyuChen/meta-analysis/data/seq/PRJEB7949/ERR695629/ERR695629_1.fastq.gz\n",
      "ERR695624\n",
      "/mnt/data1/LD_lab/JunyuChen/meta-analysis/data/seq/PRJEB7949/ERR695624/ERR695624_1.fastq.gz\n",
      "/mnt/data1/LD_lab/JunyuChen/meta-analysis/data/seq/PRJEB7949/ERR695624/ERR695624_2.fastq.gz\n",
      "ERR695599\n",
      "/mnt/data1/LD_lab/JunyuChen/meta-analysis/data/seq/PRJEB7949/ERR695599/ERR695599_1.fastq.gz\n",
      "/mnt/data1/LD_lab/JunyuChen/meta-analysis/data/seq/PRJEB7949/ERR695599/ERR695599_2.fastq.gz\n",
      "ERR695611\n",
      "/mnt/data1/LD_lab/JunyuChen/meta-analysis/data/seq/PRJEB7949/ERR695611/ERR695611_1.fastq.gz\n",
      "/mnt/data1/LD_lab/JunyuChen/meta-analysis/data/seq/PRJEB7949/ERR695611/ERR695611_2.fastq.gz\n",
      "ERR695620\n",
      "/mnt/data1/LD_lab/JunyuChen/meta-analysis/data/seq/PRJEB7949/ERR695620/ERR695620_1.fastq.gz\n",
      "/mnt/data1/LD_lab/JunyuChen/meta-analysis/data/seq/PRJEB7949/ERR695620/ERR695620_2.fastq.gz\n",
      "ERR695605\n",
      "/mnt/data1/LD_lab/JunyuChen/meta-analysis/data/seq/PRJEB7949/ERR695605/ERR695605_2.fastq.gz\n",
      "/mnt/data1/LD_lab/JunyuChen/meta-analysis/data/seq/PRJEB7949/ERR695605/ERR695605_1.fastq.gz\n",
      "ERR695626\n",
      "/mnt/data1/LD_lab/JunyuChen/meta-analysis/data/seq/PRJEB7949/ERR695626/ERR695626_2.fastq.gz\n",
      "/mnt/data1/LD_lab/JunyuChen/meta-analysis/data/seq/PRJEB7949/ERR695626/ERR695626_1.fastq.gz\n",
      "ERR695637\n",
      "/mnt/data1/LD_lab/JunyuChen/meta-analysis/data/seq/PRJEB7949/ERR695637/ERR695637_2.fastq.gz\n",
      "/mnt/data1/LD_lab/JunyuChen/meta-analysis/data/seq/PRJEB7949/ERR695637/ERR695637_1.fastq.gz\n",
      "ERR695619\n",
      "/mnt/data1/LD_lab/JunyuChen/meta-analysis/data/seq/PRJEB7949/ERR695619/ERR695619_2.fastq.gz\n",
      "/mnt/data1/LD_lab/JunyuChen/meta-analysis/data/seq/PRJEB7949/ERR695619/ERR695619_1.fastq.gz\n",
      "ERR695631\n",
      "/mnt/data1/LD_lab/JunyuChen/meta-analysis/data/seq/PRJEB7949/ERR695631/ERR695631_2.fastq.gz\n",
      "/mnt/data1/LD_lab/JunyuChen/meta-analysis/data/seq/PRJEB7949/ERR695631/ERR695631_1.fastq.gz\n",
      "ERR695623\n",
      "/mnt/data1/LD_lab/JunyuChen/meta-analysis/data/seq/PRJEB7949/ERR695623/ERR695623_1.fastq.gz\n",
      "/mnt/data1/LD_lab/JunyuChen/meta-analysis/data/seq/PRJEB7949/ERR695623/ERR695623_2.fastq.gz\n",
      "ERR695603\n",
      "/mnt/data1/LD_lab/JunyuChen/meta-analysis/data/seq/PRJEB7949/ERR695603/ERR695603_2.fastq.gz\n",
      "/mnt/data1/LD_lab/JunyuChen/meta-analysis/data/seq/PRJEB7949/ERR695603/ERR695603_1.fastq.gz\n",
      "ERR695635\n",
      "/mnt/data1/LD_lab/JunyuChen/meta-analysis/data/seq/PRJEB7949/ERR695635/ERR695635_2.fastq.gz\n",
      "/mnt/data1/LD_lab/JunyuChen/meta-analysis/data/seq/PRJEB7949/ERR695635/ERR695635_1.fastq.gz\n",
      "ERR695625\n",
      "/mnt/data1/LD_lab/JunyuChen/meta-analysis/data/seq/PRJEB7949/ERR695625/ERR695625_2.fastq.gz\n",
      "/mnt/data1/LD_lab/JunyuChen/meta-analysis/data/seq/PRJEB7949/ERR695625/ERR695625_1.fastq.gz\n",
      "ERR695610\n",
      "/mnt/data1/LD_lab/JunyuChen/meta-analysis/data/seq/PRJEB7949/ERR695610/ERR695610_1.fastq.gz\n",
      "/mnt/data1/LD_lab/JunyuChen/meta-analysis/data/seq/PRJEB7949/ERR695610/ERR695610_2.fastq.gz\n",
      "ERR695604\n",
      "/mnt/data1/LD_lab/JunyuChen/meta-analysis/data/seq/PRJEB7949/ERR695604/ERR695604_1.fastq.gz\n",
      "/mnt/data1/LD_lab/JunyuChen/meta-analysis/data/seq/PRJEB7949/ERR695604/ERR695604_2.fastq.gz\n",
      "ERR695632\n",
      "/mnt/data1/LD_lab/JunyuChen/meta-analysis/data/seq/PRJEB7949/ERR695632/ERR695632_2.fastq.gz\n",
      "/mnt/data1/LD_lab/JunyuChen/meta-analysis/data/seq/PRJEB7949/ERR695632/ERR695632_1.fastq.gz\n",
      "ERR695606\n",
      "/mnt/data1/LD_lab/JunyuChen/meta-analysis/data/seq/PRJEB7949/ERR695606/ERR695606_1.fastq.gz\n",
      "/mnt/data1/LD_lab/JunyuChen/meta-analysis/data/seq/PRJEB7949/ERR695606/ERR695606_2.fastq.gz\n",
      "ERR695616\n",
      "/mnt/data1/LD_lab/JunyuChen/meta-analysis/data/seq/PRJEB7949/ERR695616/ERR695616_2.fastq.gz\n",
      "/mnt/data1/LD_lab/JunyuChen/meta-analysis/data/seq/PRJEB7949/ERR695616/ERR695616_1.fastq.gz\n",
      "ERR695636\n",
      "/mnt/data1/LD_lab/JunyuChen/meta-analysis/data/seq/PRJEB7949/ERR695636/ERR695636_2.fastq.gz\n",
      "/mnt/data1/LD_lab/JunyuChen/meta-analysis/data/seq/PRJEB7949/ERR695636/ERR695636_1.fastq.gz\n"
     ]
    }
   ],
   "source": [
    "import os\n",
    "import pandas as pd\n",
    "\n",
    "path = pd.DataFrame()\n",
    "#project = \"/home/junyuchen/Lab/Meta-Analysis/DataDownload/data/PRJEB23207\"\n",
    "project = rd_dir1\n",
    "for run in os.listdir(project):\n",
    "    #panda run column\n",
    "    print(run)\n",
    "    \n",
    "    for fastq in os.listdir(os.path.join(project, run)):\n",
    "        if fastq.endswith(\"1.fastq.gz\"):\n",
    "            f1 = os.path.join(project, run, fastq)\n",
    "            print(f1)\n",
    "            #add to pandas run column\n",
    "        elif fastq.endswith(\"2.fastq.gz\"):\n",
    "            r2 = os.path.join(project, run, fastq)\n",
    "            print(r2)\n",
    "    path = path.append({'#SampleID':str(run), \"forward-absolute-filepath\":str(f1), \"reverse-absolute-filepath\":str(r2)}, ignore_index=True)\n",
    "\n",
    "path.to_csv(\"PathTable.tsv\", sep=\"\\t\", index=False, encoding = \"utf-8\")\n",
    "    "
   ]
  },
  {
   "cell_type": "code",
   "execution_count": 17,
   "metadata": {
    "collapsed": true,
    "jupyter": {
     "outputs_hidden": true
    }
   },
   "outputs": [
    {
     "name": "stdout",
     "output_type": "stream",
     "text": [
      "/mnt/data1/LD_lab/JunyuChen/meta-analysis/data/seq/PRJEB7949/ERR695598/:\n",
      "total 1.9G\n",
      "drwxr-xr-x  3 junyuchen users 4.0K Dec 19 21:05 .\n",
      "drwxr-xr-x 42 junyuchen users 4.0K Dec 20 17:19 ..\n",
      "-rw-r--r--  1 junyuchen users 938M Dec 19 21:05 ERR695598_1.fastq.gz\n",
      "-rw-r--r--  1 junyuchen users 971M Dec 19 21:14 ERR695598_2.fastq.gz\n",
      "drwxr-xr-x  2 junyuchen users 4.0K Dec 19 20:56 logs\n",
      "\n",
      "/mnt/data1/LD_lab/JunyuChen/meta-analysis/data/seq/PRJEB7949/ERR695599/:\n",
      "total 2.2G\n",
      "drwxr-xr-x  3 junyuchen users 4.0K Dec 19 21:26 .\n",
      "drwxr-xr-x 42 junyuchen users 4.0K Dec 20 17:19 ..\n",
      "-rw-r--r--  1 junyuchen users 1.1G Dec 19 21:26 ERR695599_1.fastq.gz\n",
      "-rw-r--r--  1 junyuchen users 1.2G Dec 19 21:37 ERR695599_2.fastq.gz\n",
      "drwxr-xr-x  2 junyuchen users 4.0K Dec 19 21:14 logs\n",
      "\n",
      "/mnt/data1/LD_lab/JunyuChen/meta-analysis/data/seq/PRJEB7949/ERR695600/:\n",
      "total 2.3G\n",
      "drwxr-xr-x  3 junyuchen users 4.0K Dec 19 21:48 .\n",
      "drwxr-xr-x 42 junyuchen users 4.0K Dec 20 17:19 ..\n",
      "-rw-r--r--  1 junyuchen users 1.1G Dec 19 21:48 ERR695600_1.fastq.gz\n",
      "-rw-r--r--  1 junyuchen users 1.2G Dec 19 22:00 ERR695600_2.fastq.gz\n",
      "drwxr-xr-x  2 junyuchen users 4.0K Dec 19 21:37 logs\n",
      "\n",
      "/mnt/data1/LD_lab/JunyuChen/meta-analysis/data/seq/PRJEB7949/ERR695601/:\n",
      "total 2.7G\n",
      "drwxr-xr-x  3 junyuchen users 4.0K Dec 19 22:15 .\n",
      "drwxr-xr-x 42 junyuchen users 4.0K Dec 20 17:19 ..\n",
      "-rw-r--r--  1 junyuchen users 1.3G Dec 19 22:15 ERR695601_1.fastq.gz\n",
      "-rw-r--r--  1 junyuchen users 1.4G Dec 19 22:28 ERR695601_2.fastq.gz\n",
      "drwxr-xr-x  2 junyuchen users 4.0K Dec 19 22:01 logs\n",
      "\n",
      "/mnt/data1/LD_lab/JunyuChen/meta-analysis/data/seq/PRJEB7949/ERR695602/:\n",
      "total 2.5G\n",
      "drwxr-xr-x  3 junyuchen users 4.0K Dec 19 22:40 .\n",
      "drwxr-xr-x 42 junyuchen users 4.0K Dec 20 17:19 ..\n",
      "-rw-r--r--  1 junyuchen users 1.2G Dec 19 22:40 ERR695602_1.fastq.gz\n",
      "-rw-r--r--  1 junyuchen users 1.3G Dec 19 22:52 ERR695602_2.fastq.gz\n",
      "drwxr-xr-x  2 junyuchen users 4.0K Dec 19 22:28 logs\n",
      "\n",
      "/mnt/data1/LD_lab/JunyuChen/meta-analysis/data/seq/PRJEB7949/ERR695603/:\n",
      "total 2.5G\n",
      "drwxr-xr-x  3 junyuchen users 4.0K Dec 19 23:05 .\n",
      "drwxr-xr-x 42 junyuchen users 4.0K Dec 20 17:19 ..\n",
      "-rw-r--r--  1 junyuchen users 1.2G Dec 19 23:04 ERR695603_1.fastq.gz\n",
      "-rw-r--r--  1 junyuchen users 1.3G Dec 19 23:17 ERR695603_2.fastq.gz\n",
      "drwxr-xr-x  2 junyuchen users 4.0K Dec 19 22:52 logs\n",
      "\n",
      "/mnt/data1/LD_lab/JunyuChen/meta-analysis/data/seq/PRJEB7949/ERR695604/:\n",
      "total 2.8G\n",
      "drwxr-xr-x  3 junyuchen users 4.0K Dec 19 23:31 .\n",
      "drwxr-xr-x 42 junyuchen users 4.0K Dec 20 17:19 ..\n",
      "-rw-r--r--  1 junyuchen users 1.4G Dec 19 23:31 ERR695604_1.fastq.gz\n",
      "-rw-r--r--  1 junyuchen users 1.5G Dec 19 23:46 ERR695604_2.fastq.gz\n",
      "drwxr-xr-x  2 junyuchen users 4.0K Dec 19 23:17 logs\n",
      "\n",
      "/mnt/data1/LD_lab/JunyuChen/meta-analysis/data/seq/PRJEB7949/ERR695605/:\n",
      "total 2.8G\n",
      "drwxr-xr-x  3 junyuchen users 4.0K Dec 20 00:01 .\n",
      "drwxr-xr-x 42 junyuchen users 4.0K Dec 20 17:19 ..\n",
      "-rw-r--r--  1 junyuchen users 1.4G Dec 20 00:01 ERR695605_1.fastq.gz\n",
      "-rw-r--r--  1 junyuchen users 1.5G Dec 20 00:15 ERR695605_2.fastq.gz\n",
      "drwxr-xr-x  2 junyuchen users 4.0K Dec 19 23:46 logs\n",
      "\n",
      "/mnt/data1/LD_lab/JunyuChen/meta-analysis/data/seq/PRJEB7949/ERR695606/:\n",
      "total 1.9G\n",
      "drwxr-xr-x  3 junyuchen users 4.0K Dec 20 00:25 .\n",
      "drwxr-xr-x 42 junyuchen users 4.0K Dec 20 17:19 ..\n",
      "-rw-r--r--  1 junyuchen users 973M Dec 20 00:25 ERR695606_1.fastq.gz\n",
      "-rw-r--r--  1 junyuchen users 951M Dec 20 00:35 ERR695606_2.fastq.gz\n",
      "drwxr-xr-x  2 junyuchen users 4.0K Dec 20 00:15 logs\n",
      "\n",
      "/mnt/data1/LD_lab/JunyuChen/meta-analysis/data/seq/PRJEB7949/ERR695607/:\n",
      "total 1.9G\n",
      "drwxr-xr-x  3 junyuchen users 4.0K Dec 20 00:46 .\n",
      "drwxr-xr-x 42 junyuchen users 4.0K Dec 20 17:19 ..\n",
      "-rw-r--r--  1 junyuchen users 981M Dec 20 00:45 ERR695607_1.fastq.gz\n",
      "-rw-r--r--  1 junyuchen users 960M Dec 20 00:56 ERR695607_2.fastq.gz\n",
      "drwxr-xr-x  2 junyuchen users 4.0K Dec 20 00:35 logs\n",
      "\n",
      "/mnt/data1/LD_lab/JunyuChen/meta-analysis/data/seq/PRJEB7949/ERR695608/:\n",
      "total 3.1G\n",
      "drwxr-xr-x  3 junyuchen users 4.0K Dec 20 01:12 .\n",
      "drwxr-xr-x 42 junyuchen users 4.0K Dec 20 17:19 ..\n",
      "-rw-r--r--  1 junyuchen users 1.6G Dec 20 01:12 ERR695608_1.fastq.gz\n",
      "-rw-r--r--  1 junyuchen users 1.6G Dec 20 01:27 ERR695608_2.fastq.gz\n",
      "drwxr-xr-x  2 junyuchen users 4.0K Dec 20 00:56 logs\n",
      "\n",
      "/mnt/data1/LD_lab/JunyuChen/meta-analysis/data/seq/PRJEB7949/ERR695609/:\n",
      "total 3.1G\n",
      "drwxr-xr-x  3 junyuchen users 4.0K Dec 20 01:43 .\n",
      "drwxr-xr-x 42 junyuchen users 4.0K Dec 20 17:19 ..\n",
      "-rw-r--r--  1 junyuchen users 1.6G Dec 20 01:43 ERR695609_1.fastq.gz\n",
      "-rw-r--r--  1 junyuchen users 1.6G Dec 20 01:59 ERR695609_2.fastq.gz\n",
      "drwxr-xr-x  2 junyuchen users 4.0K Dec 20 01:28 logs\n",
      "\n",
      "/mnt/data1/LD_lab/JunyuChen/meta-analysis/data/seq/PRJEB7949/ERR695610/:\n",
      "total 2.4G\n",
      "drwxr-xr-x  3 junyuchen users 4.0K Dec 20 02:11 .\n",
      "drwxr-xr-x 42 junyuchen users 4.0K Dec 20 17:19 ..\n",
      "-rw-r--r--  1 junyuchen users 1.2G Dec 20 02:10 ERR695610_1.fastq.gz\n",
      "-rw-r--r--  1 junyuchen users 1.2G Dec 20 02:23 ERR695610_2.fastq.gz\n",
      "drwxr-xr-x  2 junyuchen users 4.0K Dec 20 01:59 logs\n",
      "\n",
      "/mnt/data1/LD_lab/JunyuChen/meta-analysis/data/seq/PRJEB7949/ERR695611/:\n",
      "total 2.4G\n",
      "drwxr-xr-x  3 junyuchen users 4.0K Dec 20 02:35 .\n",
      "drwxr-xr-x 42 junyuchen users 4.0K Dec 20 17:19 ..\n",
      "-rw-r--r--  1 junyuchen users 1.2G Dec 20 02:35 ERR695611_1.fastq.gz\n",
      "-rw-r--r--  1 junyuchen users 1.2G Dec 20 02:47 ERR695611_2.fastq.gz\n",
      "drwxr-xr-x  2 junyuchen users 4.0K Dec 20 02:23 logs\n",
      "\n",
      "/mnt/data1/LD_lab/JunyuChen/meta-analysis/data/seq/PRJEB7949/ERR695612/:\n",
      "total 1.3G\n",
      "drwxr-xr-x  3 junyuchen users 4.0K Dec 20 02:55 .\n",
      "drwxr-xr-x 42 junyuchen users 4.0K Dec 20 17:19 ..\n",
      "-rw-r--r--  1 junyuchen users 645M Dec 20 02:55 ERR695612_1.fastq.gz\n",
      "-rw-r--r--  1 junyuchen users 591M Dec 20 03:01 ERR695612_2.fastq.gz\n",
      "drwxr-xr-x  2 junyuchen users 4.0K Dec 20 02:48 logs\n",
      "\n",
      "/mnt/data1/LD_lab/JunyuChen/meta-analysis/data/seq/PRJEB7949/ERR695613/:\n",
      "total 1.3G\n",
      "drwxr-xr-x  3 junyuchen users 4.0K Dec 20 03:07 .\n",
      "drwxr-xr-x 42 junyuchen users 4.0K Dec 20 17:19 ..\n",
      "-rw-r--r--  1 junyuchen users 654M Dec 20 03:07 ERR695613_1.fastq.gz\n",
      "-rw-r--r--  1 junyuchen users 599M Dec 20 03:13 ERR695613_2.fastq.gz\n",
      "drwxr-xr-x  2 junyuchen users 4.0K Dec 20 03:01 logs\n",
      "\n",
      "/mnt/data1/LD_lab/JunyuChen/meta-analysis/data/seq/PRJEB7949/ERR695614/:\n",
      "total 2.1G\n",
      "drwxr-xr-x  3 junyuchen users 4.0K Dec 20 03:24 .\n",
      "drwxr-xr-x 42 junyuchen users 4.0K Dec 20 17:19 ..\n",
      "-rw-r--r--  1 junyuchen users 1.1G Dec 20 03:24 ERR695614_1.fastq.gz\n",
      "-rw-r--r--  1 junyuchen users 1.1G Dec 20 03:34 ERR695614_2.fastq.gz\n",
      "drwxr-xr-x  2 junyuchen users 4.0K Dec 20 03:13 logs\n",
      "\n",
      "/mnt/data1/LD_lab/JunyuChen/meta-analysis/data/seq/PRJEB7949/ERR695615/:\n",
      "total 2.1G\n",
      "drwxr-xr-x  3 junyuchen users 4.0K Dec 20 03:45 .\n",
      "drwxr-xr-x 42 junyuchen users 4.0K Dec 20 17:19 ..\n",
      "-rw-r--r--  1 junyuchen users 1.1G Dec 20 03:44 ERR695615_1.fastq.gz\n",
      "-rw-r--r--  1 junyuchen users 1.1G Dec 20 03:55 ERR695615_2.fastq.gz\n",
      "drwxr-xr-x  2 junyuchen users 4.0K Dec 20 03:34 logs\n",
      "\n",
      "/mnt/data1/LD_lab/JunyuChen/meta-analysis/data/seq/PRJEB7949/ERR695616/:\n",
      "total 2.4G\n",
      "drwxr-xr-x  3 junyuchen users 4.0K Dec 20 04:07 .\n",
      "drwxr-xr-x 42 junyuchen users 4.0K Dec 20 17:19 ..\n",
      "-rw-r--r--  1 junyuchen users 1.2G Dec 20 04:07 ERR695616_1.fastq.gz\n",
      "-rw-r--r--  1 junyuchen users 1.2G Dec 20 04:19 ERR695616_2.fastq.gz\n",
      "drwxr-xr-x  2 junyuchen users 4.0K Dec 20 03:55 logs\n",
      "\n",
      "/mnt/data1/LD_lab/JunyuChen/meta-analysis/data/seq/PRJEB7949/ERR695617/:\n",
      "total 2.4G\n",
      "drwxr-xr-x  3 junyuchen users 4.0K Dec 20 04:34 .\n",
      "drwxr-xr-x 42 junyuchen users 4.0K Dec 20 17:19 ..\n",
      "-rw-r--r--  1 junyuchen users 1.2G Dec 20 04:34 ERR695617_1.fastq.gz\n",
      "-rw-r--r--  1 junyuchen users 1.2G Dec 20 04:52 ERR695617_2.fastq.gz\n",
      "drwxr-xr-x  2 junyuchen users 4.0K Dec 20 04:19 logs\n",
      "\n",
      "/mnt/data1/LD_lab/JunyuChen/meta-analysis/data/seq/PRJEB7949/ERR695618/:\n",
      "total 2.8G\n",
      "drwxr-xr-x  3 junyuchen users 4.0K Dec 20 05:08 .\n",
      "drwxr-xr-x 42 junyuchen users 4.0K Dec 20 17:19 ..\n",
      "-rw-r--r--  1 junyuchen users 1.4G Dec 20 05:07 ERR695618_1.fastq.gz\n",
      "-rw-r--r--  1 junyuchen users 1.4G Dec 20 05:25 ERR695618_2.fastq.gz\n",
      "drwxr-xr-x  2 junyuchen users 4.0K Dec 20 04:52 logs\n",
      "\n",
      "/mnt/data1/LD_lab/JunyuChen/meta-analysis/data/seq/PRJEB7949/ERR695619/:\n",
      "total 2.8G\n",
      "drwxr-xr-x  3 junyuchen users 4.0K Dec 29 10:13 .\n",
      "drwxr-xr-x 42 junyuchen users 4.0K Dec 20 17:19 ..\n",
      "-rw-r--r--  1 junyuchen users 1.4G Dec 29 10:14 ERR695619_1.fastq.gz\n",
      "-rw-r--r--  1 junyuchen users 1.4G Dec 20 05:57 ERR695619_2.fastq.gz\n",
      "drwxr-xr-x  2 junyuchen users 4.0K Dec 20 05:25 logs\n",
      "\n",
      "/mnt/data1/LD_lab/JunyuChen/meta-analysis/data/seq/PRJEB7949/ERR695620/:\n",
      "total 2.9G\n",
      "drwxr-xr-x  3 junyuchen users 4.0K Dec 20 06:25 .\n",
      "drwxr-xr-x 42 junyuchen users 4.0K Dec 20 17:19 ..\n",
      "-rw-r--r--  1 junyuchen users 1.5G Dec 20 06:25 ERR695620_1.fastq.gz\n",
      "-rw-r--r--  1 junyuchen users 1.5G Dec 20 06:40 ERR695620_2.fastq.gz\n",
      "drwxr-xr-x  2 junyuchen users 4.0K Dec 20 05:57 logs\n",
      "\n",
      "/mnt/data1/LD_lab/JunyuChen/meta-analysis/data/seq/PRJEB7949/ERR695621/:\n",
      "total 3.0G\n",
      "drwxr-xr-x  3 junyuchen users 4.0K Dec 29 10:20 .\n",
      "drwxr-xr-x 42 junyuchen users 4.0K Dec 20 17:19 ..\n",
      "-rw-r--r--  1 junyuchen users 1.5G Dec 20 06:55 ERR695621_1.fastq.gz\n",
      "-rw-r--r--  1 junyuchen users 1.5G Dec 29 10:20 ERR695621_2.fastq.gz\n",
      "drwxr-xr-x  2 junyuchen users 4.0K Dec 20 06:40 logs\n",
      "\n",
      "/mnt/data1/LD_lab/JunyuChen/meta-analysis/data/seq/PRJEB7949/ERR695622/:\n",
      "total 3.1G\n",
      "drwxr-xr-x  3 junyuchen users 4.0K Dec 20 09:26 .\n",
      "drwxr-xr-x 42 junyuchen users 4.0K Dec 20 17:19 ..\n",
      "-rw-r--r--  1 junyuchen users 1.6G Dec 20 09:26 ERR695622_1.fastq.gz\n",
      "-rw-r--r--  1 junyuchen users 1.6G Dec 20 09:42 ERR695622_2.fastq.gz\n",
      "drwxr-xr-x  2 junyuchen users 4.0K Dec 20 08:59 logs\n",
      "\n",
      "/mnt/data1/LD_lab/JunyuChen/meta-analysis/data/seq/PRJEB7949/ERR695623/:\n",
      "total 3.1G\n",
      "drwxr-xr-x  3 junyuchen users 4.0K Dec 20 10:02 .\n",
      "drwxr-xr-x 42 junyuchen users 4.0K Dec 20 17:19 ..\n",
      "-rw-r--r--  1 junyuchen users 1.6G Dec 20 10:01 ERR695623_1.fastq.gz\n",
      "-rw-r--r--  1 junyuchen users 1.6G Dec 20 10:22 ERR695623_2.fastq.gz\n",
      "drwxr-xr-x  2 junyuchen users 4.0K Dec 20 09:42 logs\n",
      "\n",
      "/mnt/data1/LD_lab/JunyuChen/meta-analysis/data/seq/PRJEB7949/ERR695624/:\n",
      "total 3.3G\n",
      "drwxr-xr-x  3 junyuchen users 4.0K Dec 20 10:50 .\n",
      "drwxr-xr-x 42 junyuchen users 4.0K Dec 20 17:19 ..\n",
      "-rw-r--r--  1 junyuchen users 1.7G Dec 20 10:47 ERR695624_1.fastq.gz\n",
      "-rw-r--r--  1 junyuchen users 1.7G Dec 20 11:16 ERR695624_2.fastq.gz\n",
      "drwxr-xr-x  2 junyuchen users 4.0K Dec 20 10:23 logs\n",
      "\n",
      "/mnt/data1/LD_lab/JunyuChen/meta-analysis/data/seq/PRJEB7949/ERR695625/:\n",
      "total 3.3G\n",
      "drwxr-xr-x  3 junyuchen users 4.0K Dec 20 11:38 .\n",
      "drwxr-xr-x 42 junyuchen users 4.0K Dec 20 17:19 ..\n",
      "-rw-r--r--  1 junyuchen users 1.7G Dec 20 11:38 ERR695625_1.fastq.gz\n",
      "-rw-r--r--  1 junyuchen users 1.7G Dec 20 12:01 ERR695625_2.fastq.gz\n",
      "drwxr-xr-x  2 junyuchen users 4.0K Dec 20 11:16 logs\n",
      "\n",
      "/mnt/data1/LD_lab/JunyuChen/meta-analysis/data/seq/PRJEB7949/ERR695626/:\n",
      "total 2.1G\n",
      "drwxr-xr-x  3 junyuchen users 4.0K Dec 20 12:12 .\n",
      "drwxr-xr-x 42 junyuchen users 4.0K Dec 20 17:19 ..\n",
      "-rw-r--r--  1 junyuchen users 1.1G Dec 20 12:12 ERR695626_1.fastq.gz\n",
      "-rw-r--r--  1 junyuchen users 1.1G Dec 20 12:23 ERR695626_2.fastq.gz\n",
      "drwxr-xr-x  2 junyuchen users 4.0K Dec 20 12:02 logs\n",
      "\n",
      "/mnt/data1/LD_lab/JunyuChen/meta-analysis/data/seq/PRJEB7949/ERR695627/:\n",
      "total 2.1G\n",
      "drwxr-xr-x  3 junyuchen users 4.0K Dec 20 12:33 .\n",
      "drwxr-xr-x 42 junyuchen users 4.0K Dec 20 17:19 ..\n",
      "-rw-r--r--  1 junyuchen users 1.1G Dec 20 12:33 ERR695627_1.fastq.gz\n",
      "-rw-r--r--  1 junyuchen users 1.1G Dec 20 12:45 ERR695627_2.fastq.gz\n",
      "drwxr-xr-x  2 junyuchen users 4.0K Dec 20 12:23 logs\n",
      "\n",
      "/mnt/data1/LD_lab/JunyuChen/meta-analysis/data/seq/PRJEB7949/ERR695628/:\n",
      "total 2.2G\n",
      "drwxr-xr-x  3 junyuchen users 4.0K Dec 20 13:03 .\n",
      "drwxr-xr-x 42 junyuchen users 4.0K Dec 20 17:19 ..\n",
      "-rw-r--r--  1 junyuchen users 1.1G Dec 20 13:03 ERR695628_1.fastq.gz\n",
      "-rw-r--r--  1 junyuchen users 1.1G Dec 20 13:14 ERR695628_2.fastq.gz\n",
      "drwxr-xr-x  2 junyuchen users 4.0K Dec 20 12:45 logs\n",
      "\n",
      "/mnt/data1/LD_lab/JunyuChen/meta-analysis/data/seq/PRJEB7949/ERR695629/:\n",
      "total 2.2G\n",
      "drwxr-xr-x  3 junyuchen users 4.0K Dec 20 13:29 .\n",
      "drwxr-xr-x 42 junyuchen users 4.0K Dec 20 17:19 ..\n",
      "-rw-r--r--  1 junyuchen users 1.2G Dec 20 13:28 ERR695629_1.fastq.gz\n",
      "-rw-r--r--  1 junyuchen users 1.1G Dec 20 13:45 ERR695629_2.fastq.gz\n",
      "drwxr-xr-x  2 junyuchen users 4.0K Dec 20 13:14 logs\n",
      "\n",
      "/mnt/data1/LD_lab/JunyuChen/meta-analysis/data/seq/PRJEB7949/ERR695630/:\n",
      "total 3.1G\n",
      "drwxr-xr-x  3 junyuchen users 4.0K Dec 20 14:01 .\n",
      "drwxr-xr-x 42 junyuchen users 4.0K Dec 20 17:19 ..\n",
      "-rw-r--r--  1 junyuchen users 1.6G Dec 20 14:01 ERR695630_1.fastq.gz\n",
      "-rw-r--r--  1 junyuchen users 1.6G Dec 20 14:18 ERR695630_2.fastq.gz\n",
      "drwxr-xr-x  2 junyuchen users 4.0K Dec 20 13:45 logs\n",
      "\n",
      "/mnt/data1/LD_lab/JunyuChen/meta-analysis/data/seq/PRJEB7949/ERR695631/:\n",
      "total 3.1G\n",
      "drwxr-xr-x  3 junyuchen users 4.0K Dec 20 14:35 .\n",
      "drwxr-xr-x 42 junyuchen users 4.0K Dec 20 17:19 ..\n",
      "-rw-r--r--  1 junyuchen users 1.6G Dec 20 14:34 ERR695631_1.fastq.gz\n",
      "-rw-r--r--  1 junyuchen users 1.6G Dec 20 14:49 ERR695631_2.fastq.gz\n",
      "drwxr-xr-x  2 junyuchen users 4.0K Dec 20 14:18 logs\n",
      "\n",
      "/mnt/data1/LD_lab/JunyuChen/meta-analysis/data/seq/PRJEB7949/ERR695632/:\n",
      "total 2.1G\n",
      "drwxr-xr-x  3 junyuchen users 4.0K Dec 20 15:00 .\n",
      "drwxr-xr-x 42 junyuchen users 4.0K Dec 20 17:19 ..\n",
      "-rw-r--r--  1 junyuchen users 1.1G Dec 20 15:00 ERR695632_1.fastq.gz\n",
      "-rw-r--r--  1 junyuchen users 1.1G Dec 20 15:10 ERR695632_2.fastq.gz\n",
      "drwxr-xr-x  2 junyuchen users 4.0K Dec 20 14:49 logs\n",
      "\n",
      "/mnt/data1/LD_lab/JunyuChen/meta-analysis/data/seq/PRJEB7949/ERR695633/:\n",
      "total 2.1G\n",
      "drwxr-xr-x  3 junyuchen users 4.0K Dec 20 15:20 .\n",
      "drwxr-xr-x 42 junyuchen users 4.0K Dec 20 17:19 ..\n",
      "-rw-r--r--  1 junyuchen users 1.1G Dec 20 15:20 ERR695633_1.fastq.gz\n",
      "-rw-r--r--  1 junyuchen users 1.1G Dec 20 15:30 ERR695633_2.fastq.gz\n",
      "drwxr-xr-x  2 junyuchen users 4.0K Dec 20 15:10 logs\n",
      "\n",
      "/mnt/data1/LD_lab/JunyuChen/meta-analysis/data/seq/PRJEB7949/ERR695634/:\n",
      "total 2.4G\n",
      "drwxr-xr-x  3 junyuchen users 4.0K Dec 20 15:50 .\n",
      "drwxr-xr-x 42 junyuchen users 4.0K Dec 20 17:19 ..\n",
      "-rw-r--r--  1 junyuchen users 1.2G Dec 20 15:50 ERR695634_1.fastq.gz\n",
      "-rw-r--r--  1 junyuchen users 1.2G Dec 20 16:05 ERR695634_2.fastq.gz\n",
      "drwxr-xr-x  2 junyuchen users 4.0K Dec 20 15:30 logs\n",
      "\n",
      "/mnt/data1/LD_lab/JunyuChen/meta-analysis/data/seq/PRJEB7949/ERR695635/:\n",
      "total 2.4G\n",
      "drwxr-xr-x  3 junyuchen users 4.0K Dec 20 16:18 .\n",
      "drwxr-xr-x 42 junyuchen users 4.0K Dec 20 17:19 ..\n",
      "-rw-r--r--  1 junyuchen users 1.2G Dec 20 16:18 ERR695635_1.fastq.gz\n",
      "-rw-r--r--  1 junyuchen users 1.2G Dec 20 16:29 ERR695635_2.fastq.gz\n",
      "drwxr-xr-x  2 junyuchen users 4.0K Dec 20 16:06 logs\n",
      "\n",
      "/mnt/data1/LD_lab/JunyuChen/meta-analysis/data/seq/PRJEB7949/ERR695636/:\n",
      "total 2.6G\n",
      "drwxr-xr-x  3 junyuchen users 4.0K Dec 20 16:42 .\n",
      "drwxr-xr-x 42 junyuchen users 4.0K Dec 20 17:19 ..\n",
      "-rw-r--r--  1 junyuchen users 1.4G Dec 20 16:42 ERR695636_1.fastq.gz\n",
      "-rw-r--r--  1 junyuchen users 1.3G Dec 20 16:54 ERR695636_2.fastq.gz\n",
      "drwxr-xr-x  2 junyuchen users 4.0K Dec 20 16:29 logs\n",
      "\n",
      "/mnt/data1/LD_lab/JunyuChen/meta-analysis/data/seq/PRJEB7949/ERR695637/:\n",
      "total 2.6G\n",
      "drwxr-xr-x  3 junyuchen users 4.0K Dec 20 17:07 .\n",
      "drwxr-xr-x 42 junyuchen users 4.0K Dec 20 17:19 ..\n",
      "-rw-r--r--  1 junyuchen users 1.4G Dec 20 17:06 ERR695637_1.fastq.gz\n",
      "-rw-r--r--  1 junyuchen users 1.3G Dec 20 17:19 ERR695637_2.fastq.gz\n",
      "drwxr-xr-x  2 junyuchen users 4.0K Dec 20 16:54 logs\n"
     ]
    }
   ],
   "source": [
    "!ls -alh /mnt/data1/LD_lab/JunyuChen/meta-analysis/data/seq/PRJEB7949/*/"
   ]
  },
  {
   "cell_type": "code",
   "execution_count": null,
   "metadata": {},
   "outputs": [],
   "source": [
    "python /home/junyuchen/Lab/HUMAnN2-Pipline/scripts/PreProcessing1.py -i /home/junyuchen/Lab/Custom-DataBase/VFDB/IBD20/PathTable.tsv -n 4"
   ]
  },
  {
   "cell_type": "code",
   "execution_count": null,
   "metadata": {},
   "outputs": [],
   "source": [
    "python /home/junyuchen/Lab/HUMAnN2-Pipline/scripts/PreProcessing2.py -i /home/junyuchen/Lab/Custom-DataBase/VFDB/IBD20/PathTable-left2.tsv -n 4"
   ]
  },
  {
   "cell_type": "code",
   "execution_count": null,
   "metadata": {},
   "outputs": [],
   "source": [
    "/mnt/data1/LD_lab/JunyuChen/meta-analysis/data/seq/PRJEB7949/ERR695628\n",
    "/mnt/data1/LD_lab/JunyuChen/meta-analysis/data/seq/PRJEB7949/ERR695598\n"
   ]
  },
  {
   "cell_type": "code",
   "execution_count": null,
   "metadata": {},
   "outputs": [],
   "source": []
  },
  {
   "cell_type": "code",
   "execution_count": null,
   "metadata": {},
   "outputs": [],
   "source": [
    "python /home/junyuchen/Lab/HUMAnN2-Pipline/scripts/Metagenomics_VFDB_only.py -i /home/junyuchen/Lab/Custom-DataBase/VFDB/IBD20/PathTable.tsv -n 4"
   ]
  },
  {
   "cell_type": "code",
   "execution_count": null,
   "metadata": {},
   "outputs": [],
   "source": []
  },
  {
   "cell_type": "code",
   "execution_count": null,
   "metadata": {},
   "outputs": [],
   "source": [
    "python /home/junyuchen/Lab/HUMAnN2-Pipline/scripts/Metagenomics_HUMANN2.py -i /home/junyuchen/Lab/Custom-DataBase/VFDB/IBD20/PathTable.tsv -n 4"
   ]
  },
  {
   "cell_type": "markdown",
   "metadata": {},
   "source": [
    "又漏了！ 原因 硬盘爆了"
   ]
  },
  {
   "cell_type": "markdown",
   "metadata": {},
   "source": [
    "ERR695624\n",
    "ERR695625\n",
    "\n",
    "ERR695630\n",
    "..."
   ]
  },
  {
   "cell_type": "markdown",
   "metadata": {},
   "source": [
    "### id-mapping VFID"
   ]
  },
  {
   "cell_type": "code",
   "execution_count": null,
   "metadata": {},
   "outputs": [],
   "source": [
    "/home/junyuchen/Lab/Custom-DataBase/VFDB/id-mapping-VF.tsv"
   ]
  },
  {
   "cell_type": "code",
   "execution_count": null,
   "metadata": {},
   "outputs": [],
   "source": [
    "python /home/junyuchen/Lab/HUMAnN2-Pipline/scripts/Metagenomics_VFDB_VF_only.py -i /home/junyuchen/Lab/Custom-DataBase/VFDB/IBD20/PathTable.tsv -n 4"
   ]
  },
  {
   "cell_type": "code",
   "execution_count": null,
   "metadata": {},
   "outputs": [],
   "source": [
    "Lab/HUMAnN2-Pipline/scripts/Metagenomics_VFDB_VF_only.py"
   ]
  },
  {
   "cell_type": "code",
   "execution_count": null,
   "metadata": {},
   "outputs": [],
   "source": [
    "python /home/junyuchen/Lab/HUMAnN2-Pipline/scripts/Metagenomics_VFDB_only.py -i /home/junyuchen/Lab/Custom-DataBase/VFDB/IBD20/PathTable.tsv -n 4"
   ]
  },
  {
   "cell_type": "code",
   "execution_count": null,
   "metadata": {},
   "outputs": [],
   "source": [
    "Lab/Meta-Analysis/Scripts/Metagenomics_VFDB_only.py"
   ]
  },
  {
   "cell_type": "code",
   "execution_count": null,
   "metadata": {},
   "outputs": [],
   "source": [
    "python /home/junyuchen/Lab/Meta-Analysis/Scripts/Metagenomics_VFDB_only.py -i /home/junyuchen/Lab/Custom-DataBase/VFDB/IBD20/PathTable.tsv -n 25 -j 5"
   ]
  },
  {
   "cell_type": "markdown",
   "metadata": {},
   "source": [
    "### Humann2 Bug"
   ]
  },
  {
   "cell_type": "code",
   "execution_count": null,
   "metadata": {},
   "outputs": [],
   "source": [
    "/bin/sh: 1: humann2: Permission denied\n",
    "mkdir: cannot create directory ‘humann2_final_out’: File exists\n",
    "sh: 1: humann2_join_tables: Permission denied\n",
    "sh: 1: humann2_join_tables: Permission denied\n",
    "sh: 1: humann2_join_tables: Permission denied\n",
    "sh: 1: humann2_renorm_table: Permission denied\n",
    "sh: 1: humann2_renorm_table: Permission denied\n",
    "sh: 1: humann2_split_stratified_table: Permission denied\n",
    "sh: 1: humann2_split_stratified_table: Permission denied\n",
    "sh: 1: humann2_split_stratified_table: Permission denied\n",
    "sed: can't read humann2_final_out/humann2_genefamilies_cpm_unstratified.tsv: No such file or directory\n",
    "sed: can't read humann2_final_out/humann2_pathabundance_cpm_unstratified.tsv: No such file or directory\n",
    "mkdir: cannot create directory ‘metaphlan2_out’: File exists\n",
    "cp: cannot stat 'humann2_out/*/*/*metaphlan_bugs_list.tsv': No such file or directory\n",
    "sh: 1: merge_metaphlan_tables.py: Permission denied\n",
    "Use of uninitialized value $header in scalar chomp at /home/yxtan/HUMANN2_SOP_scripts/metaphlan_to_stamp.pl line 14.\n",
    "Use of uninitialized value $header in split at /home/yxtan/HUMANN2_SOP_scripts/metaphlan_to_stamp.pl line 16."
   ]
  },
  {
   "cell_type": "code",
   "execution_count": null,
   "metadata": {},
   "outputs": [],
   "source": []
  },
  {
   "cell_type": "code",
   "execution_count": null,
   "metadata": {},
   "outputs": [],
   "source": [
    "/home/junyuchen/Lab/Custom-DataBase/VFDB/IBD20"
   ]
  },
  {
   "cell_type": "code",
   "execution_count": null,
   "metadata": {},
   "outputs": [],
   "source": []
  },
  {
   "cell_type": "markdown",
   "metadata": {},
   "source": [
    "humann2_config --update database_folders protein /home/junyuchen/Lab/Custom-DataBase/VFDB/DataBase/VFDB-2019-12-16/Diamod-VFDB_setB_pro"
   ]
  },
  {
   "cell_type": "code",
   "execution_count": null,
   "metadata": {},
   "outputs": [],
   "source": [
    "/mnt/data1/LD_lab/JunyuChen/IBD20/cat_reads"
   ]
  },
  {
   "cell_type": "markdown",
   "metadata": {},
   "source": [
    "```shell\n",
    "humann2 --threads 20 --bypass-nucleotide-index --nucleotide-database /home/junyuchen/Lab/Custom-DataBase/VFDB/DataBase/VFDB-2019-12-20 --input /mnt/data1/LD_lab/JunyuChen/IBD20/cat_reads/*fastq --id-mapping /home/junyuchen/Lab/Custom-DataBase/VFDB/id-mapping-full.tsv --output humann2_out/{/.}\n",
    "```"
   ]
  },
  {
   "cell_type": "code",
   "execution_count": null,
   "metadata": {},
   "outputs": [],
   "source": []
  },
  {
   "cell_type": "code",
   "execution_count": null,
   "metadata": {},
   "outputs": [],
   "source": []
  },
  {
   "cell_type": "code",
   "execution_count": null,
   "metadata": {},
   "outputs": [],
   "source": [
    "grep 'fepB' humann2_genefamilies_cpm_stratified.pcl | less -S"
   ]
  },
  {
   "cell_type": "code",
   "execution_count": null,
   "metadata": {},
   "outputs": [],
   "source": [
    "humann2_barplot --input humann2_genefamilies_cpm_stratified.pcl --focal-feature fepB --output plot1.png"
   ]
  },
  {
   "cell_type": "code",
   "execution_count": null,
   "metadata": {},
   "outputs": [],
   "source": []
  },
  {
   "cell_type": "markdown",
   "metadata": {},
   "source": [
    "移到新服务器 EC-filter跑？"
   ]
  },
  {
   "cell_type": "markdown",
   "metadata": {},
   "source": [
    "直接跑metaPlan"
   ]
  },
  {
   "cell_type": "code",
   "execution_count": null,
   "metadata": {},
   "outputs": [],
   "source": [
    "for f in ERR*.fastq\n",
    "do\n",
    "    metaphlan2.py $f --input_type fastq --nproc 20 > ${f%.fastq}_profile.txt\n",
    "done"
   ]
  },
  {
   "cell_type": "code",
   "execution_count": null,
   "metadata": {},
   "outputs": [],
   "source": [
    "merge_metaphlan_tables.py *_profile.txt > merged_abundance_table.txt"
   ]
  },
  {
   "cell_type": "markdown",
   "metadata": {},
   "source": [
    "#### Generate the species only abundance table"
   ]
  },
  {
   "cell_type": "code",
   "execution_count": null,
   "metadata": {},
   "outputs": [],
   "source": [
    "grep -E \"(s__)|(^ID)\" merged_abundance_table.txt | grep -v \"t__\" | sed 's/^.*s__//g' > merged_abundance_table_species.txt"
   ]
  },
  {
   "cell_type": "code",
   "execution_count": null,
   "metadata": {},
   "outputs": [],
   "source": [
    "head merged_abundance_table_species.txt"
   ]
  },
  {
   "cell_type": "markdown",
   "metadata": {},
   "source": [
    "#### Generate the heatmap"
   ]
  },
  {
   "cell_type": "code",
   "execution_count": null,
   "metadata": {},
   "outputs": [],
   "source": [
    "hclust2.py -i merged_abundance_table_species.txt -o abundance_heatmap_species.png --ftop 25 --f_dist_f braycurtis --s_dist_f braycurtis --cell_aspect_ratio 0.5 -l --flabel_size 6 --slabel_size 6 --max_flabel_len 100 --max_slabel_len 100 --minv 0.1 --dpi 300"
   ]
  },
  {
   "cell_type": "code",
   "execution_count": null,
   "metadata": {},
   "outputs": [],
   "source": []
  },
  {
   "cell_type": "markdown",
   "metadata": {},
   "source": [
    "### Create a cladogram with GraPhlAn"
   ]
  },
  {
   "cell_type": "markdown",
   "metadata": {},
   "source": [
    "#### Step 1: Create the GraPhlAn input files"
   ]
  },
  {
   "cell_type": "markdown",
   "metadata": {},
   "source": [
    "python ~/Biosoft/graphlan_commit_edea23c/export2graphlan/export2graphlan.py --skip_rows 1,2 -i merged_abundance_table.txt --tree merged_abundance.tree.txt --annotation merged_abundance.annot.txt --most_abundant 100 --abundance_threshold 1 --least_biomarkers 10 --annotations 5,6 --external_annotations 7 --min_clade_size 1"
   ]
  },
  {
   "cell_type": "code",
   "execution_count": null,
   "metadata": {},
   "outputs": [],
   "source": [
    "export2graphlan.py --skip_rows 1,2 -i merged_abundance_table.txt --tree merged_abundance.tree.txt --annotation merged_abundance.annot.txt --most_abundant 100 --abundance_threshold 1 --least_biomarkers 10 --annotations 5,6 --external_annotations 7 --min_clade_size 1"
   ]
  },
  {
   "cell_type": "markdown",
   "metadata": {},
   "source": [
    "#### Step 2: Create a cladogram"
   ]
  },
  {
   "cell_type": "code",
   "execution_count": null,
   "metadata": {},
   "outputs": [],
   "source": [
    "graphlan_annotate.py --annot merged_abundance.annot.txt merged_abundance.tree.txt merged_abundance.xml"
   ]
  },
  {
   "cell_type": "code",
   "execution_count": null,
   "metadata": {},
   "outputs": [],
   "source": [
    "python ~/Biosoft/graphlan_commit_edea23c/graphlan_annotate.py --annot merged_abundance.annot.txt merged_abundance.tree.txt merged_abundance.xml"
   ]
  },
  {
   "cell_type": "code",
   "execution_count": null,
   "metadata": {},
   "outputs": [],
   "source": [
    "graphlan.py --dpi 300 merged_abundance.xml merged_abundance.png --external_legends"
   ]
  },
  {
   "cell_type": "code",
   "execution_count": null,
   "metadata": {},
   "outputs": [],
   "source": [
    "python ~/Biosoft/graphlan_commit_edea23c/graphlan.py --dpi 300 merged_abundance.xml merged_abundance.png --external_legends"
   ]
  },
  {
   "cell_type": "code",
   "execution_count": null,
   "metadata": {},
   "outputs": [],
   "source": []
  },
  {
   "cell_type": "markdown",
   "metadata": {},
   "source": [
    "### Taxonomic biomarker discovery with LEfSe"
   ]
  },
  {
   "cell_type": "code",
   "execution_count": null,
   "metadata": {},
   "outputs": [],
   "source": [
    "conda install -c bioconda lefse"
   ]
  },
  {
   "cell_type": "code",
   "execution_count": null,
   "metadata": {},
   "outputs": [],
   "source": [
    "splines, stats4, survival, mvtnorm, modeltools, coin, MASS"
   ]
  },
  {
   "cell_type": "code",
   "execution_count": 2,
   "metadata": {},
   "outputs": [
    {
     "name": "stdout",
     "output_type": "stream",
     "text": [
      "(humann2) "
     ]
    },
    {
     "ename": "",
     "evalue": "1",
     "output_type": "error",
     "traceback": []
    }
   ],
   "source": [
    "conda activate humann2"
   ]
  },
  {
   "cell_type": "code",
   "execution_count": 3,
   "metadata": {},
   "outputs": [
    {
     "name": "stdout",
     "output_type": "stream",
     "text": [
      "(humann2) "
     ]
    },
    {
     "ename": "",
     "evalue": "1",
     "output_type": "error",
     "traceback": []
    }
   ],
   "source": [
    "cd metaphlan_out"
   ]
  },
  {
   "cell_type": "code",
   "execution_count": null,
   "metadata": {},
   "outputs": [],
   "source": [
    "install.packages(c(\"splines\", \"stats4\", \"survival\", \"mvtnorm\", \"modeltools\", \"coin\", \"MASS\"))"
   ]
  },
  {
   "cell_type": "code",
   "execution_count": null,
   "metadata": {},
   "outputs": [],
   "source": [
    "conda install rpy2 numpy matplotlib argparse"
   ]
  },
  {
   "cell_type": "code",
   "execution_count": 4,
   "metadata": {},
   "outputs": [
    {
     "name": "stdout",
     "output_type": "stream",
     "text": [
      "(humann2) "
     ]
    },
    {
     "ename": "",
     "evalue": "1",
     "output_type": "error",
     "traceback": []
    }
   ],
   "source": [
    "sed 's/\\([A-Z][A-Z]\\)_\\w*/\\1/g' merged_abundance_table1.txt > merged_abundance_table.4lefse.txt"
   ]
  },
  {
   "cell_type": "code",
   "execution_count": 5,
   "metadata": {},
   "outputs": [
    {
     "name": "stdout",
     "output_type": "stream",
     "text": [
      "(humann2) "
     ]
    },
    {
     "ename": "",
     "evalue": "1",
     "output_type": "error",
     "traceback": []
    }
   ],
   "source": [
    "python /home/junyuchen/Biosoft/lefse/format_input.py merged_abundance_table.4lefse.txt merged_abundance_table.lefse -c 1 -o 10000"
   ]
  },
  {
   "cell_type": "code",
   "execution_count": 7,
   "metadata": {},
   "outputs": [
    {
     "name": "stdout",
     "output_type": "stream",
     "text": [
      "Number of significantly discriminative features: 0 ( 0 ) before internal wilcoxon\n",
      "No features with significant differences between the two classes\n",
      "Number of discriminative features with abs LDA score > 4.0 : 0\n",
      "(humann2) "
     ]
    },
    {
     "ename": "",
     "evalue": "1",
     "output_type": "error",
     "traceback": []
    }
   ],
   "source": [
    "python /home/junyuchen/Biosoft/lefse/run_lefse.py merged_abundance_table.lefse merged_abundance_table.lefse.out -l 4"
   ]
  },
  {
   "cell_type": "code",
   "execution_count": 9,
   "metadata": {},
   "outputs": [
    {
     "name": "stdout",
     "output_type": "stream",
     "text": [
      "No differentially abundant features found in merged_abundance_table.lefse.out\n",
      "(humann2) "
     ]
    },
    {
     "ename": "",
     "evalue": "1",
     "output_type": "error",
     "traceback": []
    }
   ],
   "source": [
    "python /home/junyuchen/Biosoft/lefse/plot_res.py --dpi 300 merged_abundance_table.lefse.out lefse_biomarkers.png"
   ]
  },
  {
   "cell_type": "code",
   "execution_count": 10,
   "metadata": {},
   "outputs": [
    {
     "name": "stdout",
     "output_type": "stream",
     "text": [
      "clade_sep parameter too large, lowered to 0.150169372559\n",
      "(humann2) "
     ]
    },
    {
     "ename": "",
     "evalue": "1",
     "output_type": "error",
     "traceback": []
    }
   ],
   "source": [
    "python /home/junyuchen/Biosoft/lefse/plot_cladogram.py --dpi 300 --format png merged_abundance_table.lefse.out lefse_biomarkers_cladogram.png "
   ]
  },
  {
   "cell_type": "code",
   "execution_count": null,
   "metadata": {},
   "outputs": [],
   "source": []
  }
 ],
 "metadata": {
  "kernelspec": {
   "display_name": "Bash",
   "language": "bash",
   "name": "bash"
  },
  "language_info": {
   "codemirror_mode": "shell",
   "file_extension": ".sh",
   "mimetype": "text/x-sh",
   "name": "bash"
  }
 },
 "nbformat": 4,
 "nbformat_minor": 4
}
