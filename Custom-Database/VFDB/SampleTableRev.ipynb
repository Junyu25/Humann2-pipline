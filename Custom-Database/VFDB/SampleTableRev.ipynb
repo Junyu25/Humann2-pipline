{
 "cells": [
  {
   "cell_type": "markdown",
   "metadata": {},
   "source": [
    "## sample table 生成"
   ]
  },
  {
   "cell_type": "code",
   "execution_count": 19,
   "metadata": {},
   "outputs": [
    {
     "data": {
      "text/plain": [
       "['CSM79HR8_R2.fastq.gz',\n",
       " 'CSM79HR8_R1.fastq.gz',\n",
       " 'HSM7J4QT.tar',\n",
       " 'HSM7J4QT_R2.fastq.gz',\n",
       " 'CSM79HR8.tar',\n",
       " 'HSM7J4QT_R1.fastq.gz']"
      ]
     },
     "execution_count": 19,
     "metadata": {},
     "output_type": "execute_result"
    }
   ],
   "source": [
    "import os\n",
    "rd_dir1=\"/mnt/data1/LD_lab/JunyuChen/meta-analysis/data/seq/PRJEB7949\"\n",
    "rd_dir=\"/home/junyuchen/Lab/HUMAnN2-Pipline/rawdata\"\n",
    "os.listdir(rd_dir)"
   ]
  },
  {
   "cell_type": "code",
   "execution_count": 20,
   "metadata": {},
   "outputs": [
    {
     "data": {
      "text/plain": [
       "'/home/junyuchen/Lab/Custom-DataBase/VFDB'"
      ]
     },
     "execution_count": 20,
     "metadata": {},
     "output_type": "execute_result"
    }
   ],
   "source": [
    "%pwd"
   ]
  },
  {
   "cell_type": "code",
   "execution_count": 21,
   "metadata": {},
   "outputs": [
    {
     "name": "stdout",
     "output_type": "stream",
     "text": [
      "ERR695598  ERR695604  ERR695610  ERR695616  ERR695622  ERR695628  ERR695634\n",
      "ERR695599  ERR695605  ERR695611  ERR695617  ERR695623  ERR695629  ERR695635\n",
      "ERR695600  ERR695606  ERR695612  ERR695618  ERR695624  ERR695630  ERR695636\n",
      "ERR695601  ERR695607  ERR695613  ERR695619  ERR695625  ERR695631  ERR695637\n",
      "ERR695602  ERR695608  ERR695614  ERR695620  ERR695626  ERR695632\n",
      "ERR695603  ERR695609  ERR695615  ERR695621  ERR695627  ERR695633\n"
     ]
    }
   ],
   "source": [
    "!ls /mnt/data1/LD_lab/JunyuChen/meta-analysis/data/seq/PRJEB7949"
   ]
  },
  {
   "cell_type": "code",
   "execution_count": null,
   "metadata": {},
   "outputs": [],
   "source": []
  },
  {
   "cell_type": "code",
   "execution_count": 22,
   "metadata": {},
   "outputs": [
    {
     "name": "stdout",
     "output_type": "stream",
     "text": [
      "40\n"
     ]
    }
   ],
   "source": [
    "!ls /mnt/data1/LD_lab/JunyuChen/meta-analysis/data/seq/PRJEB7949 | wc -l"
   ]
  },
  {
   "cell_type": "code",
   "execution_count": null,
   "metadata": {},
   "outputs": [],
   "source": []
  },
  {
   "cell_type": "code",
   "execution_count": 34,
   "metadata": {},
   "outputs": [],
   "source": [
    "rd_dir1 = \"/home/junyuchen/Lab/Meta-Analysis/DataDownload/data/PRJEB23207\"\n"
   ]
  },
  {
   "cell_type": "code",
   "execution_count": 53,
   "metadata": {},
   "outputs": [
    {
     "name": "stdout",
     "output_type": "stream",
     "text": [
      "['ERR2271236_2.fastq.gz', 'ERR2271236_1.fastq.gz']\n",
      "['aspera-scp-transfer.0.log', 'aspera-scp-transfer.log']\n",
      "['ERR2271237_1.fastq.gz', 'ERR2271237_2.fastq.gz']\n",
      "['aspera-scp-transfer.0.log', 'aspera-scp-transfer.log']\n",
      "['ERR2270941_2.fastq.gz', 'ERR2270941_1.fastq.gz']\n",
      "['aspera-scp-transfer.0.log', 'aspera-scp-transfer.log']\n",
      "['ERR2271042_2.fastq.gz', 'ERR2271042_1.fastq.gz']\n",
      "['aspera-scp-transfer.0.log', 'aspera-scp-transfer.log']\n",
      "['ERR2270962_1.fastq.gz', 'ERR2270962_2.fastq.gz']\n",
      "['aspera-scp-transfer.0.log', 'aspera-scp-transfer.log']\n",
      "['ERR2270940_2.fastq.gz', 'ERR2270940_1.fastq.gz']\n",
      "['aspera-scp-transfer.0.log', 'aspera-scp-transfer.log']\n",
      "['ERR2182505.fastq.gz']\n",
      "['aspera-scp-transfer.0.log', 'aspera-scp-transfer.log']\n",
      "['ERR2270960_2.fastq.gz', 'ERR2270960_1.fastq.gz']\n",
      "['aspera-scp-transfer.0.log', 'aspera-scp-transfer.log']\n",
      "['ERR2270938_2.fastq.gz', 'ERR2270938_1.fastq.gz']\n",
      "['aspera-scp-transfer.0.log', 'aspera-scp-transfer.log']\n",
      "['ERR2182604.fastq.gz']\n",
      "['aspera-scp-transfer.0.log', 'aspera-scp-transfer.log']\n",
      "['ERR2182603.fastq.gz']\n",
      "['aspera-scp-transfer.0.log', 'aspera-scp-transfer.log']\n",
      "['ERR2270961_1.fastq.gz', 'ERR2270961_2.fastq.gz']\n",
      "['aspera-scp-transfer.0.log', 'aspera-scp-transfer.log']\n",
      "['ERR2271043_1.fastq.gz', 'ERR2271043_2.fastq.gz']\n",
      "['aspera-scp-transfer.0.log', 'aspera-scp-transfer.log']\n",
      "['ERR2270939_1.fastq.gz', 'ERR2270939_2.fastq.gz']\n",
      "['aspera-scp-transfer.0.log', 'aspera-scp-transfer.log']\n"
     ]
    }
   ],
   "source": [
    "import os\n",
    "\n",
    "for filename in os.listdir(rd_dir1):\n",
    "    for root,dirs,files in os.walk(os.path.join(rd_dir1, filename)):\n",
    "        print(files)\n",
    "    "
   ]
  },
  {
   "cell_type": "code",
   "execution_count": 4,
   "metadata": {},
   "outputs": [
    {
     "name": "stdout",
     "output_type": "stream",
     "text": [
      "ERR2271236\n",
      "/home/junyuchen/Lab/Meta-Analysis/DataDownload/data/PRJEB23207/ERR2271236/ERR2271236_2.fastq.gz\n",
      "/home/junyuchen/Lab/Meta-Analysis/DataDownload/data/PRJEB23207/ERR2271236/ERR2271236_1.fastq.gz\n",
      "ERR2271237\n",
      "/home/junyuchen/Lab/Meta-Analysis/DataDownload/data/PRJEB23207/ERR2271237/ERR2271237_1.fastq.gz\n",
      "/home/junyuchen/Lab/Meta-Analysis/DataDownload/data/PRJEB23207/ERR2271237/ERR2271237_2.fastq.gz\n",
      "ERR2270941\n",
      "/home/junyuchen/Lab/Meta-Analysis/DataDownload/data/PRJEB23207/ERR2270941/ERR2270941_2.fastq.gz\n",
      "/home/junyuchen/Lab/Meta-Analysis/DataDownload/data/PRJEB23207/ERR2270941/ERR2270941_1.fastq.gz\n",
      "ERR2271042\n",
      "/home/junyuchen/Lab/Meta-Analysis/DataDownload/data/PRJEB23207/ERR2271042/ERR2271042_2.fastq.gz\n",
      "/home/junyuchen/Lab/Meta-Analysis/DataDownload/data/PRJEB23207/ERR2271042/ERR2271042_1.fastq.gz\n",
      "ERR2270962\n",
      "/home/junyuchen/Lab/Meta-Analysis/DataDownload/data/PRJEB23207/ERR2270962/ERR2270962_1.fastq.gz\n",
      "/home/junyuchen/Lab/Meta-Analysis/DataDownload/data/PRJEB23207/ERR2270962/ERR2270962_2.fastq.gz\n",
      "ERR2270940\n",
      "/home/junyuchen/Lab/Meta-Analysis/DataDownload/data/PRJEB23207/ERR2270940/ERR2270940_2.fastq.gz\n",
      "/home/junyuchen/Lab/Meta-Analysis/DataDownload/data/PRJEB23207/ERR2270940/ERR2270940_1.fastq.gz\n",
      "ERR2182505\n",
      "ERR2270960\n",
      "/home/junyuchen/Lab/Meta-Analysis/DataDownload/data/PRJEB23207/ERR2270960/ERR2270960_2.fastq.gz\n",
      "/home/junyuchen/Lab/Meta-Analysis/DataDownload/data/PRJEB23207/ERR2270960/ERR2270960_1.fastq.gz\n",
      "ERR2270938\n",
      "/home/junyuchen/Lab/Meta-Analysis/DataDownload/data/PRJEB23207/ERR2270938/ERR2270938_2.fastq.gz\n",
      "/home/junyuchen/Lab/Meta-Analysis/DataDownload/data/PRJEB23207/ERR2270938/ERR2270938_1.fastq.gz\n",
      "ERR2182604\n",
      "ERR2182603\n",
      "ERR2270961\n",
      "/home/junyuchen/Lab/Meta-Analysis/DataDownload/data/PRJEB23207/ERR2270961/ERR2270961_1.fastq.gz\n",
      "/home/junyuchen/Lab/Meta-Analysis/DataDownload/data/PRJEB23207/ERR2270961/ERR2270961_2.fastq.gz\n",
      "ERR2271043\n",
      "/home/junyuchen/Lab/Meta-Analysis/DataDownload/data/PRJEB23207/ERR2271043/ERR2271043_1.fastq.gz\n",
      "/home/junyuchen/Lab/Meta-Analysis/DataDownload/data/PRJEB23207/ERR2271043/ERR2271043_2.fastq.gz\n",
      "ERR2270939\n",
      "/home/junyuchen/Lab/Meta-Analysis/DataDownload/data/PRJEB23207/ERR2270939/ERR2270939_1.fastq.gz\n",
      "/home/junyuchen/Lab/Meta-Analysis/DataDownload/data/PRJEB23207/ERR2270939/ERR2270939_2.fastq.gz\n"
     ]
    }
   ],
   "source": [
    "import os\n",
    "import pandas as pd\n",
    "\n",
    "path = pd.DataFrame()\n",
    "project = \"/home/junyuchen/Lab/Meta-Analysis/DataDownload/data/PRJEB23207\"\n",
    "for run in os.listdir(project):\n",
    "    #panda run column\n",
    "    print(run)\n",
    "    \n",
    "    for fastq in os.listdir(os.path.join(project, run)):\n",
    "        if fastq.endswith(\"1.fastq.gz\"):\n",
    "            f1 = os.path.join(project, run, fastq)\n",
    "            print(f1)\n",
    "            #add to pandas run column\n",
    "        elif fastq.endswith(\"2.fastq.gz\"):\n",
    "            r2 = os.path.join(project, run, fastq)\n",
    "            print(r2)\n",
    "    path = path.append({'#SampleID':str(run), \"forward-absolute-filepath\":str(f1), \"reverse-absolute-filepath\":str(r2)}, ignore_index=True)\n",
    "\n",
    "path.to_csv(project+\"/PathTable.tsv\", sep=\"\\t\", index=False, encoding = \"utf-8\")\n",
    "    "
   ]
  },
  {
   "cell_type": "code",
   "execution_count": 80,
   "metadata": {},
   "outputs": [
    {
     "data": {
      "text/html": [
       "<div>\n",
       "<style scoped>\n",
       "    .dataframe tbody tr th:only-of-type {\n",
       "        vertical-align: middle;\n",
       "    }\n",
       "\n",
       "    .dataframe tbody tr th {\n",
       "        vertical-align: top;\n",
       "    }\n",
       "\n",
       "    .dataframe thead th {\n",
       "        text-align: right;\n",
       "    }\n",
       "</style>\n",
       "<table border=\"1\" class=\"dataframe\">\n",
       "  <thead>\n",
       "    <tr style=\"text-align: right;\">\n",
       "      <th></th>\n",
       "      <th>SampleID</th>\n",
       "      <th>forward-absolute-filepath</th>\n",
       "      <th>reverse-absolute-filepath</th>\n",
       "    </tr>\n",
       "  </thead>\n",
       "  <tbody>\n",
       "    <tr>\n",
       "      <th>0</th>\n",
       "      <td>ERR2271236</td>\n",
       "      <td>/home/junyuchen/Lab/Meta-Analysis/DataDownload...</td>\n",
       "      <td>/home/junyuchen/Lab/Meta-Analysis/DataDownload...</td>\n",
       "    </tr>\n",
       "    <tr>\n",
       "      <th>1</th>\n",
       "      <td>ERR2271237</td>\n",
       "      <td>/home/junyuchen/Lab/Meta-Analysis/DataDownload...</td>\n",
       "      <td>/home/junyuchen/Lab/Meta-Analysis/DataDownload...</td>\n",
       "    </tr>\n",
       "    <tr>\n",
       "      <th>2</th>\n",
       "      <td>ERR2270941</td>\n",
       "      <td>/home/junyuchen/Lab/Meta-Analysis/DataDownload...</td>\n",
       "      <td>/home/junyuchen/Lab/Meta-Analysis/DataDownload...</td>\n",
       "    </tr>\n",
       "    <tr>\n",
       "      <th>3</th>\n",
       "      <td>ERR2271042</td>\n",
       "      <td>/home/junyuchen/Lab/Meta-Analysis/DataDownload...</td>\n",
       "      <td>/home/junyuchen/Lab/Meta-Analysis/DataDownload...</td>\n",
       "    </tr>\n",
       "    <tr>\n",
       "      <th>4</th>\n",
       "      <td>ERR2270962</td>\n",
       "      <td>/home/junyuchen/Lab/Meta-Analysis/DataDownload...</td>\n",
       "      <td>/home/junyuchen/Lab/Meta-Analysis/DataDownload...</td>\n",
       "    </tr>\n",
       "    <tr>\n",
       "      <th>5</th>\n",
       "      <td>ERR2270940</td>\n",
       "      <td>/home/junyuchen/Lab/Meta-Analysis/DataDownload...</td>\n",
       "      <td>/home/junyuchen/Lab/Meta-Analysis/DataDownload...</td>\n",
       "    </tr>\n",
       "    <tr>\n",
       "      <th>6</th>\n",
       "      <td>ERR2182505</td>\n",
       "      <td>/home/junyuchen/Lab/Meta-Analysis/DataDownload...</td>\n",
       "      <td>/home/junyuchen/Lab/Meta-Analysis/DataDownload...</td>\n",
       "    </tr>\n",
       "    <tr>\n",
       "      <th>7</th>\n",
       "      <td>ERR2270960</td>\n",
       "      <td>/home/junyuchen/Lab/Meta-Analysis/DataDownload...</td>\n",
       "      <td>/home/junyuchen/Lab/Meta-Analysis/DataDownload...</td>\n",
       "    </tr>\n",
       "    <tr>\n",
       "      <th>8</th>\n",
       "      <td>ERR2270938</td>\n",
       "      <td>/home/junyuchen/Lab/Meta-Analysis/DataDownload...</td>\n",
       "      <td>/home/junyuchen/Lab/Meta-Analysis/DataDownload...</td>\n",
       "    </tr>\n",
       "    <tr>\n",
       "      <th>9</th>\n",
       "      <td>ERR2182604</td>\n",
       "      <td>/home/junyuchen/Lab/Meta-Analysis/DataDownload...</td>\n",
       "      <td>/home/junyuchen/Lab/Meta-Analysis/DataDownload...</td>\n",
       "    </tr>\n",
       "    <tr>\n",
       "      <th>10</th>\n",
       "      <td>ERR2182603</td>\n",
       "      <td>/home/junyuchen/Lab/Meta-Analysis/DataDownload...</td>\n",
       "      <td>/home/junyuchen/Lab/Meta-Analysis/DataDownload...</td>\n",
       "    </tr>\n",
       "    <tr>\n",
       "      <th>11</th>\n",
       "      <td>ERR2270961</td>\n",
       "      <td>/home/junyuchen/Lab/Meta-Analysis/DataDownload...</td>\n",
       "      <td>/home/junyuchen/Lab/Meta-Analysis/DataDownload...</td>\n",
       "    </tr>\n",
       "    <tr>\n",
       "      <th>12</th>\n",
       "      <td>ERR2271043</td>\n",
       "      <td>/home/junyuchen/Lab/Meta-Analysis/DataDownload...</td>\n",
       "      <td>/home/junyuchen/Lab/Meta-Analysis/DataDownload...</td>\n",
       "    </tr>\n",
       "    <tr>\n",
       "      <th>13</th>\n",
       "      <td>ERR2270939</td>\n",
       "      <td>/home/junyuchen/Lab/Meta-Analysis/DataDownload...</td>\n",
       "      <td>/home/junyuchen/Lab/Meta-Analysis/DataDownload...</td>\n",
       "    </tr>\n",
       "  </tbody>\n",
       "</table>\n",
       "</div>"
      ],
      "text/plain": [
       "      SampleID                          forward-absolute-filepath  \\\n",
       "0   ERR2271236  /home/junyuchen/Lab/Meta-Analysis/DataDownload...   \n",
       "1   ERR2271237  /home/junyuchen/Lab/Meta-Analysis/DataDownload...   \n",
       "2   ERR2270941  /home/junyuchen/Lab/Meta-Analysis/DataDownload...   \n",
       "3   ERR2271042  /home/junyuchen/Lab/Meta-Analysis/DataDownload...   \n",
       "4   ERR2270962  /home/junyuchen/Lab/Meta-Analysis/DataDownload...   \n",
       "5   ERR2270940  /home/junyuchen/Lab/Meta-Analysis/DataDownload...   \n",
       "6   ERR2182505  /home/junyuchen/Lab/Meta-Analysis/DataDownload...   \n",
       "7   ERR2270960  /home/junyuchen/Lab/Meta-Analysis/DataDownload...   \n",
       "8   ERR2270938  /home/junyuchen/Lab/Meta-Analysis/DataDownload...   \n",
       "9   ERR2182604  /home/junyuchen/Lab/Meta-Analysis/DataDownload...   \n",
       "10  ERR2182603  /home/junyuchen/Lab/Meta-Analysis/DataDownload...   \n",
       "11  ERR2270961  /home/junyuchen/Lab/Meta-Analysis/DataDownload...   \n",
       "12  ERR2271043  /home/junyuchen/Lab/Meta-Analysis/DataDownload...   \n",
       "13  ERR2270939  /home/junyuchen/Lab/Meta-Analysis/DataDownload...   \n",
       "\n",
       "                            reverse-absolute-filepath  \n",
       "0   /home/junyuchen/Lab/Meta-Analysis/DataDownload...  \n",
       "1   /home/junyuchen/Lab/Meta-Analysis/DataDownload...  \n",
       "2   /home/junyuchen/Lab/Meta-Analysis/DataDownload...  \n",
       "3   /home/junyuchen/Lab/Meta-Analysis/DataDownload...  \n",
       "4   /home/junyuchen/Lab/Meta-Analysis/DataDownload...  \n",
       "5   /home/junyuchen/Lab/Meta-Analysis/DataDownload...  \n",
       "6   /home/junyuchen/Lab/Meta-Analysis/DataDownload...  \n",
       "7   /home/junyuchen/Lab/Meta-Analysis/DataDownload...  \n",
       "8   /home/junyuchen/Lab/Meta-Analysis/DataDownload...  \n",
       "9   /home/junyuchen/Lab/Meta-Analysis/DataDownload...  \n",
       "10  /home/junyuchen/Lab/Meta-Analysis/DataDownload...  \n",
       "11  /home/junyuchen/Lab/Meta-Analysis/DataDownload...  \n",
       "12  /home/junyuchen/Lab/Meta-Analysis/DataDownload...  \n",
       "13  /home/junyuchen/Lab/Meta-Analysis/DataDownload...  "
      ]
     },
     "execution_count": 80,
     "metadata": {},
     "output_type": "execute_result"
    }
   ],
   "source": [
    "pathproject"
   ]
  },
  {
   "cell_type": "code",
   "execution_count": 79,
   "metadata": {},
   "outputs": [
    {
     "data": {
      "text/plain": [
       "'/home/junyuchen/Lab/Meta-Analysis/DataDownload/data/PRJEB23207/ERR2271237/ERR2271237_1.fastq.gz'"
      ]
     },
     "execution_count": 79,
     "metadata": {},
     "output_type": "execute_result"
    }
   ],
   "source": [
    "path[\"forward-absolute-filepath\"][1]"
   ]
  },
  {
   "cell_type": "code",
   "execution_count": 81,
   "metadata": {},
   "outputs": [
    {
     "data": {
      "text/plain": [
       "'/home/junyuchen/Lab/Meta-Analysis/DataDownload/data/PRJEB23207/ERR2271237/ERR2271237_2.fastq.gz'"
      ]
     },
     "execution_count": 81,
     "metadata": {},
     "output_type": "execute_result"
    }
   ],
   "source": [
    "path[\"reverse-absolute-filepath\"][1]"
   ]
  },
  {
   "cell_type": "code",
   "execution_count": null,
   "metadata": {},
   "outputs": [],
   "source": []
  },
  {
   "cell_type": "code",
   "execution_count": 86,
   "metadata": {},
   "outputs": [],
   "source": [
    "path = []\n",
    "rd_dir1 = \"/mnt/data1/LD_lab/JunyuChen/meta-analysis/data/seq/PRJEB794\"\n",
    "\n",
    "for root,dirs,files in os.walk(rd_dir1):\n",
    "    #print(dirs)\n",
    "    #print(dirs)\n",
    "    for tempFile in files:\n",
    "        #print(dirs)\n",
    "        if \"fastq.gz\" in tempFile:\n",
    "            #print(root)\n",
    "            #print(dirs)\n",
    "            print(tempFile)\n",
    "            #path.append(os.path.join(tempFile))\n",
    "            "
   ]
  },
  {
   "cell_type": "code",
   "execution_count": 24,
   "metadata": {},
   "outputs": [
    {
     "data": {
      "text/plain": [
       "79"
      ]
     },
     "execution_count": 24,
     "metadata": {},
     "output_type": "execute_result"
    }
   ],
   "source": [
    "len(path)"
   ]
  },
  {
   "cell_type": "code",
   "execution_count": 47,
   "metadata": {},
   "outputs": [
    {
     "data": {
      "text/plain": [
       "['ERR2271236',\n",
       " 'ERR2271237',\n",
       " 'ERR2270941',\n",
       " 'ERR2271042',\n",
       " 'ERR2270962',\n",
       " 'ERR2270940',\n",
       " 'ERR2182505',\n",
       " 'ERR2270960',\n",
       " 'ERR2270938',\n",
       " 'ERR2182604',\n",
       " 'ERR2182603',\n",
       " 'ERR2270961',\n",
       " 'ERR2271043',\n",
       " 'ERR2270939']"
      ]
     },
     "execution_count": 47,
     "metadata": {},
     "output_type": "execute_result"
    }
   ],
   "source": [
    "os.listdir(rd_dir1)"
   ]
  },
  {
   "cell_type": "code",
   "execution_count": 46,
   "metadata": {},
   "outputs": [],
   "source": [
    "import os\n",
    "\n",
    "for filename in os.listdir(rd_dir1):\n",
    "    if filename.endswith(\".fastq.gz\") or filename.endswith(\".py\"): \n",
    "        print(os.path.join(directory, filename))\n",
    "        continue\n",
    "    else:\n",
    "        continue"
   ]
  },
  {
   "cell_type": "code",
   "execution_count": null,
   "metadata": {},
   "outputs": [],
   "source": []
  }
 ],
 "metadata": {
  "kernelspec": {
   "display_name": "Python 3",
   "language": "python",
   "name": "python3"
  },
  "language_info": {
   "codemirror_mode": {
    "name": "ipython",
    "version": 3
   },
   "file_extension": ".py",
   "mimetype": "text/x-python",
   "name": "python",
   "nbconvert_exporter": "python",
   "pygments_lexer": "ipython3",
   "version": "3.7.3"
  }
 },
 "nbformat": 4,
 "nbformat_minor": 4
}
