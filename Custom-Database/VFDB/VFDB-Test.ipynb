{
 "cells": [
  {
   "cell_type": "markdown",
   "metadata": {},
   "source": [
    "## Humann2-VFDB Test"
   ]
  },
  {
   "cell_type": "markdown",
   "metadata": {},
   "source": [
    "### VFDB原有结果"
   ]
  },
  {
   "cell_type": "markdown",
   "metadata": {},
   "source": [
    "E.coli str. K-12 substr. MG1655   \n",
    "job id: Dec_26-2784310102"
   ]
  },
  {
   "cell_type": "markdown",
   "metadata": {},
   "source": [
    "https://www.ncbi.nlm.nih.gov/bioproject/?term=PRJNA40075"
   ]
  },
  {
   "cell_type": "code",
   "execution_count": null,
   "metadata": {},
   "outputs": [],
   "source": [
    "conda activate humann2"
   ]
  },
  {
   "cell_type": "markdown",
   "metadata": {},
   "source": [
    "Path:   \n",
    "`/home/junyuchen/Lab/Custom-DataBase/Chocophlan/g__Escherichia.s__Escherichia_coli.centroids.v0.1.1.ffn`"
   ]
  },
  {
   "cell_type": "markdown",
   "metadata": {},
   "source": [
    "```shell\n",
    "humann2 --threads 4 --bypass-nucleotide-index --nucleotide-database /home/junyuchen/Lab/Custom-DataBase/VFDB/DataBase/VFDB-2019-12-20 --input /home/junyuchen/Lab/Custom-DataBase/Chocophlan/g__Escherichia.s__Escherichia_coli.centroids.v0.1.1.ffn --output g__Escherichia.s__Escherichia_coli --id-mapping /home/junyuchen/Lab/Custom-DataBase/VFDB/DataBase/VFDB-2019-12-20/id-mapping-VFDB-2019-12-20.tsv\n",
    "```"
   ]
  },
  {
   "cell_type": "code",
   "execution_count": 1,
   "metadata": {},
   "outputs": [
    {
     "name": "stdout",
     "output_type": "stream",
     "text": [
      "g__Escherichia.s__Escherichia_coli.centroids.v0.1.1_genefamilies.tsv\n",
      "\u001b[0m\u001b[01;34mg__Escherichia.s__Escherichia_coli.centroids.v0.1.1_humann2_temp\u001b[0m\n",
      "g__Escherichia.s__Escherichia_coli.centroids.v0.1.1_pathabundance.tsv\n",
      "g__Escherichia.s__Escherichia_coli.centroids.v0.1.1_pathcoverage.tsv\n"
     ]
    }
   ],
   "source": [
    "ls ~/Lab/Custom-DataBase/VFDB/Test-DataBase/g__Escherichia.s__Escherichia_coli"
   ]
  },
  {
   "cell_type": "markdown",
   "metadata": {},
   "source": [
    "### 单菌全基因组"
   ]
  },
  {
   "cell_type": "markdown",
   "metadata": {},
   "source": [
    "Pseudomonas simiae WCS417   \n",
    "job id: Dec_26-5704684358"
   ]
  },
  {
   "cell_type": "markdown",
   "metadata": {},
   "source": [
    "结果：\n",
    "\n",
    "http://www.mgc.ac.cn/cgi-bin/VFs/v5/main.cgi?JobID=Dec_26-5704684358"
   ]
  },
  {
   "cell_type": "code",
   "execution_count": null,
   "metadata": {},
   "outputs": [],
   "source": [
    "Lab/Custom-DataBase/VFDB/TestData/Pseudomonas_simiae_WCS417_2455.fna"
   ]
  },
  {
   "cell_type": "markdown",
   "metadata": {},
   "source": [
    "```shell\n",
    "humann2 --threads 4 --bypass-nucleotide-index --nucleotide-database /home/junyuchen/Lab/Custom-DataBase/VFDB/DataBase/VFDB-2019-12-20 --input /home/junyuchen/Lab/Custom-DataBase/VFDB/TestData/Pseudomonas_simiae_WCS417_2455.ffn --output WCS417 --id-mapping /home/junyuchen/Lab/Custom-DataBase/VFDB/DataBase/VFDB-2019-12-20/id-mapping-VFDB-2019-12-20.tsv\n",
    "```"
   ]
  },
  {
   "cell_type": "code",
   "execution_count": null,
   "metadata": {},
   "outputs": [],
   "source": []
  },
  {
   "cell_type": "markdown",
   "metadata": {},
   "source": [
    "### stool sample 多菌"
   ]
  },
  {
   "cell_type": "markdown",
   "metadata": {},
   "source": [
    "SRS014459-Stool.fasta   \n",
    "ID : Dec_24-9194092055"
   ]
  },
  {
   "cell_type": "markdown",
   "metadata": {},
   "source": [
    "failed VFanalyser 未检测出"
   ]
  },
  {
   "cell_type": "code",
   "execution_count": null,
   "metadata": {},
   "outputs": [],
   "source": [
    "/home/junyuchen/Lab/Custom-DataBase/VFDB/TestData/SRS014459-Stool.fasta"
   ]
  },
  {
   "cell_type": "markdown",
   "metadata": {},
   "source": [
    "```shell\n",
    "humann2 --threads 4 --bypass-nucleotide-index --nucleotide-database /home/junyuchen/Lab/Custom-DataBase/VFDB/DataBase/VFDB-2019-12-20 --input /home/junyuchen/Lab/Custom-DataBase/VFDB/TestData/SRS014459-Stool.fasta --output SRS014459-Stool --id-mapping /home/junyuchen/Lab/Custom-DataBase/VFDB/DataBase/VFDB-2019-12-20/id-mapping-VFDB-2019-12-20.tsv\n",
    "```"
   ]
  },
  {
   "cell_type": "markdown",
   "metadata": {},
   "source": [
    "未识别，数据量太小"
   ]
  },
  {
   "cell_type": "markdown",
   "metadata": {},
   "source": [
    "#### iHMP-HSM7J4QT-setB"
   ]
  },
  {
   "cell_type": "code",
   "execution_count": 2,
   "metadata": {},
   "outputs": [
    {
     "name": "stdout",
     "output_type": "stream",
     "text": [
      "HSM7J4QT_genefamilies.tsv  HSM7J4QT_pathabundance.tsv\n",
      "\u001b[0m\u001b[01;34mHSM7J4QT_humann2_temp\u001b[0m      HSM7J4QT_pathcoverage.tsv\n"
     ]
    }
   ],
   "source": [
    "ls ~/Lab/Custom-DataBase/VFDB/Test-DataBase/iHMP-HSM7J4QT-setB"
   ]
  },
  {
   "cell_type": "code",
   "execution_count": 3,
   "metadata": {},
   "outputs": [
    {
     "name": "stdout",
     "output_type": "stream",
     "text": [
      "# Gene Family\tHSM7J4QT_Abundance-RPKs\n",
      "UNMAPPED\t7879093.0000000000\n",
      "tuf\t311.2549367516\n",
      "tuf|g__Mycoplasma.s__mycoides\t97.2894360701\n",
      "tuf|g__Mycoplasma.s__penetrans\t52.9389852550\n",
      "tuf|g__Mycoplasma.s__hyopneumoniae\t35.7590193883\n",
      "tuf|g__Mycoplasma.s__synoviae\t32.6786073565\n",
      "tuf|g__Mycoplasma.s__mobile\t26.3589318648\n",
      "tuf|g__Mycoplasma.s__pulmonis\t19.7239209818\n",
      "tuf|g__Mycoplasma.s__gallisepticum\t19.3621437388\n"
     ]
    }
   ],
   "source": [
    "head ~/Lab/Custom-DataBase/VFDB/Test-DataBase/iHMP-HSM7J4QT-setB/HSM7J4QT_genefamilies.tsv"
   ]
  },
  {
   "cell_type": "code",
   "execution_count": null,
   "metadata": {},
   "outputs": [],
   "source": []
  }
 ],
 "metadata": {
  "kernelspec": {
   "display_name": "Bash",
   "language": "bash",
   "name": "bash"
  },
  "language_info": {
   "codemirror_mode": "shell",
   "file_extension": ".sh",
   "mimetype": "text/x-sh",
   "name": "bash"
  }
 },
 "nbformat": 4,
 "nbformat_minor": 4
}
