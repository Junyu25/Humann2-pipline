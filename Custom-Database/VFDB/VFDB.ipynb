{
 "cells": [
  {
   "cell_type": "markdown",
   "metadata": {},
   "source": [
    "## DataBase"
   ]
  },
  {
   "cell_type": "code",
   "execution_count": 3,
   "metadata": {},
   "outputs": [
    {
     "name": "stdout",
     "output_type": "stream",
     "text": [
      "/home/junyuchen/Lab/Custom-DataBase\n"
     ]
    }
   ],
   "source": [
    "pwd"
   ]
  },
  {
   "cell_type": "code",
   "execution_count": 4,
   "metadata": {},
   "outputs": [],
   "source": [
    "cd /home/junyuchen/Lab/Custom-DataBase/VFDB/DataBase"
   ]
  },
  {
   "cell_type": "code",
   "execution_count": 5,
   "metadata": {},
   "outputs": [
    {
     "name": "stdout",
     "output_type": "stream",
     "text": [
      "VFDB_setA_nt.fas   VFDB_setB_nt_anno.txt  VFDB_setB_pro_anno.txt\n",
      "VFDB_setA_pro.fas  VFDB_setB_nt.fas       VFDB_setB_pro.fas\n"
     ]
    }
   ],
   "source": [
    "ls"
   ]
  },
  {
   "cell_type": "code",
   "execution_count": 6,
   "metadata": {},
   "outputs": [
    {
     "name": "stdout",
     "output_type": "stream",
     "text": [
      "32522\n"
     ]
    }
   ],
   "source": [
    "grep \">\" VFDB_setB_nt.fas | wc -l"
   ]
  },
  {
   "cell_type": "code",
   "execution_count": 7,
   "metadata": {},
   "outputs": [
    {
     "name": "stdout",
     "output_type": "stream",
     "text": [
      "28616\n"
     ]
    }
   ],
   "source": [
    "grep \">\" VFDB_setB_pro.fas | wc -l"
   ]
  },
  {
   "cell_type": "markdown",
   "metadata": {},
   "source": [
    "### Mock Data"
   ]
  },
  {
   "cell_type": "code",
   "execution_count": 5,
   "metadata": {},
   "outputs": [
    {
     "name": "stdout",
     "output_type": "stream",
     "text": [
      "g__Acinetobacter.s__Acinetobacter_baumannii.centroids.v0.1.1.ffn\n",
      "\u001b[0m\u001b[01;31mg__Bacillus.s__Bacillus_anthracis.centroids.v0.1.1.ffn.gz\u001b[0m\n",
      "\u001b[01;31mg__Escherichia.s__Escherichia_coli.centroids.v0.1.1.ffn.gz\u001b[0m\n",
      "\u001b[01;31mg__Mycoplasma.s__Mycoplasma_agalactiae.centroids.v0.1.1.ffn.gz\u001b[0m\n",
      "\u001b[01;31mg__Vibrio.s__Vibrio_cholerae.centroids.v0.1.1.ffn.gz\u001b[0m\n"
     ]
    }
   ],
   "source": [
    "ls Chocophlan "
   ]
  },
  {
   "cell_type": "markdown",
   "metadata": {},
   "source": [
    "A. baumannii 1656-2, 3940614 bp, NC_017162\n",
    "\n",
    "B. anthracis str. Ames, 5227293 bp, NC_003997\n",
    "\n",
    "E. coli ED1a, 5209548 bp, NC_011745\n",
    "\n",
    "V. cholerae O1 biovar El Tor str. N16961 chromosome I, 2961149 bp, NC_002505\n",
    "\n",
    "M. agalactiae PG2, 877438 bp, [NC_009497](http://www.ncbi.nlm.nih.gov/bioproject/?term=PRJNA16095)"
   ]
  },
  {
   "cell_type": "markdown",
   "metadata": {},
   "source": [
    "### Test Data ——iHMP sample"
   ]
  },
  {
   "cell_type": "code",
   "execution_count": null,
   "metadata": {},
   "outputs": [],
   "source": [
    "/home/junyuchen/Lab/HUMAnN2-Pipline/humann2-conda/cat_reads/CSM79HR8.fastq"
   ]
  },
  {
   "cell_type": "markdown",
   "metadata": {},
   "source": [
    "## Make Data Base"
   ]
  },
  {
   "cell_type": "markdown",
   "metadata": {},
   "source": [
    "### Bowtie Index"
   ]
  },
  {
   "cell_type": "code",
   "execution_count": null,
   "metadata": {},
   "outputs": [],
   "source": [
    "bowtie2-build VFDB_setA_nt.fas VFDB_setA_nt #core dataset"
   ]
  },
  {
   "cell_type": "code",
   "execution_count": null,
   "metadata": {},
   "outputs": [],
   "source": [
    "bowtie2-build VFDB_setB_nt.fas VFDB_setB_nt #full dataset"
   ]
  },
  {
   "cell_type": "markdown",
   "metadata": {},
   "source": [
    "### Diamond Data Base"
   ]
  },
  {
   "cell_type": "code",
   "execution_count": null,
   "metadata": {},
   "outputs": [],
   "source": [
    "diamond makedb --in VFDB_setA_pro.fas -d VFDB_setA_pro #reference database for DIAMOND"
   ]
  },
  {
   "cell_type": "code",
   "execution_count": null,
   "metadata": {},
   "outputs": [],
   "source": [
    "diamond makedb --in VFDB_setB_pro.fas -d VFDB_setB_pro #full dataset"
   ]
  },
  {
   "cell_type": "markdown",
   "metadata": {},
   "source": [
    "### id mapping"
   ]
  },
  {
   "cell_type": "markdown",
   "metadata": {},
   "source": [
    "VFG037625(gb|YP_001847073)"
   ]
  },
  {
   "cell_type": "code",
   "execution_count": null,
   "metadata": {},
   "outputs": [],
   "source": [
    "--id-mapping <id_mapping.tsv>"
   ]
  },
  {
   "cell_type": "code",
   "execution_count": null,
   "metadata": {},
   "outputs": [],
   "source": [
    "To run HUMAnN2 with the custom reference database annotations ($FILE), use the option \"--id-mapping $FILE\"."
   ]
  },
  {
   "cell_type": "code",
   "execution_count": null,
   "metadata": {},
   "outputs": [],
   "source": [
    "--id-mapping /home/junyuchen/Lab/Custom-DataBase/VFDB/VFDB-id-demo.txt"
   ]
  },
  {
   "cell_type": "code",
   "execution_count": null,
   "metadata": {},
   "outputs": [],
   "source": []
  },
  {
   "cell_type": "markdown",
   "metadata": {},
   "source": [
    "## Change Data Base"
   ]
  },
  {
   "cell_type": "markdown",
   "metadata": {},
   "source": [
    "不用更新Chocophlan Database！"
   ]
  },
  {
   "cell_type": "code",
   "execution_count": null,
   "metadata": {},
   "outputs": [],
   "source": [
    "humann2_config --update database_folders nucleotide /home/junyuchen/Lab/Custom-DataBase/VFDB/Bowtie2-Index_VFDB_setA_nt"
   ]
  },
  {
   "cell_type": "markdown",
   "metadata": {},
   "source": [
    "To run HUMAnN2 with your custom nucleotide reference database (located in DIR), use the option \"--bypass-nucleotide-index\" and provide the custom database as the ChocoPhlAn option with \"--nucleotide-database DIR\". If you would like to bypass the translated alignment portion of HUMAnN2, add the option \"--bypass-translated-search\"."
   ]
  },
  {
   "cell_type": "markdown",
   "metadata": {},
   "source": [
    "--bypass-nucleotide-index"
   ]
  },
  {
   "cell_type": "markdown",
   "metadata": {},
   "source": [
    "--nucleotide-database /home/junyuchen/Lab/Custom-DataBase/VFDB/Bowtie2-Index_VFDB_setA_nt"
   ]
  },
  {
   "cell_type": "code",
   "execution_count": null,
   "metadata": {},
   "outputs": [],
   "source": [
    "--bypass-translated-search"
   ]
  },
  {
   "cell_type": "code",
   "execution_count": null,
   "metadata": {},
   "outputs": [],
   "source": [
    "humann2_config --update database_folders protein /home/junyuchen/Lab/Custom-DataBase/VFDB/Diamod-VFDB_setA_pro"
   ]
  },
  {
   "cell_type": "code",
   "execution_count": null,
   "metadata": {},
   "outputs": [],
   "source": [
    "humann2_config --update database_folders protein /home/junyuchen/Lab/Custom-DataBase/VFDB/DataBase/VFDB-2019-12-16/Diamod-VFDB_setB_pro"
   ]
  },
  {
   "cell_type": "code",
   "execution_count": null,
   "metadata": {},
   "outputs": [],
   "source": [
    "humann2_config --update database_folders protein /home/junyuchen/Lab/Custom-DataBase/VFDB/DataBase/VFDB-2019-12-20"
   ]
  },
  {
   "cell_type": "code",
   "execution_count": null,
   "metadata": {},
   "outputs": [],
   "source": [
    "humann2_config --update database_folders protein /home/junyuchen/Lab/Custom-DataBase/VFDB/DataBase/VFDB-2019-12-20/Diamond"
   ]
  },
  {
   "cell_type": "markdown",
   "metadata": {},
   "source": [
    "## Test Data Base"
   ]
  },
  {
   "cell_type": "code",
   "execution_count": null,
   "metadata": {},
   "outputs": [],
   "source": [
    "humann2 --input demo.fastq --output demo_fastq"
   ]
  },
  {
   "cell_type": "code",
   "execution_count": null,
   "metadata": {},
   "outputs": [],
   "source": [
    "/home/junyuchen/Lab/Custom-DataBase/Chocophlan/g__Acinetobacter.s__Acinetobacter_baumannii.centroids.v0.1.1.ffn"
   ]
  },
  {
   "cell_type": "markdown",
   "metadata": {},
   "source": [
    "no tab & not tsv"
   ]
  },
  {
   "cell_type": "code",
   "execution_count": null,
   "metadata": {},
   "outputs": [],
   "source": [
    "humann2 --bypass-nucleotide-index --nucleotide-database /home/junyuchen/Lab/Custom-DataBase/VFDB/Bowtie2-Index_VFDB_setA_nt --input /home/junyuchen/Lab/Custom-DataBase/Chocophlan/g__Acinetobacter.s__Acinetobacter_baumannii.centroids.v0.1.1.ffn --output Acinetobacter-id --id-mapping /home/junyuchen/Lab/Custom-DataBase/VFDB/VFDB-id-demo.txt --bypass-translated-search"
   ]
  },
  {
   "cell_type": "markdown",
   "metadata": {},
   "source": [
    "id-gf"
   ]
  },
  {
   "cell_type": "code",
   "execution_count": null,
   "metadata": {},
   "outputs": [],
   "source": [
    "humann2 --bypass-nucleotide-index --nucleotide-database /home/junyuchen/Lab/Custom-DataBase/VFDB/Bowtie2-Index_VFDB_setA_nt --input /home/junyuchen/Lab/Custom-DataBase/Chocophlan/g__Acinetobacter.s__Acinetobacter_baumannii.centroids.v0.1.1.ffn --output Acinetobacter-id-gf --id-mapping /home/junyuchen/Lab/Custom-DataBase/VFDB/VFDB-id-gf.tsv --bypass-translated-search"
   ]
  },
  {
   "cell_type": "markdown",
   "metadata": {},
   "source": [
    "id-gf-taxa"
   ]
  },
  {
   "cell_type": "code",
   "execution_count": null,
   "metadata": {},
   "outputs": [],
   "source": [
    "humann2 --bypass-nucleotide-index --nucleotide-database /home/junyuchen/Lab/Custom-DataBase/VFDB/Bowtie2-Index_VFDB_setA_nt --input /home/junyuchen/Lab/Custom-DataBase/Chocophlan/g__Acinetobacter.s__Acinetobacter_baumannii.centroids.v0.1.1.ffn --output Acinetobacter-id-gf-taxa --id-mapping /home/junyuchen/Lab/Custom-DataBase/VFDB/VFDB-id-demo.tsv --bypass-translated-search"
   ]
  },
  {
   "cell_type": "code",
   "execution_count": null,
   "metadata": {},
   "outputs": [],
   "source": [
    "VFDB-id-gf-len-taxa"
   ]
  },
  {
   "cell_type": "code",
   "execution_count": null,
   "metadata": {},
   "outputs": [],
   "source": [
    "humann2 --bypass-nucleotide-index --nucleotide-database /home/junyuchen/Lab/Custom-DataBase/VFDB/Bowtie2-Index_VFDB_setA_nt --input /home/junyuchen/Lab/Custom-DataBase/Chocophlan/g__Acinetobacter.s__Acinetobacter_baumannii.centroids.v0.1.1.ffn --output Acinetobacter-id-mapping --id-mapping /home/junyuchen/Lab/Custom-DataBase/VFDB/VFDB-id-mapping.tsv --bypass-translated-search"
   ]
  },
  {
   "cell_type": "code",
   "execution_count": null,
   "metadata": {},
   "outputs": [],
   "source": [
    "VFDB-id-mapping-len_int.tsv"
   ]
  },
  {
   "cell_type": "code",
   "execution_count": null,
   "metadata": {},
   "outputs": [],
   "source": [
    "humann2 --bypass-nucleotide-index --nucleotide-database /home/junyuchen/Lab/Custom-DataBase/VFDB/Bowtie2-Index_VFDB_setA_nt --input /home/junyuchen/Lab/Custom-DataBase/Chocophlan/g__Acinetobacter.s__Acinetobacter_baumannii.centroids.v0.1.1.ffn --output Acinetobacter-id-mapping-len_int --id-mapping /home/junyuchen/Lab/Custom-DataBase/VFDB/VFDB-id-mapping-len_int.tsv --bypass-translated-search"
   ]
  },
  {
   "cell_type": "markdown",
   "metadata": {},
   "source": [
    "VFDB-id-mapping-len_int.tsv don't bypass protein"
   ]
  },
  {
   "cell_type": "code",
   "execution_count": null,
   "metadata": {},
   "outputs": [],
   "source": [
    "humann2 --bypass-nucleotide-index --nucleotide-database /home/junyuchen/Lab/Custom-DataBase/VFDB/Bowtie2-Index_VFDB_setA_nt --input /home/junyuchen/Lab/Custom-DataBase/Chocophlan/g__Acinetobacter.s__Acinetobacter_baumannii.centroids.v0.1.1.ffn --output Acinetobacter-id-mapping-len_int_pro --id-mapping /home/junyuchen/Lab/Custom-DataBase/VFDB/VFDB-id-mapping-len_int.tsv"
   ]
  },
  {
   "cell_type": "markdown",
   "metadata": {},
   "source": [
    "### Full dataset"
   ]
  },
  {
   "cell_type": "code",
   "execution_count": null,
   "metadata": {},
   "outputs": [],
   "source": [
    "humann2 --bypass-nucleotide-index --nucleotide-database /home/junyuchen/Lab/Custom-DataBase/VFDB/Bowtie2-Index_VFDB_setB_nt --input /home/junyuchen/Lab/Custom-DataBase/Chocophlan/g__Acinetobacter.s__Acinetobacter_baumannii.centroids.v0.1.1.ffn --output Acinetobacter_setB --bypass-translated-search"
   ]
  },
  {
   "cell_type": "code",
   "execution_count": null,
   "metadata": {},
   "outputs": [],
   "source": [
    "humann2 --threads 4 --bypass-nucleotide-index --nucleotide-database /home/junyuchen/Lab/Custom-DataBase/VFDB/Bowtie2-Index_VFDB_setB_nt --input /home/junyuchen/Lab/HUMAnN2-Pipline/humann2-conda/cat_reads/HSM7J4QT.fastq --output iHMP-HSM7J4QT-setB --id-mapping /home/junyuchen/Lab/Custom-DataBase/VFDB/id-mapping-full.tsv"
   ]
  },
  {
   "cell_type": "markdown",
   "metadata": {},
   "source": [
    "### Tset iHMP data"
   ]
  },
  {
   "cell_type": "code",
   "execution_count": null,
   "metadata": {},
   "outputs": [],
   "source": [
    "/home/junyuchen/Lab/HUMAnN2-Pipline/humann2-conda/cat_reads/CSM79HR8.fastq"
   ]
  },
  {
   "cell_type": "code",
   "execution_count": null,
   "metadata": {},
   "outputs": [],
   "source": [
    "humann2 --bypass-nucleotide-index --nucleotide-database /home/junyuchen/Lab/Custom-DataBase/VFDB/Bowtie2-Index_VFDB_setA_nt --input /home/junyuchen/Lab/HUMAnN2-Pipline/humann2-conda/cat_reads/CSM79HR8.fastq --output iHMP-CSM79HR8 --id-mapping /home/junyuchen/Lab/Custom-DataBase/VFDB/VFDB-id-mapping-len_int.tsv"
   ]
  },
  {
   "cell_type": "code",
   "execution_count": null,
   "metadata": {},
   "outputs": [],
   "source": [
    "/home/junyuchen/Lab/HUMAnN2-Pipline/humann2-conda/cat_reads/HSM7J4QT.fastq"
   ]
  },
  {
   "cell_type": "code",
   "execution_count": null,
   "metadata": {},
   "outputs": [],
   "source": [
    "humann2 --bypass-nucleotide-index --nucleotide-database /home/junyuchen/Lab/Custom-DataBase/VFDB/Bowtie2-Index_VFDB_setA_nt --input /home/junyuchen/Lab/HUMAnN2-Pipline/humann2-conda/cat_reads/HSM7J4QT.fastq --output iHMP-HSM7J4QT --id-mapping /home/junyuchen/Lab/Custom-DataBase/VFDB/VFDB-id-mapping-len_int.tsv"
   ]
  },
  {
   "cell_type": "markdown",
   "metadata": {},
   "source": [
    "## 验证 Verification"
   ]
  },
  {
   "cell_type": "markdown",
   "metadata": {},
   "source": [
    "g__Acinetobacter.s__baumannii.p__1656-2.fasta\n",
    "\n",
    "A. baumannii 1656-2, 3940614 bp, NC_017162"
   ]
  },
  {
   "cell_type": "code",
   "execution_count": null,
   "metadata": {},
   "outputs": [],
   "source": [
    "/home/junyuchen/Lab/Custom-DataBase/VFDB/g__Acinetobacter.s__baumannii.p__1656-2.fasta"
   ]
  },
  {
   "cell_type": "code",
   "execution_count": null,
   "metadata": {},
   "outputs": [],
   "source": [
    "humann2 --bypass-nucleotide-index --nucleotide-database /home/junyuchen/Lab/Custom-DataBase/VFDB/Bowtie2-Index_VFDB_setA_nt --input /home/junyuchen/Lab/Custom-DataBase/VFDB/g__Acinetobacter.s__baumannii.p__1656-2.fasta --output Verification --id-mapping /home/junyuchen/Lab/Custom-DataBase/VFDB/VFDB-id-mapping-len_int.tsv --bypass-translated-search"
   ]
  },
  {
   "cell_type": "markdown",
   "metadata": {},
   "source": [
    "### Full"
   ]
  },
  {
   "cell_type": "code",
   "execution_count": null,
   "metadata": {},
   "outputs": [],
   "source": [
    "humann2 --bypass-nucleotide-index --nucleotide-database /home/junyuchen/Lab/Custom-DataBase/VFDB/Bowtie2-Index_VFDB_setB_nt --input /home/junyuchen/Lab/Custom-DataBase/VFDB/g__Acinetobacter.s__baumannii.p__1656-2.fasta --output Verification/g__Acinetobacter.s__baumannii_setB --id-mapping /home/junyuchen/Lab/Custom-DataBase/VFDB/id-mapping-full.tsv --bypass-translated-search"
   ]
  },
  {
   "cell_type": "markdown",
   "metadata": {},
   "source": [
    "### WGS"
   ]
  },
  {
   "cell_type": "code",
   "execution_count": null,
   "metadata": {},
   "outputs": [],
   "source": [
    "/home/junyuchen/Lab/Custom-DataBase/VFDB/TestData/Pseudomonas_simiae_WCS417_2455.ffn"
   ]
  },
  {
   "cell_type": "code",
   "execution_count": null,
   "metadata": {},
   "outputs": [],
   "source": [
    "humann2 --threads 4 --bypass-nucleotide-index --nucleotide-database /home/junyuchen/Lab/Custom-DataBase/VFDB/Bowtie2-Index_VFDB_setB_nt --input /home/junyuchen/Lab/Custom-DataBase/VFDB/TestData/Pseudomonas_simiae_WCS417_2455.ffn --output Verification/Pseudomonas_simiae_WCS417_2455_setB --id-mapping /home/junyuchen/Lab/Custom-DataBase/VFDB/id-mapping-full.tsv "
   ]
  },
  {
   "cell_type": "code",
   "execution_count": null,
   "metadata": {},
   "outputs": [],
   "source": []
  },
  {
   "cell_type": "markdown",
   "metadata": {},
   "source": [
    "### Final parameter"
   ]
  },
  {
   "cell_type": "markdown",
   "metadata": {},
   "source": [
    "```shell\n",
    "humann2_config --update database_folders protein /home/junyuchen/Lab/Custom-DataBase/VFDB/DataBase/VFDB-2019-12-16/Diamod-VFDB_setB_pro\n",
    "```"
   ]
  },
  {
   "cell_type": "markdown",
   "metadata": {},
   "source": [
    "```shell\n",
    "humann2 \n",
    "--bypass-nucleotide-index \n",
    "--nucleotide-database /home/junyuchen/Lab/Custom-DataBase/VFDB/DataBase/VFDB-2019-12-20 \n",
    "--input cat_reads dir \n",
    "--output dir \n",
    "--id-mapping /home/junyuchen/Lab/Custom-DataBase/VFDB/DataBase/VFDB-2019-12-20/id-mapping-VFDB-2019-12-20.tsv\n",
    "```"
   ]
  },
  {
   "cell_type": "code",
   "execution_count": null,
   "metadata": {},
   "outputs": [],
   "source": [
    "humann2 --threads 4 --bypass-nucleotide-index --nucleotide-database /home/junyuchen/Lab/Custom-DataBase/VFDB/Bowtie2-Index_VFDB_setB_nt --input /home/junyuchen/Lab/HUMAnN2-Pipline/humann2-conda/cat_reads/HSM7J4QT.fastq --output iHMP-HSM7J4QT-setB --id-mapping /home/junyuchen/Lab/Custom-DataBase/VFDB/id-mapping-full.tsv"
   ]
  }
 ],
 "metadata": {
  "kernelspec": {
   "display_name": "Bash",
   "language": "bash",
   "name": "bash"
  },
  "language_info": {
   "codemirror_mode": "shell",
   "file_extension": ".sh",
   "mimetype": "text/x-sh",
   "name": "bash"
  }
 },
 "nbformat": 4,
 "nbformat_minor": 4
}
