{
 "cells": [
  {
   "cell_type": "markdown",
   "metadata": {},
   "source": [
    "# VFDB"
   ]
  },
  {
   "cell_type": "markdown",
   "metadata": {},
   "source": [
    "https://github.com/biobakery/humann#custom-nucleotide-reference-database"
   ]
  },
  {
   "cell_type": "markdown",
   "metadata": {},
   "source": [
    "## Database File"
   ]
  },
  {
   "cell_type": "code",
   "execution_count": 5,
   "metadata": {},
   "outputs": [
    {
     "name": "stdout",
     "output_type": "stream",
     "text": [
      "VFDB_setA_nt.fas   VFDB_setB_nt_anno.txt  VFDB_setB_pro_anno.txt\n",
      "VFDB_setA_pro.fas  VFDB_setB_nt.fas       VFDB_setB_pro.fas\n"
     ]
    }
   ],
   "source": [
    "ls"
   ]
  },
  {
   "cell_type": "code",
   "execution_count": 6,
   "metadata": {},
   "outputs": [
    {
     "name": "stdout",
     "output_type": "stream",
     "text": [
      "32522\n"
     ]
    }
   ],
   "source": [
    "grep \">\" VFDB_setB_nt.fas | wc -l"
   ]
  },
  {
   "cell_type": "code",
   "execution_count": 7,
   "metadata": {},
   "outputs": [
    {
     "name": "stdout",
     "output_type": "stream",
     "text": [
      "28616\n"
     ]
    }
   ],
   "source": [
    "grep \">\" VFDB_setB_pro.fas | wc -l"
   ]
  },
  {
   "cell_type": "markdown",
   "metadata": {},
   "source": [
    "## Custom Database"
   ]
  },
  {
   "cell_type": "markdown",
   "metadata": {},
   "source": [
    "### Custom nucleotide reference database | Bowtie Index "
   ]
  },
  {
   "cell_type": "code",
   "execution_count": null,
   "metadata": {},
   "outputs": [],
   "source": [
    "bowtie2-build VFDB_setA_nt.fas VFDB_setA_nt #core dataset"
   ]
  },
  {
   "cell_type": "code",
   "execution_count": null,
   "metadata": {},
   "outputs": [],
   "source": [
    "bowtie2-build VFDB_setB_nt.fas VFDB_setB_nt #full dataset"
   ]
  },
  {
   "cell_type": "markdown",
   "metadata": {},
   "source": [
    "### Custom protein reference database | Diamond Database"
   ]
  },
  {
   "cell_type": "code",
   "execution_count": null,
   "metadata": {},
   "outputs": [],
   "source": [
    "diamond makedb --in VFDB_setA_pro.fas -d VFDB_setA_pro #reference database for DIAMOND"
   ]
  },
  {
   "cell_type": "code",
   "execution_count": null,
   "metadata": {},
   "outputs": [],
   "source": [
    "diamond makedb --in VFDB_setB_pro.fas -d VFDB_setB_pro #full dataset"
   ]
  },
  {
   "cell_type": "markdown",
   "metadata": {},
   "source": [
    "### Custom reference database annotations | id mapping"
   ]
  },
  {
   "cell_type": "code",
   "execution_count": 47,
   "metadata": {},
   "outputs": [
    {
     "name": "stdout",
     "output_type": "stream",
     "text": [
      "VFG037176(gb|YP_001844723)\n",
      "VFG037176(gb|YP_001844723) (plc) phospholipase C [Phospholipase C (VF0470)] [Acinetobacter baumannii ACICU]\n",
      "2169\n"
     ]
    }
   ],
   "source": [
    "from Bio import SeqIO\n",
    "record_iterator = SeqIO.parse(\"./DataBase/VFDB-2019-12-16/VFDB_setA_nt.fas\", \"fasta\")\n",
    "\n",
    "first_record = next(record_iterator)\n",
    "print(first_record.id)\n",
    "print(first_record.description)\n",
    "print(len(first_record))"
   ]
  },
  {
   "cell_type": "markdown",
   "metadata": {},
   "source": [
    "```python\n",
    "import re\n",
    "import pandas as pd\n",
    "from Bio import SeqIO\n",
    "\n",
    "df = pd.DataFrame()\n",
    "for seq in SeqIO.parse(\"./DataBase/VFDB-2019-12-20/VFDB_setB_nt.fas\", \"fasta\"):\n",
    "    gf = re.findall('\\((.*?)\\)', seq.description)\n",
    "    gi = re.findall('\\((.*?)\\)', seq.id)\n",
    "    gis = \"\".join(gi)\n",
    "    if gis in gf:\n",
    "        gf.remove(gis)\n",
    "    \n",
    "    des2 = re.findall('\\[(.*?)\\]', seq.description)\n",
    "    taxa1 = des2[-1].split(\" \")\n",
    "    taxa = \"g__\"+taxa1[0]+\".s__\"+taxa1[1]\n",
    "    \n",
    "    vf = re.findall('\\((.*?)\\)', str(des2[-2]))\n",
    "    #vfid = vf[-1]\n",
    "    \n",
    "    df = df.append({'id':seq.id, 'gf':gf[0], 'len':str(len(seq)), 'taxa':taxa}, ignore_index=True, sort=None)\n",
    "df.to_csv(\"id-VF-gf.tsv\", encoding = \"utf-8\", sep=\"\\t\", header=False, index=False)\n",
    "```"
   ]
  },
  {
   "cell_type": "markdown",
   "metadata": {},
   "source": [
    "`identifier|gene_family|gene_length|taxonomy`"
   ]
  },
  {
   "cell_type": "code",
   "execution_count": 3,
   "metadata": {},
   "outputs": [
    {
     "name": "stdout",
     "output_type": "stream",
     "text": [
      "VFG037176(gb|YP_001844723)\tplc\t2169\tg__Acinetobacter.s__baumannii\n",
      "VFG037177(gb|YP_001846906)\tplc\t2229\tg__Acinetobacter.s__baumannii\n",
      "VFG037203(gb|YP_001847849)\tplcD\t1626\tg__Acinetobacter.s__baumannii\n",
      "VFG037218(gb|YP_001847229)\tbasJ\t1170\tg__Acinetobacter.s__baumannii\n",
      "VFG037232(gb|YP_001847230)\tbasI\t756\tg__Acinetobacter.s__baumannii\n",
      "VFG037246(gb|YP_001847231)\tbasH\t735\tg__Acinetobacter.s__baumannii\n",
      "VFG037260(gb|YP_001847232)\tbarB\t1596\tg__Acinetobacter.s__baumannii\n",
      "VFG037274(gb|YP_001847233)\tbarA\t1611\tg__Acinetobacter.s__baumannii\n",
      "VFG037288(gb|YP_001847235)\tbasG\t1152\tg__Acinetobacter.s__baumannii\n",
      "VFG037302(gb|YP_001847236)\tbasF\t870\tg__Acinetobacter.s__baumannii\n"
     ]
    }
   ],
   "source": [
    "head id-mapping-full.tsv"
   ]
  },
  {
   "cell_type": "markdown",
   "metadata": {},
   "source": [
    "To run HUMAnN2 with the custom reference database annotations (FILE), use the option \"`--id-mapping $FILE`\"."
   ]
  },
  {
   "cell_type": "code",
   "execution_count": null,
   "metadata": {},
   "outputs": [],
   "source": [
    "--id-mapping <id_mapping.tsv>"
   ]
  },
  {
   "cell_type": "markdown",
   "metadata": {},
   "source": [
    "## Change Database"
   ]
  },
  {
   "cell_type": "code",
   "execution_count": null,
   "metadata": {},
   "outputs": [],
   "source": [
    "humann2_config --update database_folders nucleotide /home/junyuchen/Lab/Custom-DataBase/VFDB/Bowtie2-Index_VFDB_setA_nt"
   ]
  },
  {
   "cell_type": "markdown",
   "metadata": {},
   "source": [
    "To run HUMAnN2 with your custom nucleotide reference database (located in DIR), use the option \"`--bypass-nucleotide-index`\" and provide the custom database as the ChocoPhlAn option with \"`--nucleotide-database DIR`\". If you would like to bypass the translated alignment portion of HUMAnN2, add the option \"`--bypass-translated-search`\"."
   ]
  },
  {
   "cell_type": "code",
   "execution_count": null,
   "metadata": {},
   "outputs": [],
   "source": [
    "--bypass-nucleotide-index --nucleotide-database /home/junyuchen/Lab/Custom-DataBase/VFDB/Bowtie2-Index_VFDB_setA_nt"
   ]
  },
  {
   "cell_type": "code",
   "execution_count": null,
   "metadata": {},
   "outputs": [],
   "source": [
    "humann2_config --update database_folders protein /home/junyuchen/Lab/Custom-DataBase/VFDB/Diamod-VFDB_setA_pro"
   ]
  },
  {
   "cell_type": "markdown",
   "metadata": {},
   "source": [
    "### e.g."
   ]
  },
  {
   "cell_type": "code",
   "execution_count": null,
   "metadata": {},
   "outputs": [],
   "source": [
    "humann2 --threads 4 --bypass-nucleotide-index --nucleotide-database /home/junyuchen/Lab/Custom-DataBase/VFDB/Bowtie2-Index_VFDB_setB_nt --input /home/junyuchen/Lab/Custom-DataBase/VFDB/TestData/Pseudomonas_simiae_WCS417_2455.ffn --output Verification/Pseudomonas_simiae_WCS417_2455_setB --id-mapping /home/junyuchen/Lab/Custom-DataBase/VFDB/id-mapping-full.tsv "
   ]
  },
  {
   "cell_type": "markdown",
   "metadata": {},
   "source": [
    "### Final parameter"
   ]
  },
  {
   "cell_type": "markdown",
   "metadata": {},
   "source": [
    "```shell\n",
    "humann2_config --update database_folders protein /home/junyuchen/Lab/Custom-DataBase/VFDB/DataBase/VFDB-2019-12-16/Diamod-VFDB_setB_pro\n",
    "```"
   ]
  },
  {
   "cell_type": "markdown",
   "metadata": {},
   "source": [
    "```shell\n",
    "humann2 \n",
    "--bypass-nucleotide-index \n",
    "--nucleotide-database /home/junyuchen/Lab/Custom-DataBase/VFDB/DataBase/VFDB-2019-12-20 \n",
    "--input cat_reads dir \n",
    "--output dir \n",
    "--id-mapping /home/junyuchen/Lab/Custom-DataBase/VFDB/DataBase/VFDB-2019-12-20/id-mapping-VFDB-2019-12-20.tsv\n",
    "```"
   ]
  },
  {
   "cell_type": "code",
   "execution_count": null,
   "metadata": {},
   "outputs": [],
   "source": [
    "humann2 --threads 4 --bypass-nucleotide-index --nucleotide-database /home/junyuchen/Lab/Custom-DataBase/VFDB/Bowtie2-Index_VFDB_setB_nt --input /home/junyuchen/Lab/HUMAnN2-Pipline/humann2-conda/cat_reads/HSM7J4QT.fastq --output iHMP-HSM7J4QT-setB --id-mapping /home/junyuchen/Lab/Custom-DataBase/VFDB/id-mapping-full.tsv"
   ]
  },
  {
   "cell_type": "code",
   "execution_count": null,
   "metadata": {},
   "outputs": [],
   "source": [
    "/home/junyuchen/Lab/Meta-Analysis/Scripts/Metagenomics_VFDB_only.py"
   ]
  }
 ],
 "metadata": {
  "kernelspec": {
   "display_name": "Bash",
   "language": "bash",
   "name": "bash"
  },
  "language_info": {
   "codemirror_mode": "shell",
   "file_extension": ".sh",
   "mimetype": "text/x-sh",
   "name": "bash"
  }
 },
 "nbformat": 4,
 "nbformat_minor": 4
}
