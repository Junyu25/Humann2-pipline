{
 "cells": [
  {
   "cell_type": "code",
   "execution_count": 3,
   "metadata": {},
   "outputs": [
    {
     "name": "stdout",
     "output_type": "stream",
     "text": [
      "but_nucl.fa\n",
      "but_prot.fa\n",
      "fungene_9.9.1_but_10000_unaligned_nucleotide_seqs_1.fa\n",
      "fungene_9.9.1_but_10000_unaligned_nucleotide_seqs.fa\n",
      "fungene_9.9.1_but_10000_unaligned_protein_seqs_1.fa\n",
      "fungene_9.9.1_but_10000_unaligned_protein_seqs.fa\n",
      "fungene_9.9.1_but_2365_unaligned_nucleotide_seqs.fa\n",
      "fungene_9.9.1_but_2365_unaligned_protein_seqs.fa\n"
     ]
    }
   ],
   "source": [
    "!ls ./Data"
   ]
  },
  {
   "cell_type": "code",
   "execution_count": 4,
   "metadata": {},
   "outputs": [
    {
     "name": "stdout",
     "output_type": "stream",
     "text": [
      "12608\n"
     ]
    }
   ],
   "source": [
    "!grep \">\" ./Data/but_nucl.fa | wc -l"
   ]
  },
  {
   "cell_type": "code",
   "execution_count": 5,
   "metadata": {},
   "outputs": [
    {
     "name": "stdout",
     "output_type": "stream",
     "text": [
      "15201\n"
     ]
    }
   ],
   "source": [
    "!grep \">\" ./Data/but_prot.fa | wc -l"
   ]
  },
  {
   "cell_type": "code",
   "execution_count": 35,
   "metadata": {},
   "outputs": [
    {
     "name": "stdout",
     "output_type": "stream",
     "text": [
      "2621\n"
     ]
    }
   ],
   "source": [
    "!grep \">\" ./Data/fungene_9.9.1_but_10000_unaligned_nucleotide_seqs.fa | wc -l"
   ]
  },
  {
   "cell_type": "code",
   "execution_count": 36,
   "metadata": {},
   "outputs": [
    {
     "name": "stdout",
     "output_type": "stream",
     "text": [
      "10000\n"
     ]
    }
   ],
   "source": [
    "!grep \">\" ./Data/fungene_9.9.1_but_10000_unaligned_nucleotide_seqs_1.fa | wc -l"
   ]
  },
  {
   "cell_type": "code",
   "execution_count": 37,
   "metadata": {},
   "outputs": [
    {
     "name": "stdout",
     "output_type": "stream",
     "text": [
      "10000\n"
     ]
    }
   ],
   "source": [
    "!grep \">\" ./Data/fungene_9.9.1_but_10000_unaligned_protein_seqs_1.fa | wc -l"
   ]
  },
  {
   "cell_type": "code",
   "execution_count": 38,
   "metadata": {
    "collapsed": true,
    "jupyter": {
     "outputs_hidden": true
    }
   },
   "outputs": [
    {
     "name": "stdout",
     "output_type": "stream",
     "text": [
      ">1035763549  location=22680..24194,organism=Propionibacterium acnes,definition=acetyl-CoA hydrolase\n",
      "atgtcagagcggattgccaacgcagccctgcgtcagaaagtgatgagcgcggacgacgcggctgccctcatccatgacggcgaccagatcggattcggtggattcactgggtcgggctaccccaaggaacttccaggcgcactgaccaagcgcatccaagagtcccacggccgtggtgagaagttcaccgtcaacgtcttcaccggagcctcgaccgctcctgaactcgacggcgccctcgcctctgtcgacggcatcggctggcgtatgccgtaccagtccgatccccagatgcgaagcaagatcaacgacggcacctccttctataccgacatccatctgtcggagtcgggcatgatggtgcgtcagggcttcttcggcaaggtcgacttcgccgtcatcgaggccacacgaatcaccgcggacggggatgtcgtcctcacctcgtcggttggcaacaacgcggtctactgtgacaccgccgagaaagtcatcatcgaggtaaattcgtggcagtccgaggacctcgaaggaatgcacgacatctacggtggttttgcgcttcctccgaaccgggtgccgatcccgattacccatcccggtgaccggatcggtgacaagttcctccacatcccccagaacaagattgtggcgatcatcgagaccgcaggccccgaccgcaacaccccgttcaagccgatcgacgacgactctcgcaagatcgccggattcctgctcgacttttatgacaacgaggtcaagcagggacgcatccccaagaacctgctgccgctccagtccggcgtcggcaacatcccgaacgccgttcttgacggcctgcttcactccgacctggagcatctgacctcgtacaccgaggtgatccaggacggcatgatcgacctcatcgacgccggcaagcttgacgtcgcctccgctaccgccttctcgctgtcgcctgactatgcgcacaagatgaacgagaatgcagccttctaccgcgatcacatcattttgcgcccgcaggaaatttcgaaccaccccgaggtcattcgccgcctcggcgtcatcggcgctaacggcatgatcgaggccgacatctatggcaatgtcaactcgacccatgtcatgggctcgcggatgatgaacggcatcggtggatccggcgacttcacccgcaatgcctacatttcggccttcgtgtccccatcgacagccaagggtggcgccatctcggcgatcgtcccgatggtctcccacgtcgaccacaccgagcacgacggcatggttatcatcaccgagcaaggcatcgctgatctgcgtggcctggccccacgccagcgcgccccgaagatcatcgagaactgtgcccacccggactaccgtccgatgctgctcgactactacgagcgtgcgctgcgcgactgcaagttcaagcacaccccgcacctgctgggtgaggcgtactcatggcacacccggttcctcgagaccggcaccatgaagaaggac\n",
      ">327332748  location=72572..74086,organism=Propionibacterium acnes HL096PA2,definition=succinate CoA transferase\n",
      "atgtcagagcggattgccaacgcagccctgcgtcagaaagtgatgagcgcggacgacgcggctgccctcatccatgacggcgaccagatcggattcggtggattcactgggtcgggctaccccaaggaacttccaggcgcactgaccaagcgcatccaagagtcccacggccgtggtgagaagttcaccgtcaacgtcttcaccggagcctcgaccgctcctgaactcgacggcgccctcgcctctgtcgacggcatcggctggcgtatgccgtaccagtccgatccccagatgcgaagcaagatcaacgacggcacctccttctataccgacatccatctgtcggagtcgggcatgatggtgcgtcagggcttcttcggcaaggtcgacttcgccgtcatcgaggccacacgaatcaccgcggacggggatgtcgtcctcacctcgtcggttggcaacaacgcggtctactgtgacaccgccgagaaagtcatcatcgaggtaaattcgtggcagtccgaggacctcgaaggaatgcacgacatctacggtggttttgcgcttcctccgaaccgggtgccgatcccgattacccatcccggtgaccggatcggtgacaagttcctccacatcccccagaacaagattgtggcgatcatcgagaccgcaggccccgaccgcaacaccccgttcaagccgatcgacgacgactctcgcaagatcgccggattcctgctcgacttttatgacaacgaggtcaagcagggacgcatccccaagaacctgctgccgctccagtccggcgtcggcaacatcccgaacgccgttcttgacggcctgcttcactccgacctggagcatctgacctcgtacaccgaggtgatccaggacggcatgatcgacctcatcgacgccggcaagcttgacgtcgcctccgctaccgccttctcgctgtcgcctgactatgcgcacaagatgaacgagaatgcagccttctaccgcgatcacatcattttgcgcccgcaggaaatttcgaaccaccccgaggtcattcgccgcctcggcgtcatcggcgctaacggcatgatcgaggccgacatctatggcaatgtcaactcgacccatgtcatgggctcgcggatgatgaacggcatcggtggatccggcgacttcacccgcaatgcctacatttcggccttcgtgtccccatcgacagccaagggtggcgccatctcggcgatcgtcccgatggtctcccacgtcgaccacaccgagcacgacggcatggttatcatcaccgagcaaggcatcgctgatctgcgtggcctggccccacgccagcgcgccccgaagatcatcgagaactgtgcccacccggactaccgtccgatgctgctcgactactacgagcgtgcgctgcgcgactgcaagttcaagcacaccccgcacctgctgggtgaggcgtactcatggcacacccggttcctcgagaccggcaccatgaagaaggac\n",
      ">574128756  location=26342..27856,organism=Propionibacterium acnes JCM 18916,definition=coenzyme A transferase\n",
      "atgtcagagcggattgccaacgcagccctgcgtcagaaagtgatgagcgcggacgacgcggctgccctcatccatgacggcgaccagatcggattcggtggattcactgggtcgggctaccccaaggaacttccaggcgcactgaccaagcgcatccaagagtcccacggccgtggtgagaagttcaccgtcaacgtcttcaccggagcctcgaccgctcctgaactcgacggcgccctcgcctctgtcgacggcatcggctggcgtatgccgtaccagtccgatccccagatgcgaagcaagatcaacgacggcacctccttctataccgacatccatctgtcggagtcgggcatgatggtgcgtcagggcttcttcggcaaggtcgacttcgccgtcatcgaggccacacgaatcaccgcggacggggatgtcgtcctcacctcgtcggttggcaacaacgcggtctactgtgacaccgccgagaaagtcatcatcgaggtaaattcgtggcagtccgaggacctcgaaggaatgcacgacatctacggtggttttgcgcttcctccgaaccgggtgccgatcccgattacccatcccggtgaccggatcggtgacaagttcctccacatcccccagaacaagattgtggcgatcatcgagaccgcaggccccgaccgcaacaccccgttcaagccgatcgacgacgactctcgcaagatcgccggattcctgctcgacttttatgacaacgaggtcaagcagggacgcatccccaagaacctgctgccgctccagtccggcgtcggcaacatcccgaacgccgttcttgacggcctgcttcactccgacctggagcatctgacctcgtacaccgaggtgatccaggacggcatgatcgacctcatcgacgccggcaagcttgacgtcgcctccgctaccgccttctcgctgtcgcctgactatgcgcacaagatgaacgagaatgcagccttctaccgcgatcacatcattttgcgcccgcaggaaatttcgaaccaccccgaggtcattcgccgcctcggcgtcatcggcgctaacggcatgatcgaggccgacatctatggcaatgtcaactcgacccatgtcatgggctcgcggatgatgaacggcatcggtggatccggcgacttcacccgcaatgcctacatttcggccttcgtgtccccatcgacagccaagggtggcgccatctcggcgatcgtcccgatggtctcccacgtcgaccacaccgagcacgacggcatggttatcatcaccgagcaaggcatcgctgatctgcgtggcctggccccacgccagcgcgccccgaagatcatcgagaactgtgcccacccggactaccgtccgatgctgctcgactactacgagcgtgcgctgcgcgactgcaagttcaagcacaccccgcacctgctgggtgaggcgtactcatggcacacccggttcctcgagaccggcaccatgaagaaggac\n",
      ">481319564  location=2182299..2183813,organism=Propionibacterium acnes HL096PA1,definition=coenzyme A transferase (putative succinyl-CoA or butyryl-CoA:coenzyme A transferase)\n",
      "atgtcagagcggattgccaacgcagccctgcgtcagaaagtgatgagcgcggacgacgcggctgccctcatccatgacggcgaccagatcggattcggtggattcactgggtcgggctaccccaaggaacttccaggcgcactgaccaagcgcatccaagagtcccacggccgtggtgagaagttcaccgtcaacgtcttcaccggagcctcgaccgctcctgaactcgacggcgccctcgcctctgtcgacggcatcggctggcgtatgccgtaccagtccgatccccagatgcgaagcaagatcaacgacggcacctccttctataccgacatccatctgtcggagtcgggcatgatggtgcgtcagggcttcttcggcaaggtcgacttcgccgtcatcgaggccacacgaatcaccgcggacggggatgtcgtcctcacctcgtcggttggcaacaacgcggtctactgtgacaccgccgagaaagtcatcatcgaggtaaattcgtggcagtccgaggacctcgaaggaatgcacgacatctacggtggttttgcgcttcctccgaaccgggtgccgatcccgattacccatcccggtgaccggatcggtgacaagttcctccacatcccccagaacaagattgtggcgatcatcgagaccgcaggccccgaccgcaacaccccgttcaagccgatcgacgacgactctcgcaagatcgccggattcctgctcgacttttatgacaacgaggtcaagcagggacgcatccccaagaacctgctgccgctccagtccggcgtcggcaacatcccgaacgccgttcttgacggcctgcttcactccgacctggagcatctgacctcgtacaccgaggtgatccaggacggcatgatcgacctcatcgacgccggcaagcttgacgtcgcctccgctaccgccttctcgctgtcgcctgactatgcgcacaagatgaacgagaatgcagccttctaccgcgatcacatcattttgcgcccgcaggaaatttcgaaccaccccgaggtcattcgccgcctcggcgtcatcggcgctaacggcatgatcgaggccgacatctatggcaatgtcaactcgacccatgtcatgggctcgcggatgatgaacggcatcggtggatccggcgacttcacccgcaatgcctacatttcggccttcgtgtccccatcgacagccaagggtggcgccatctcggcgatcgtcccgatggtctcccacgtcgaccacaccgagcacgacggcatggttatcatcaccgagcaaggcatcgctgatctgcgtggcctggccccacgccagcgcgccccgaagatcatcgagaactgtgcccacccggactaccgtccgatgctgctcgactactacgagcgtgcgctgcgcgactgcaagttcaagcacaccccgcacctgctgggtgaggcgtactcatggcacacccggttcctcgagaccggcaccatgaagaaggac\n",
      ">289158727  location=72559..74073,organism=Propionibacterium acnes J165,definition=succinate CoA transferase\n",
      "atgtcagagcggattgccaacgcagccctgcgtcagaaagtgatgagcgcggacgacgcggctgccctcatccatgacggcgaccagatcggattcggtggattcactgggtcgggctaccccaaggaacttccaggcgcactgaccaagcgcatccaagagtcccacggccgtggtgagaagttcaccgtcaacgtcttcaccggagcctcgaccgctcctgaactcgacggcgccctcgcctctgtcgacggcatcggctggcgtatgccgtaccagtccgatccccagatgcgaagcaagatcaacgacggcacctccttctataccgacatccatctgtcggagtcgggcatgatggtgcgtcagggcttcttcggcaaggtcgacttcgccgtcatcgaggccacacgaatcaccgcggacggggatgtcgtcctcacctcgtcggttggcaacaacgcggtctactgtgacaccgccgagaaagtcatcatcgaggtaaattcgtggcagtccgaggacctcgaaggaatgcacgacatctacggtggttttgcgcttcctccgaaccgggtgccgatcccgattacccatcccggtgaccggatcggtgacaagttcctccacatcccccagaacaagattgtggcgatcatcgagaccgcaggccccgaccgcaacaccccgttcaagccgatcgacgacgactctcgcaagatcgccggattcctgctcgacttttatgacaacgaggtcaagcagggacgcatccccaagaacctgctgccgctccagtccggcgtcggcaacatcccgaacgccgttcttgacggcctgcttcactccgacctggagcatctgacctcgtacaccgaggtgatccaggacggcatgatcgacctcatcgacgccggcaagcttgacgtcgcctccgctaccgccttctcgctgtcgcctgactatgcgcacaagatgaacgagaatgcagccttctaccgcgatcacatcattttgcgcccgcaggaaatttcgaaccaccccgaggtcattcgccgcctcggcgtcatcggcgctaacggcatgatcgaggccgacatctatggcaatgtcaactcgacccatgtcatgggctcgcggatgatgaacggcatcggtggatccggcgacttcacccgcaatgcctacatttcggccttcgtgtccccatcgacagccaagggtggcgccatctcggcgatcgtcccgatggtctcccacgtcgaccacaccgagcacgacggcatggttatcatcaccgagcaaggcatcgctgatctgcgtggcctggccccacgccagcgcgccccgaagatcatcgagaactgtgcccacccggactaccgtccgatgctgctcgactactacgagcgtgcgctgcgcgactgcaagttcaagcacaccccgcacctgctgggtgaggcgtactcatggcacacccggttcctcgagaccggcaccatgaagaaggac\n"
     ]
    }
   ],
   "source": [
    "!head ./Data/fungene_9.9.1_but_10000_unaligned_nucleotide_seqs_1.fa"
   ]
  },
  {
   "cell_type": "code",
   "execution_count": 39,
   "metadata": {
    "collapsed": true,
    "jupyter": {
     "outputs_hidden": true
    }
   },
   "outputs": [
    {
     "name": "stdout",
     "output_type": "stream",
     "text": [
      ">1035763549  coded_by=22680..24194,organism=Propionibacterium acnes,definition=acetyl-CoA hydrolase\n",
      "mserianaalrqkvmsaddaaalihdgdqigfggftgsgypkelpgaltkriqeshgrgekftvnvftgastapeldgalasvdgigwrmpyqsdpqmrskindgtsfytdihlsesgmmvrqgffgkvdfavieatritadgdvvltssvgnnavycdtaekviievnswqsedlegmhdiyggfalppnrvpipithpgdrigdkflhipqnkivaiietagpdrntpfkpidddsrkiagflldfydnevkqgripknllplqsgvgnipnavldgllhsdlehltsyteviqdgmidlidagkldvasatafslspdyahkmnenaafyrdhiilrpqeisnhpevirrlgvigangmieadiygnvnsthvmgsrmmngiggsgdftrnayisafvspstakggaisaivpmvshvdhtehdgmviiteqgiadlrglaprqrapkiiencahpdyrpmlldyyeralrdckfkhtphllgeayswhtrfletgtmkkd\n",
      ">327332748  coded_by=72572..74086,organism=Propionibacterium acnes HL096PA2,definition=succinate CoA transferase\n",
      "mserianaalrqkvmsaddaaalihdgdqigfggftgsgypkelpgaltkriqeshgrgekftvnvftgastapeldgalasvdgigwrmpyqsdpqmrskindgtsfytdihlsesgmmvrqgffgkvdfavieatritadgdvvltssvgnnavycdtaekviievnswqsedlegmhdiyggfalppnrvpipithpgdrigdkflhipqnkivaiietagpdrntpfkpidddsrkiagflldfydnevkqgripknllplqsgvgnipnavldgllhsdlehltsyteviqdgmidlidagkldvasatafslspdyahkmnenaafyrdhiilrpqeisnhpevirrlgvigangmieadiygnvnsthvmgsrmmngiggsgdftrnayisafvspstakggaisaivpmvshvdhtehdgmviiteqgiadlrglaprqrapkiiencahpdyrpmlldyyeralrdckfkhtphllgeayswhtrfletgtmkkd\n",
      ">574128756  coded_by=26342..27856,organism=Propionibacterium acnes JCM 18916,definition=coenzyme A transferase\n",
      "mserianaalrqkvmsaddaaalihdgdqigfggftgsgypkelpgaltkriqeshgrgekftvnvftgastapeldgalasvdgigwrmpyqsdpqmrskindgtsfytdihlsesgmmvrqgffgkvdfavieatritadgdvvltssvgnnavycdtaekviievnswqsedlegmhdiyggfalppnrvpipithpgdrigdkflhipqnkivaiietagpdrntpfkpidddsrkiagflldfydnevkqgripknllplqsgvgnipnavldgllhsdlehltsyteviqdgmidlidagkldvasatafslspdyahkmnenaafyrdhiilrpqeisnhpevirrlgvigangmieadiygnvnsthvmgsrmmngiggsgdftrnayisafvspstakggaisaivpmvshvdhtehdgmviiteqgiadlrglaprqrapkiiencahpdyrpmlldyyeralrdckfkhtphllgeayswhtrfletgtmkkd\n",
      ">481319564  coded_by=2182299..2183813,organism=Propionibacterium acnes HL096PA1,definition=coenzyme A transferase (putative succinyl-CoA or butyryl-CoA:coenzyme A transferase)\n",
      "mserianaalrqkvmsaddaaalihdgdqigfggftgsgypkelpgaltkriqeshgrgekftvnvftgastapeldgalasvdgigwrmpyqsdpqmrskindgtsfytdihlsesgmmvrqgffgkvdfavieatritadgdvvltssvgnnavycdtaekviievnswqsedlegmhdiyggfalppnrvpipithpgdrigdkflhipqnkivaiietagpdrntpfkpidddsrkiagflldfydnevkqgripknllplqsgvgnipnavldgllhsdlehltsyteviqdgmidlidagkldvasatafslspdyahkmnenaafyrdhiilrpqeisnhpevirrlgvigangmieadiygnvnsthvmgsrmmngiggsgdftrnayisafvspstakggaisaivpmvshvdhtehdgmviiteqgiadlrglaprqrapkiiencahpdyrpmlldyyeralrdckfkhtphllgeayswhtrfletgtmkkd\n",
      ">289158727  coded_by=72559..74073,organism=Propionibacterium acnes J165,definition=succinate CoA transferase\n",
      "mserianaalrqkvmsaddaaalihdgdqigfggftgsgypkelpgaltkriqeshgrgekftvnvftgastapeldgalasvdgigwrmpyqsdpqmrskindgtsfytdihlsesgmmvrqgffgkvdfavieatritadgdvvltssvgnnavycdtaekviievnswqsedlegmhdiyggfalppnrvpipithpgdrigdkflhipqnkivaiietagpdrntpfkpidddsrkiagflldfydnevkqgripknllplqsgvgnipnavldgllhsdlehltsyteviqdgmidlidagkldvasatafslspdyahkmnenaafyrdhiilrpqeisnhpevirrlgvigangmieadiygnvnsthvmgsrmmngiggsgdftrnayisafvspstakggaisaivpmvshvdhtehdgmviiteqgiadlrglaprqrapkiiencahpdyrpmlldyyeralrdckfkhtphllgeayswhtrfletgtmkkd\n"
     ]
    }
   ],
   "source": [
    "!head ./Data/fungene_9.9.1_but_10000_unaligned_protein_seqs_1.fa"
   ]
  },
  {
   "cell_type": "markdown",
   "metadata": {},
   "source": [
    "cat fungene_9.9.1_but_10000_unaligned_nucleotide_seqs_1.fa fungene_9.9.1_but_10000_unaligned_nucleotide_seqs.fa fungene_9.9.1_but_2365_unaligned_nucleotide_seqs.fa > but_nucl.fasta"
   ]
  },
  {
   "cell_type": "code",
   "execution_count": null,
   "metadata": {},
   "outputs": [],
   "source": []
  },
  {
   "cell_type": "code",
   "execution_count": null,
   "metadata": {},
   "outputs": [],
   "source": []
  },
  {
   "cell_type": "code",
   "execution_count": null,
   "metadata": {},
   "outputs": [],
   "source": [
    "/home/junyuchen/Lab/Custom-DataBase/But/Data/but_nucl.fasta"
   ]
  },
  {
   "cell_type": "code",
   "execution_count": 8,
   "metadata": {},
   "outputs": [
    {
     "name": "stdout",
     "output_type": "stream",
     "text": [
      "1035763549\n",
      "1035763549  location=22680..24194,organism=Propionibacterium acnes,definition=acetyl-CoA hydrolase\n",
      "1512\n"
     ]
    }
   ],
   "source": [
    "from Bio import SeqIO\n",
    "record_iterator = SeqIO.parse(\"/home/junyuchen/Lab/Custom-DataBase/But/Data/but_nucl.fasta\", \"fasta\")\n",
    "\n",
    "first_record = next(record_iterator)\n",
    "print(first_record.id)\n",
    "print(first_record.description)\n",
    "print(len(first_record))"
   ]
  },
  {
   "cell_type": "code",
   "execution_count": 11,
   "metadata": {},
   "outputs": [],
   "source": [
    "des = list(first_record.description.split(\",\")) "
   ]
  },
  {
   "cell_type": "code",
   "execution_count": 12,
   "metadata": {},
   "outputs": [
    {
     "data": {
      "text/plain": [
       "['1035763549  location=22680..24194',\n",
       " 'organism=Propionibacterium acnes',\n",
       " 'definition=acetyl-CoA hydrolase']"
      ]
     },
     "execution_count": 12,
     "metadata": {},
     "output_type": "execute_result"
    }
   ],
   "source": [
    "des"
   ]
  },
  {
   "cell_type": "code",
   "execution_count": 22,
   "metadata": {},
   "outputs": [],
   "source": [
    "org = des[1].split(\"=\")[-1]"
   ]
  },
  {
   "cell_type": "code",
   "execution_count": 23,
   "metadata": {},
   "outputs": [
    {
     "data": {
      "text/plain": [
       "'Propionibacterium acnes'"
      ]
     },
     "execution_count": 23,
     "metadata": {},
     "output_type": "execute_result"
    }
   ],
   "source": [
    "org"
   ]
  },
  {
   "cell_type": "code",
   "execution_count": 24,
   "metadata": {},
   "outputs": [],
   "source": [
    "taxa = \"g__\"+org.split(\" \")[0]+\".s__\"+org.split(\" \")[1]"
   ]
  },
  {
   "cell_type": "code",
   "execution_count": 25,
   "metadata": {},
   "outputs": [
    {
     "data": {
      "text/plain": [
       "'g__Propionibacterium.s__acnes'"
      ]
     },
     "execution_count": 25,
     "metadata": {},
     "output_type": "execute_result"
    }
   ],
   "source": [
    "taxa"
   ]
  },
  {
   "cell_type": "code",
   "execution_count": 28,
   "metadata": {},
   "outputs": [],
   "source": [
    "gene = des[2].split(\"=\")[-1]"
   ]
  },
  {
   "cell_type": "code",
   "execution_count": 29,
   "metadata": {},
   "outputs": [
    {
     "data": {
      "text/plain": [
       "'acetyl-CoA hydrolase'"
      ]
     },
     "execution_count": 29,
     "metadata": {},
     "output_type": "execute_result"
    }
   ],
   "source": [
    "gene"
   ]
  },
  {
   "cell_type": "code",
   "execution_count": 30,
   "metadata": {},
   "outputs": [],
   "source": [
    "gi = des[0].split(\" \")[0]"
   ]
  },
  {
   "cell_type": "code",
   "execution_count": 31,
   "metadata": {},
   "outputs": [
    {
     "data": {
      "text/plain": [
       "'1035763549'"
      ]
     },
     "execution_count": 31,
     "metadata": {},
     "output_type": "execute_result"
    }
   ],
   "source": [
    "gi"
   ]
  },
  {
   "cell_type": "markdown",
   "metadata": {},
   "source": [
    "or `gi.id`"
   ]
  },
  {
   "cell_type": "code",
   "execution_count": null,
   "metadata": {},
   "outputs": [],
   "source": []
  },
  {
   "cell_type": "code",
   "execution_count": 33,
   "metadata": {},
   "outputs": [],
   "source": [
    "import pandas as pd\n",
    "from Bio import SeqIO\n",
    "\n",
    "df = pd.DataFrame()\n",
    "for seq in SeqIO.parse(\"/home/junyuchen/Lab/Custom-DataBase/But/Data/but_nucl.fasta\", \"fasta\"):\n",
    "    gi = seq.id\n",
    "    des = list(seq.description.split(\",\")) \n",
    "    org = des[1].split(\"=\")[-1]\n",
    "    #taxa = \"g__\"+org.split(\" \")[0]+\".s__\"+org.split(\" \")[1]\n",
    "    gene = des[2].split(\"=\")[-1]\n",
    "    \n",
    "    df = df.append({'1-id':seq.id, '2-gene':gene, '3-len':str(len(seq)), '4-taxa':org}, ignore_index=True, sort=None)\n",
    "df.to_csv(\"id-but-gf.tsv\", encoding = \"utf-8\", sep=\"\\t\", header=False, index=False)"
   ]
  },
  {
   "cell_type": "markdown",
   "metadata": {},
   "source": [
    "测试前10000个"
   ]
  },
  {
   "cell_type": "code",
   "execution_count": 40,
   "metadata": {},
   "outputs": [],
   "source": [
    "import pandas as pd\n",
    "from Bio import SeqIO\n",
    "\n",
    "df = pd.DataFrame()\n",
    "for seq in SeqIO.parse(\"/home/junyuchen/Lab/Custom-DataBase/But/Data/fungene_9.9.1_but_10000_unaligned_nucleotide_seqs_1.fa\", \"fasta\"):\n",
    "    gi = seq.id\n",
    "    des = list(seq.description.split(\",\")) \n",
    "    org = des[1].split(\"=\")[-1]\n",
    "    #taxa = \"g__\"+org.split(\" \")[0]+\".s__\"+org.split(\" \")[1]\n",
    "    gene = des[2].split(\"=\")[-1]\n",
    "    \n",
    "    df = df.append({'1-id':seq.id, '2-gene':gene, '3-len':str(len(seq)), '4-taxa':org}, ignore_index=True, sort=None)\n",
    "df.to_csv(\"id-but-10k-gf.tsv\", encoding = \"utf-8\", sep=\"\\t\", header=False, index=False)"
   ]
  },
  {
   "cell_type": "code",
   "execution_count": null,
   "metadata": {},
   "outputs": [],
   "source": []
  }
 ],
 "metadata": {
  "kernelspec": {
   "display_name": "Python 3",
   "language": "python",
   "name": "python3"
  },
  "language_info": {
   "codemirror_mode": {
    "name": "ipython",
    "version": 3
   },
   "file_extension": ".py",
   "mimetype": "text/x-python",
   "name": "python",
   "nbconvert_exporter": "python",
   "pygments_lexer": "ipython3",
   "version": "3.7.6"
  }
 },
 "nbformat": 4,
 "nbformat_minor": 4
}
