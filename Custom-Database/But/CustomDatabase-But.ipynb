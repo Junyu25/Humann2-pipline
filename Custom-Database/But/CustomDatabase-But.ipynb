{
 "cells": [
  {
   "cell_type": "markdown",
   "metadata": {},
   "source": [
    "## Custom but Database"
   ]
  },
  {
   "cell_type": "code",
   "execution_count": 2,
   "metadata": {},
   "outputs": [
    {
     "name": "stdout",
     "output_type": "stream",
     "text": [
      "/home/junyuchen/Lab/Custom-DataBase/But\n"
     ]
    }
   ],
   "source": [
    "pwd"
   ]
  },
  {
   "cell_type": "code",
   "execution_count": 1,
   "metadata": {},
   "outputs": [
    {
     "name": "stdout",
     "output_type": "stream",
     "text": [
      "but_nucl.fasta\n",
      "fungene_9.9.1_but_10000_unaligned_nucleotide_seqs_1.fa\n",
      "fungene_9.9.1_but_10000_unaligned_nucleotide_seqs.fa\n",
      "fungene_9.9.1_but_10000_unaligned_protein_seqs_1.fa\n",
      "fungene_9.9.1_but_10000_unaligned_protein_seqs.fa\n",
      "fungene_9.9.1_but_2365_unaligned_nucleotide_seqs.fa\n",
      "fungene_9.9.1_but_2365_unaligned_protein_seqs.fa\n"
     ]
    }
   ],
   "source": [
    "ls ./Data"
   ]
  },
  {
   "cell_type": "code",
   "execution_count": 6,
   "metadata": {},
   "outputs": [
    {
     "name": "stdout",
     "output_type": "stream",
     "text": [
      "2621\n"
     ]
    }
   ],
   "source": [
    "grep \">\" /home/junyuchen/Lab/Custom-DataBase/But/Data/fungene_9.9.1_but_10000_unaligned_nucleotide_seqs.fa | wc -l"
   ]
  },
  {
   "cell_type": "code",
   "execution_count": null,
   "metadata": {},
   "outputs": [],
   "source": []
  },
  {
   "cell_type": "code",
   "execution_count": null,
   "metadata": {},
   "outputs": [],
   "source": [
    "fungene_9.9.1_but_10000_unaligned_nucleotide_seqs_1.fa"
   ]
  },
  {
   "cell_type": "code",
   "execution_count": null,
   "metadata": {},
   "outputs": [],
   "source": [
    "fungene_9.9.1_but_10000_unaligned_protein_seqs_1.fa"
   ]
  },
  {
   "cell_type": "markdown",
   "metadata": {},
   "source": [
    "### Custom nucleotide reference database | Bowtie Index "
   ]
  },
  {
   "cell_type": "code",
   "execution_count": null,
   "metadata": {},
   "outputs": [],
   "source": [
    "bowtie2-build ./Data/fungene_9.9.1_but_10000_unaligned_nucleotide_seqs_1.fa ./Database/but-10k"
   ]
  },
  {
   "cell_type": "markdown",
   "metadata": {},
   "source": [
    "### Custom protein reference database | Diamond Database"
   ]
  },
  {
   "cell_type": "code",
   "execution_count": null,
   "metadata": {},
   "outputs": [],
   "source": [
    "diamond makedb --in VFDB_setA_pro.fas -d VFDB_setA_pro #reference database for DIAMOND"
   ]
  },
  {
   "cell_type": "code",
   "execution_count": null,
   "metadata": {},
   "outputs": [],
   "source": [
    "diamond makedb --in ./Data/fungene_9.9.1_but_10000_unaligned_protein_seqs_1.fa -d ./Database/but-10k"
   ]
  },
  {
   "cell_type": "code",
   "execution_count": 3,
   "metadata": {},
   "outputs": [
    {
     "name": "stdout",
     "output_type": "stream",
     "text": [
      "total 6.1M\n",
      "drwxr-xr-x 3 junyuchen users 4.0K Jun 30 09:35 \u001b[0m\u001b[01;34m.\u001b[0m\n",
      "drwxr-xr-x 5 junyuchen users 4.0K Jun 30 09:36 \u001b[01;34m..\u001b[0m\n",
      "drwxr-xr-x 2 junyuchen users 4.0K Jun 30 09:34 \u001b[01;34mbowtie-but\u001b[0m\n",
      "-rw-r--r-- 1 junyuchen users 6.0M Jun 30 09:35 but-10k.dmnd\n"
     ]
    }
   ],
   "source": [
    "ls Database -alh"
   ]
  },
  {
   "cell_type": "code",
   "execution_count": null,
   "metadata": {},
   "outputs": [],
   "source": []
  },
  {
   "cell_type": "markdown",
   "metadata": {},
   "source": [
    "`/home/junyuchen/Lab/Custom-DataBase/But/Database/bowtie-but/but-10k`"
   ]
  },
  {
   "cell_type": "markdown",
   "metadata": {},
   "source": [
    "`/home/junyuchen/Lab/Custom-DataBase/But/Database/but-10k`"
   ]
  },
  {
   "cell_type": "markdown",
   "metadata": {},
   "source": [
    "`/home/junyuchen/Lab/Custom-DataBase/But/id-but-10k-gf.tsv`"
   ]
  },
  {
   "cell_type": "code",
   "execution_count": null,
   "metadata": {},
   "outputs": [],
   "source": [
    "--bypass-nucleotide-index --nucleotide-database /home/junyuchen/Lab/Custom-DataBase/But/Database/bowtie-but/but-10k"
   ]
  },
  {
   "cell_type": "code",
   "execution_count": null,
   "metadata": {},
   "outputs": [],
   "source": [
    "humann2_config --update database_folders protein /home/junyuchen/Lab/Custom-DataBase/But/Database/but-10k"
   ]
  },
  {
   "cell_type": "code",
   "execution_count": null,
   "metadata": {},
   "outputs": [],
   "source": [
    "humann2_config --update database_folders protein /home/junyuchen/Lab/Custom-DataBase/But/Database"
   ]
  },
  {
   "cell_type": "code",
   "execution_count": null,
   "metadata": {},
   "outputs": [],
   "source": [
    "--protein-database /home/junyuchen/Lab/Custom-DataBase/But/Database/but-10k"
   ]
  },
  {
   "cell_type": "markdown",
   "metadata": {},
   "source": [
    "```shell\n",
    "humann2 --threads 4 --bypass-nucleotide-index --nucleotide-database /home/junyuchen/Lab/Custom-DataBase/But/Database/bowtie-but/but-10k --protein-database /home/junyuchen/Lab/Custom-DataBase/But/Database/but-10k --input /home/junyuchen/Lab/HUMAnN2-Pipline/humann2-conda/cat_reads/HSM7J4QT.fastq --output iHMP-HSM7J4QT-setB --id-mapping /home/junyuchen/Lab/Custom-DataBase/But/id-but-10k-gf.tsv\n",
    "```"
   ]
  },
  {
   "cell_type": "markdown",
   "metadata": {},
   "source": [
    "```shell\n",
    "humann2 --threads 4 --bypass-nucleotide-index --nucleotide-database /home/junyuchen/Lab/Custom-DataBase/But/Database/bowtie-but/but-10k --protein-database /home/junyuchen/Lab/Custom-DataBase/But/Database --input /home/junyuchen/Lab/Liuhongbin/result-20200510/cat_reads/LN1-200410-P7-LD200408-0003-GTCCTAAG.fastq --output iHMP-HSM7J4QT-setB --id-mapping /home/junyuchen/Lab/Custom-DataBase/But/id-mapping-but-gf.tsv\n",
    "```"
   ]
  },
  {
   "cell_type": "markdown",
   "metadata": {},
   "source": [
    "### Test"
   ]
  },
  {
   "cell_type": "code",
   "execution_count": null,
   "metadata": {},
   "outputs": [],
   "source": [
    "\"/home/junyuchen/Lab/Liuhongbin/Result/cat_reads/LN1-200410-P7-LD200408-0003-GTCCTAAG.fastq\""
   ]
  },
  {
   "cell_type": "code",
   "execution_count": null,
   "metadata": {},
   "outputs": [],
   "source": [
    "scp -r junyuchen@10.10.1.134:/home/junyuchen/Lab/Liuhongbin/Result/cat_reads/LN1-200410-P7-LD200408-0003-GTCCTAAG.fastq ."
   ]
  },
  {
   "cell_type": "code",
   "execution_count": null,
   "metadata": {},
   "outputs": [],
   "source": [
    "/home/junyuchen/Lab/Custom-DataBase/But/Test/LN1-200410-P7-LD200408-0003-GTCCTAAG.fastq"
   ]
  },
  {
   "cell_type": "markdown",
   "metadata": {},
   "source": [
    "```shell\n",
    "humann2 --threads 16 --bypass-nucleotide-index --nucleotide-database /home/junyuchen/Lab/Custom-DataBase/But/Database/bowtie-but/but-10k --input /home/junyuchen/Lab/Custom-DataBase/But/Test/LN1-200410-P7-LD200408-0003-GTCCTAAG.fastq --output LN1-200410-P7 --id-mapping /home/junyuchen/Lab/Custom-DataBase/But/id-but-10k-gf.tsv\n",
    "```"
   ]
  },
  {
   "cell_type": "code",
   "execution_count": null,
   "metadata": {},
   "outputs": [],
   "source": []
  },
  {
   "cell_type": "code",
   "execution_count": null,
   "metadata": {},
   "outputs": [],
   "source": []
  },
  {
   "cell_type": "code",
   "execution_count": null,
   "metadata": {},
   "outputs": [],
   "source": [
    "bowtie2-build ./RawData/but_unaligned_nucleotide.fasta ./Database/but"
   ]
  },
  {
   "cell_type": "code",
   "execution_count": null,
   "metadata": {},
   "outputs": [],
   "source": [
    "diamond makedb --in ./RawData/but_unaligned_nucleotide.fasta -d ./Database/but"
   ]
  },
  {
   "cell_type": "code",
   "execution_count": null,
   "metadata": {},
   "outputs": [],
   "source": [
    "scp -r junyuchen@10.10.1.68:/home/junyuchen/Lab/Custom-DataBase/But/Database ./But/Database"
   ]
  },
  {
   "cell_type": "code",
   "execution_count": null,
   "metadata": {},
   "outputs": [],
   "source": []
  },
  {
   "cell_type": "code",
   "execution_count": null,
   "metadata": {},
   "outputs": [],
   "source": [
    "humann2_config --update database_folders protein /home/junyuchen/Lab/Custom-DataBase/But/Database"
   ]
  },
  {
   "cell_type": "markdown",
   "metadata": {},
   "source": [
    "```shell\n",
    "humann2 --threads 16 --bypass-nucleotide-index --nucleotide-database /home/junyuchen/Lab/Custom-DataBase/But/Database/but --input /home/junyuchen/Lab/Custom-DataBase/But/Test/LN1-200410-P7-LD200408-0003-GTCCTAAG.fastq --output LN1-200410-P7 --id-mapping /home/junyuchen/Lab/Custom-DataBase/But/id-mapping-but-gf.tsv\n",
    "```"
   ]
  },
  {
   "cell_type": "code",
   "execution_count": null,
   "metadata": {},
   "outputs": [],
   "source": []
  }
 ],
 "metadata": {
  "kernelspec": {
   "display_name": "Bash",
   "language": "bash",
   "name": "bash"
  },
  "language_info": {
   "codemirror_mode": "shell",
   "file_extension": ".sh",
   "mimetype": "text/x-sh",
   "name": "bash"
  }
 },
 "nbformat": 4,
 "nbformat_minor": 4
}
