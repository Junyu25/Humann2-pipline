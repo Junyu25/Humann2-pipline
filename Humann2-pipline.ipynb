{
 "cells": [
  {
   "cell_type": "markdown",
   "metadata": {},
   "source": [
    "# HUMAnN2 Pipeline "
   ]
  },
  {
   "cell_type": "markdown",
   "metadata": {},
   "source": [
    "### 建立索引文件（sample_table)   \n",
    "把需要分析的数据文件放到同一个文件夹下面   \n",
    "`\n",
    "python /home/yxtan/YT_scripts/fq_sample_table_generate.py -i abs_path_raw_fq_folder\n",
    "`\n",
    "索引文件会自动生成在当前文件夹\n"
   ]
  },
  {
   "cell_type": "markdown",
   "metadata": {},
   "source": [
    "### 激活环境：\n",
    "`conda activate /home/LDlab/anaconda3/envs/humann2`   \n",
    "Or   \n",
    "`conda activate /home/junyuchen/Biosoft/anaconda3/envs/humann2`"
   ]
  },
  {
   "cell_type": "markdown",
   "metadata": {},
   "source": [
    "### 运行\n",
    "```shell\n",
    "python /home/yxtan/HUMANN2_SOP_scripts/Metagenomics_HUMANN2.py -i sample_table.txt (索引文件)-n 20 （并行任务数量）\n",
    "```"
   ]
  },
  {
   "cell_type": "markdown",
   "metadata": {},
   "source": [
    "## 实例"
   ]
  },
  {
   "cell_type": "markdown",
   "metadata": {},
   "source": [
    "```shell\n",
    "python /home/yxtan/YT_scripts/fq_sample_table_generate.py -i /home/LDlab/HUMAnN2example-20191125/raw_data\n",
    "```"
   ]
  },
  {
   "cell_type": "markdown",
   "metadata": {},
   "source": [
    "```shell\n",
    "python /home/yxtan/HUMANN2_SOP_scripts/Metagenomics_HUMANN2.py -i /home/LDlab/HUMAnN2example-20191125/raw_data/sample_table.txt -n 20\n",
    "```"
   ]
  },
  {
   "cell_type": "markdown",
   "metadata": {},
   "source": [
    "## 输出文件   "
   ]
  },
  {
   "cell_type": "markdown",
   "metadata": {},
   "source": [
    "* 主目录下，metaphlan2_merged.txt：和 feature-table_w_tax.txt类似，但是第一列不是otuID，而是用“|”串起来的taxonomy名字"
   ]
  },
  {
   "cell_type": "code",
   "execution_count": 3,
   "metadata": {},
   "outputs": [
    {
     "name": "stdout",
     "output_type": "stream",
     "text": [
      "\u001b[0m\u001b[01;34mcat_reads\u001b[0m/          \u001b[01;34mhumann2_out\u001b[0m/               metaphlan2_merged.spf  \u001b[01;34mraw_data\u001b[0m/\n",
      "\u001b[01;34mfastqc_out\u001b[0m/         \u001b[01;34mkneaddata_out\u001b[0m/             metaphlan2_merged.txt  sedMGfRAo\n",
      "\u001b[01;34mhumann2_final_out\u001b[0m/  kneaddata_read_counts.txt  \u001b[01;34mmetaphlan2_out\u001b[0m/\n"
     ]
    }
   ],
   "source": [
    "%ls /home/LDlab/HUMAnN2example-20191125"
   ]
  },
  {
   "cell_type": "markdown",
   "metadata": {},
   "source": [
    "* humann2_final_out目录下，有genefamilies、 pathabundance两种不同信息，cpm代表已经经过均一化了，因为stratified仍包含分类信息，一般选用unstratified.spf，才是整合后的基因信息。当然，如果要追踪具体来源的话，就应该用stratified。"
   ]
  },
  {
   "cell_type": "code",
   "execution_count": 4,
   "metadata": {},
   "outputs": [
    {
     "name": "stdout",
     "output_type": "stream",
     "text": [
      "humann2_genefamilies_cpm_stratified.tsv\n",
      "humann2_genefamilies_cpm.tsv\n",
      "humann2_genefamilies_cpm_unstratified.spf\n",
      "humann2_genefamilies_cpm_unstratified.tsv\n",
      "humann2_genefamilies.tsv\n",
      "humann2_pathabundance_cpm_stratified.tsv\n",
      "humann2_pathabundance_cpm.tsv\n",
      "humann2_pathabundance_cpm_unstratified.spf\n",
      "humann2_pathabundance_cpm_unstratified.tsv\n",
      "humann2_pathabundance.tsv\n",
      "humann2_pathcoverage_stratified.tsv\n",
      "humann2_pathcoverage.tsv\n",
      "humann2_pathcoverage_unstratified.tsv\n"
     ]
    }
   ],
   "source": [
    "%ls /home/LDlab/HUMAnN2example-20191125/humann2_final_out"
   ]
  },
  {
   "cell_type": "markdown",
   "metadata": {},
   "source": [
    "## 备注"
   ]
  },
  {
   "cell_type": "markdown",
   "metadata": {},
   "source": [
    "### 参考数据库位置&更新方法：   "
   ]
  },
  {
   "cell_type": "markdown",
   "metadata": {},
   "source": [
    "#### Default:\n",
    "```shell\n",
    "humann2_config --update database_folders utility_mapping /home/LDlab/DataBases/HUMAnN2/utility_mapping\n",
    "humann2_config --update database_folders protein /home/LDlab/DataBases/HUMAnN2/uniref\n",
    "humann2_config --update database_folders nucleotide /home/LDlab/DataBases/HUMAnN2/chocophlan\n",
    "```"
   ]
  },
  {
   "cell_type": "markdown",
   "metadata": {},
   "source": [
    "#### BackUp:\n",
    "```shell\n",
    "humann2_config --update database_folders utility_mapping /home/yxtan/HUMANN2_SOP_scripts/dateabases/utility_mapping\n",
    "humann2_config --update database_folders protein /home/yxtan/HUMANN2_SOP_scripts/dateabases/uniref\n",
    "humann2_config --update database_folders nucleotide /home/yxtan/HUMANN2_SOP_scripts/dateabases/chocophlan\n",
    "```"
   ]
  },
  {
   "cell_type": "markdown",
   "metadata": {},
   "source": [
    "To update your HUMAnN2 configuration file to include the locations of your downloaded databases, please use the following steps.   \n",
    "\n",
    "Update the location of the ChocoPhlAn database (replacing $DIR with the full path to the directory containing the ChocoPhlAn database)\n",
    "\n",
    "`$ humann2_config --update database_folders nucleotide $DIR`\n",
    "\n",
    "Update the location of the UniRef database (replacing $DIR with the full path to the directory containing the UniRef database)\n",
    "\n",
    "`$ humann2_config --update database_folders protein $DIR`"
   ]
  },
  {
   "cell_type": "markdown",
   "metadata": {},
   "source": [
    "### 环境配置"
   ]
  },
  {
   "cell_type": "markdown",
   "metadata": {},
   "source": [
    "#### Conda env"
   ]
  },
  {
   "cell_type": "markdown",
   "metadata": {},
   "source": [
    "`conda create -n humann2 -c bioconda humann2 matplotlib=2.0`"
   ]
  },
  {
   "cell_type": "markdown",
   "metadata": {},
   "source": [
    "`conda install -c bioconda kneaddata`"
   ]
  },
  {
   "cell_type": "markdown",
   "metadata": {},
   "source": [
    "Optional: `conda install -c bioconda humann2`"
   ]
  },
  {
   "cell_type": "markdown",
   "metadata": {},
   "source": [
    "#### Parallel::ForkManager"
   ]
  },
  {
   "cell_type": "markdown",
   "metadata": {},
   "source": [
    "缺失则会报错：#Can't locate Parallel/ForkManager.pm in @INC (you may need to install the Parallel::ForkManager module)"
   ]
  },
  {
   "cell_type": "markdown",
   "metadata": {},
   "source": [
    "`perl -MCPAN -e shell`\n",
    "```perl\n",
    "install Parallel::ForkManager\n",
    "```"
   ]
  }
 ],
 "metadata": {
  "kernelspec": {
   "display_name": "Python 3",
   "language": "python",
   "name": "python3"
  },
  "language_info": {
   "codemirror_mode": {
    "name": "ipython",
    "version": 3
   },
   "file_extension": ".py",
   "mimetype": "text/x-python",
   "name": "python",
   "nbconvert_exporter": "python",
   "pygments_lexer": "ipython3",
   "version": "3.7.4"
  }
 },
 "nbformat": 4,
 "nbformat_minor": 4
}
