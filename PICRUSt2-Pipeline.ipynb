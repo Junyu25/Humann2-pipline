{
 "cells": [
  {
   "cell_type": "markdown",
   "metadata": {},
   "source": [
    "## PICRUSt2 pipeline"
   ]
  },
  {
   "cell_type": "markdown",
   "metadata": {},
   "source": [
    "### Place reads into reference tree"
   ]
  },
  {
   "cell_type": "markdown",
   "metadata": {},
   "source": [
    "seqs.fna\n",
    "/home/dongxx/picrust21/text/dna-sequences.fasta"
   ]
  },
  {
   "cell_type": "markdown",
   "metadata": {},
   "source": [
    "table.biom\n",
    "/home/dongxx/picrust21/text/new_data_0.002.txt"
   ]
  },
  {
   "cell_type": "code",
   "execution_count": 1,
   "metadata": {},
   "outputs": [
    {
     "name": "stdout",
     "output_type": "stream",
     "text": [
      "(picrust2) "
     ]
    },
    {
     "ename": "",
     "evalue": "1",
     "output_type": "error",
     "traceback": []
    }
   ],
   "source": [
    "conda activate picrust2"
   ]
  },
  {
   "cell_type": "code",
   "execution_count": 2,
   "metadata": {},
   "outputs": [
    {
     "name": "stdout",
     "output_type": "stream",
     "text": [
      "(picrust2) "
     ]
    },
    {
     "ename": "",
     "evalue": "1",
     "output_type": "error",
     "traceback": []
    }
   ],
   "source": [
    "cd ~/Lab/picrust2-pipeline/picrust2_out_pipeline"
   ]
  },
  {
   "cell_type": "code",
   "execution_count": 5,
   "metadata": {},
   "outputs": [
    {
     "name": "stdout",
     "output_type": "stream",
     "text": [
      "total 32M\n",
      "drwxr-xr-x 3 junyuchen users 4.0K Dec 13 17:56 \u001b[0m\u001b[01;34m.\u001b[0m\n",
      "drwxr-xr-x 3 junyuchen users 4.0K Dec 13 17:54 \u001b[01;34m..\u001b[0m\n",
      "-rw-r--r-- 1 junyuchen users  27M Dec 13 17:56 dna-sequences.fasta\n",
      "drwxr-xr-x 3 junyuchen users 4.0K Dec 13 17:56 \u001b[01;34mintermediate\u001b[0m\n",
      "-rw-r--r-- 1 junyuchen users 5.6M Dec 13 17:55 new_data_0.002.txt\n",
      "(picrust2) "
     ]
    },
    {
     "ename": "",
     "evalue": "1",
     "output_type": "error",
     "traceback": []
    }
   ],
   "source": [
    "ls -alh"
   ]
  },
  {
   "cell_type": "markdown",
   "metadata": {},
   "source": [
    "### Place reads into reference tree"
   ]
  },
  {
   "cell_type": "code",
   "execution_count": null,
   "metadata": {},
   "outputs": [],
   "source": [
    "place_seqs.py -s ./dna-sequences.fasta -o out.tre -p 1 \\\n",
    "              --intermediate intermediate/place_seqs"
   ]
  },
  {
   "cell_type": "markdown",
   "metadata": {},
   "source": [
    "### Hidden-state prediction of gene families"
   ]
  },
  {
   "cell_type": "code",
   "execution_count": 7,
   "metadata": {},
   "outputs": [
    {
     "name": "stdout",
     "output_type": "stream",
     "text": [
      "(picrust2) (picrust2) (picrust2) "
     ]
    },
    {
     "ename": "",
     "evalue": "1",
     "output_type": "error",
     "traceback": []
    }
   ],
   "source": [
    "hsp.py -i 16S -t out.tre -o marker_predicted_and_nsti.tsv.gz -p 16 -n\n",
    "\n",
    "hsp.py -i EC -t out.tre -o EC_predicted.tsv.gz -p 16"
   ]
  },
  {
   "cell_type": "markdown",
   "metadata": {},
   "source": [
    "### Generate metagenome predictions"
   ]
  },
  {
   "cell_type": "code",
   "execution_count": null,
   "metadata": {},
   "outputs": [
    {
     "name": "stdout",
     "output_type": "stream",
     "text": [
      "219 of 62212 ASVs were above the max NSTI cut-off of 2.0 and were removed.\n"
     ]
    }
   ],
   "source": [
    "metagenome_pipeline.py -i ./new_data_0.002.txt -m marker_predicted_and_nsti.tsv.gz -f EC_predicted.tsv.gz \\\n",
    "                       -o EC_metagenome_out --strat_out"
   ]
  },
  {
   "cell_type": "code",
   "execution_count": 10,
   "metadata": {},
   "outputs": [
    {
     "name": "stdout",
     "output_type": "stream",
     "text": [
      "(picrust2) "
     ]
    },
    {
     "ename": "",
     "evalue": "1",
     "output_type": "error",
     "traceback": []
    }
   ],
   "source": [
    "convert_table.py EC_metagenome_out/pred_metagenome_contrib.tsv.gz \\\n",
    "                 -c contrib_to_legacy \\\n",
    "                 -o EC_metagenome_out/pred_metagenome_contrib.legacy.tsv.gz"
   ]
  },
  {
   "cell_type": "code",
   "execution_count": 11,
   "metadata": {},
   "outputs": [
    {
     "name": "stdout",
     "output_type": "stream",
     "text": [
      "total 60820\n",
      "drwxr-xr-x 4 junyuchen users     4096 Dec 14 08:52 \u001b[0m\u001b[01;34m.\u001b[0m\n",
      "drwxr-xr-x 3 junyuchen users     4096 Dec 13 17:54 \u001b[01;34m..\u001b[0m\n",
      "-rw-r--r-- 1 junyuchen users 27652585 Dec 13 17:56 dna-sequences.fasta\n",
      "drwxr-xr-x 2 junyuchen users     4096 Dec 16 09:55 \u001b[01;34mEC_metagenome_out\u001b[0m\n",
      "-rw-r--r-- 1 junyuchen users 23612684 Dec 14 08:52 \u001b[01;31mEC_predicted.tsv.gz\u001b[0m\n",
      "drwxr-xr-x 3 junyuchen users     4096 Dec 13 18:09 \u001b[01;34mintermediate\u001b[0m\n",
      "-rw-r--r-- 1 junyuchen users  1459718 Dec 14 08:32 \u001b[01;31mmarker_predicted_and_nsti.tsv.gz\u001b[0m\n",
      "-rw-r--r-- 1 junyuchen users  5798031 Dec 13 17:55 new_data_0.002.txt\n",
      "-rw-r--r-- 1 junyuchen users  3728565 Dec 13 19:46 out.tre\n",
      "(picrust2) "
     ]
    },
    {
     "ename": "",
     "evalue": "1",
     "output_type": "error",
     "traceback": []
    }
   ],
   "source": [
    "ls -al"
   ]
  },
  {
   "cell_type": "code",
   "execution_count": 12,
   "metadata": {},
   "outputs": [
    {
     "name": "stdout",
     "output_type": "stream",
     "text": [
      "total 1707284\n",
      "drwxr-xr-x 2 junyuchen users      4096 Dec 16 09:55 \u001b[0m\u001b[01;34m.\u001b[0m\n",
      "drwxr-xr-x 4 junyuchen users      4096 Dec 14 08:52 \u001b[01;34m..\u001b[0m\n",
      "-rw-r--r-- 1 junyuchen users 769500586 Dec 16 10:10 \u001b[01;31mpred_metagenome_contrib.legacy.tsv.gz\u001b[0m\n",
      "-rw-r--r-- 1 junyuchen users 974677476 Dec 15 02:05 \u001b[01;31mpred_metagenome_contrib.tsv.gz\u001b[0m\n",
      "-rw-r--r-- 1 junyuchen users   3518076 Dec 15 01:53 \u001b[01;31mpred_metagenome_unstrat.tsv.gz\u001b[0m\n",
      "-rw-r--r-- 1 junyuchen users    530596 Dec 14 22:20 \u001b[01;31mseqtab_norm.tsv.gz\u001b[0m\n",
      "-rw-r--r-- 1 junyuchen users      6916 Dec 14 22:20 \u001b[01;31mweighted_nsti.tsv.gz\u001b[0m\n",
      "(picrust2) "
     ]
    },
    {
     "ename": "",
     "evalue": "1",
     "output_type": "error",
     "traceback": []
    }
   ],
   "source": [
    "ls EC_metagenome_out -al"
   ]
  },
  {
   "cell_type": "markdown",
   "metadata": {},
   "source": [
    "### Pathway-level inference"
   ]
  },
  {
   "cell_type": "code",
   "execution_count": null,
   "metadata": {},
   "outputs": [
    {
     "name": "stdout",
     "output_type": "stream",
     "text": [
      "/home/junyuchen/Biosoft/anaconda3/envs/picrust2/lib/python3.6/site-packages/joblib/externals/loky/process_executor.py:706: UserWarning: A worker stopped while some jobs were given to the executor. This can be caused by a too short worker timeout or by a memory leak.\n",
      "  \"timeout or by a memory leak.\", UserWarning\n"
     ]
    }
   ],
   "source": [
    "pathway_pipeline.py -i EC_metagenome_out/pred_metagenome_contrib.tsv.gz \\\n",
    "                    -o pathways_out -p 16"
   ]
  },
  {
   "cell_type": "markdown",
   "metadata": {},
   "source": [
    "### Add functional descriptions"
   ]
  },
  {
   "cell_type": "code",
   "execution_count": null,
   "metadata": {},
   "outputs": [],
   "source": [
    "add_descriptions.py -i EC_metagenome_out/pred_metagenome_unstrat.tsv.gz -m EC \\\n",
    "                    -o EC_metagenome_out/pred_metagenome_unstrat_descrip.tsv.gz\n",
    "\n",
    "add_descriptions.py -i pathways_out/path_abun_unstrat.tsv.gz -m METACYC \\\n",
    "                    -o pathways_out/path_abun_unstrat_descrip.tsv.gz"
   ]
  }
 ],
 "metadata": {
  "kernelspec": {
   "display_name": "Bash",
   "language": "bash",
   "name": "bash"
  },
  "language_info": {
   "codemirror_mode": "shell",
   "file_extension": ".sh",
   "mimetype": "text/x-sh",
   "name": "bash"
  }
 },
 "nbformat": 4,
 "nbformat_minor": 4
}
