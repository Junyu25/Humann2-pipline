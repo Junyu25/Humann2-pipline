{
 "cells": [
  {
   "cell_type": "code",
   "execution_count": null,
   "metadata": {},
   "outputs": [],
   "source": [
    "/home/luwu/wulu_data/Hiseq/S_7G42_1.fq.gz"
   ]
  },
  {
   "cell_type": "code",
   "execution_count": null,
   "metadata": {},
   "outputs": [],
   "source": [
    "/home/luwu/wulu_data/Hiseq/S_7G42_2.fq.gz"
   ]
  },
  {
   "cell_type": "code",
   "execution_count": null,
   "metadata": {},
   "outputs": [],
   "source": [
    "/home/junyuchen/Lab/KneadData/result/PathTable-test-sample.tsv"
   ]
  },
  {
   "cell_type": "markdown",
   "metadata": {},
   "source": [
    "python /home/junyuchen/Lab/Meta-Analysis/Scripts/Metagenomics_HUMANN2_bmttager.py -i /home/junyuchen/Lab/KneadData/result/PathTable-test-sample.tsv -sp /home/junyuchen/Lab/Meta-Analysis/Scripts -n 96 -j 30 -t /home/junyuchen/Biosoft/anaconda3/envs/humann2/share/trimmomatic-0.39-1 -d /home/junyuchen/Databases/KneadData/Homo_sapiens_BMTagger_v0.1"
   ]
  },
  {
   "cell_type": "markdown",
   "metadata": {},
   "source": [
    "```shell\n",
    "kneaddata -i /home/luwu/wulu_data/Hiseq/S_7G42_1.fq.gz -i /home/luwu/wulu_data/Hiseq/S_7G42_2.fq.gz -o /home/junyuchen/Lab/KneadData/result/bmttager/S_7G42 -db /home/junyuchen/Databases/KneadData/Homo_sapiens_BMTagger_v0.1 --trimmomatic /home/junyuchen/Biosoft/anaconda3/share/trimmomatic-0.39-1 -t 16 -p 16 --trimmomatic-options \"SLIDINGWINDOW:4:20 MINLEN:50\" --run-bmtagger\n",
    "```"
   ]
  },
  {
   "cell_type": "markdown",
   "metadata": {},
   "source": [
    "python /home/junyuchen/Lab/Metagenomics-Pipeline/Scripts/Metagenomics_Kneadata_bowtie.py -i /home/junyuchen/Lab/KneadData/result/PathTable-test-sample.tsv -sp /home/junyuchen/Lab/Meta-Analysis/Scripts -n 16 -j 1 -t /home/junyuchen/Biosoft/anaconda3/envs/humann2/share/trimmomatic-0.39-1 -d /home/junyuchen/Databases/GRCh38_PhiX_bowtie2_index/GRCh38_PhiX"
   ]
  },
  {
   "cell_type": "code",
   "execution_count": null,
   "metadata": {},
   "outputs": [],
   "source": []
  },
  {
   "cell_type": "code",
   "execution_count": null,
   "metadata": {},
   "outputs": [],
   "source": [
    "\"/home/luwu/wulu_data/Hiseq/7G42.sam\""
   ]
  },
  {
   "cell_type": "code",
   "execution_count": null,
   "metadata": {},
   "outputs": [],
   "source": [
    "samtools view -b -S /home/luwu/wulu_data/Hiseq/7G42.sam > /home/junyuchen/Lab/KneadData/result/bwa/7G42.bam -@ 16"
   ]
  },
  {
   "cell_type": "code",
   "execution_count": null,
   "metadata": {},
   "outputs": [],
   "source": [
    "bedtools bamtofastq -i 7G42.bam -fq 7G42_bed_r1.fastq -fq2 7G42_bed_r2.fastq"
   ]
  },
  {
   "cell_type": "code",
   "execution_count": null,
   "metadata": {},
   "outputs": [],
   "source": [
    "samtools fastq -1 7G42_r1.fastq -2 7G42_r2.fastq -@ 16 7G42.bam"
   ]
  }
 ],
 "metadata": {
  "kernelspec": {
   "display_name": "Bash",
   "language": "bash",
   "name": "bash"
  },
  "language_info": {
   "codemirror_mode": "shell",
   "file_extension": ".sh",
   "mimetype": "text/x-sh",
   "name": "bash"
  }
 },
 "nbformat": 4,
 "nbformat_minor": 4
}
