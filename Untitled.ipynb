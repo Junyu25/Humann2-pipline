{
 "cells": [
  {
   "cell_type": "markdown",
   "metadata": {},
   "source": [
    "Mappings are available for both UniRef90 and UniRef50 gene families to the following systems:\n",
    "\n",
    "* MetaCyc Reactions\n",
    "* KEGG Orthogroups (KOs)\n",
    "* Pfam domains\n",
    "* Level-4 enzyme commission (EC) categories\n",
    "* EggNOG (including COGs)\n",
    "* Gene Ontology (GO)\n",
    "* Informative GO"
   ]
  },
  {
   "cell_type": "code",
   "execution_count": null,
   "metadata": {},
   "outputs": [],
   "source": [
    "ls /home/junyuchen/Databases/HUMAnN2/utility_mapping"
   ]
  },
  {
   "cell_type": "code",
   "execution_count": null,
   "metadata": {},
   "outputs": [],
   "source": []
  },
  {
   "cell_type": "code",
   "execution_count": null,
   "metadata": {},
   "outputs": [],
   "source": [
    "bzip2 -d filename.bz2"
   ]
  },
  {
   "cell_type": "code",
   "execution_count": null,
   "metadata": {},
   "outputs": [],
   "source": [
    "bzip2 -dk filename.bz2"
   ]
  }
 ],
 "metadata": {
  "kernelspec": {
   "display_name": "Bash",
   "language": "bash",
   "name": "bash"
  },
  "language_info": {
   "codemirror_mode": "shell",
   "file_extension": ".sh",
   "mimetype": "text/x-sh",
   "name": "bash"
  }
 },
 "nbformat": 4,
 "nbformat_minor": 4
}
