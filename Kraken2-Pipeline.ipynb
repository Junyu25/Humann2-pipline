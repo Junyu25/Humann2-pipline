{
 "cells": [
  {
   "cell_type": "code",
   "execution_count": 2,
   "metadata": {},
   "outputs": [
    {
     "name": "stdout",
     "output_type": "stream",
     "text": [
      "usage: Kraken2.py [-h] -i FILEDIR -o OPDIR -j JOBS -t THREADS [-db DATABASE]\n",
      "\n",
      "Kraken2\n",
      "\n",
      "optional arguments:\n",
      "  -h, --help            show this help message and exit\n",
      "  -i FILEDIR, --input FILEDIR\n",
      "                        the path of the file path table\n",
      "  -o OPDIR, --output OPDIR\n",
      "                        the output path of manifest\n",
      "  -j JOBS, --jobs JOBS  the number of jobs run in parallel\n",
      "  -t THREADS, --threads THREADS\n",
      "                        the number of threads run for a job\n",
      "  -db DATABASE, --database DATABASE\n",
      "                        the path of kraken database\n"
     ]
    }
   ],
   "source": [
    "python Kraken2-Pipeline/Kraken2.py -h"
   ]
  },
  {
   "cell_type": "markdown",
   "metadata": {},
   "source": [
    "```shell\n",
    "python /thinker/storage/ecStorage/SIAT/KrakenOut/Kraken2.py -i /thinker/storage/ecStorage/SIAT/KrakenOut/PathTable/PRJNA385949-PathTable.tsv -o /thinker/storage/ecStorage/SIAT/KrakenOut/PRJNA385949 -j 6 -t 9\n",
    "```"
   ]
  },
  {
   "cell_type": "code",
   "execution_count": null,
   "metadata": {},
   "outputs": [],
   "source": []
  }
 ],
 "metadata": {
  "kernelspec": {
   "display_name": "Python 3",
   "language": "python",
   "name": "python3"
  },
  "language_info": {
   "codemirror_mode": {
    "name": "ipython",
    "version": 3
   },
   "file_extension": ".py",
   "mimetype": "text/x-python",
   "name": "python",
   "nbconvert_exporter": "python",
   "pygments_lexer": "ipython3",
   "version": "3.8.5"
  }
 },
 "nbformat": 4,
 "nbformat_minor": 4
}
