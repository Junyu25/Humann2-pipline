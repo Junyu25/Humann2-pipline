{
 "cells": [
  {
   "cell_type": "markdown",
   "id": "economic-consideration",
   "metadata": {},
   "source": [
    "# biobakery workflows"
   ]
  },
  {
   "cell_type": "markdown",
   "id": "cathedral-allen",
   "metadata": {},
   "source": [
    "https://github.com/biobakery/biobakery_workflows"
   ]
  },
  {
   "cell_type": "markdown",
   "id": "further-slovenia",
   "metadata": {},
   "source": [
    "## Installation"
   ]
  },
  {
   "cell_type": "markdown",
   "id": "global-projector",
   "metadata": {},
   "source": [
    "### Install software"
   ]
  },
  {
   "cell_type": "code",
   "execution_count": null,
   "id": "threatened-campus",
   "metadata": {},
   "outputs": [],
   "source": [
    "conda install -c biobakery workflows"
   ]
  },
  {
   "cell_type": "code",
   "execution_count": null,
   "id": "everyday-check",
   "metadata": {},
   "outputs": [],
   "source": [
    "#Before installing the workflows with conda, make sure to configure your channels so biobakery is at the top of the list.\n",
    "#maybe edit the .condarc and make biobakery at top of list"
   ]
  },
  {
   "cell_type": "code",
   "execution_count": null,
   "id": "happy-ethernet",
   "metadata": {},
   "outputs": [],
   "source": [
    "conda create -n biobakery -c biobakery biobakery_workflows"
   ]
  },
  {
   "cell_type": "code",
   "execution_count": null,
   "id": "coated-column",
   "metadata": {},
   "outputs": [],
   "source": [
    "mamba create -n biobakery -c biobakery biobakery_workflows"
   ]
  },
  {
   "cell_type": "markdown",
   "id": "velvet-appointment",
   "metadata": {},
   "source": [
    "### Install databases"
   ]
  },
  {
   "cell_type": "markdown",
   "id": "ignored-marketplace",
   "metadata": {},
   "source": [
    "`biobakery_workflows_databases --install $WORKFLOW`"
   ]
  },
  {
   "cell_type": "markdown",
   "id": "collaborative-sugar",
   "metadata": {},
   "source": [
    "`ModuleNotFoundError: No module named 'leveldb'`"
   ]
  },
  {
   "cell_type": "markdown",
   "id": "blessed-diagnosis",
   "metadata": {},
   "source": [
    "`pip install leveldb`"
   ]
  },
  {
   "cell_type": "code",
   "execution_count": null,
   "id": "usual-circuit",
   "metadata": {},
   "outputs": [],
   "source": [
    "biobakery_workflows_databases --install wmgx"
   ]
  },
  {
   "cell_type": "markdown",
   "id": "mature-omaha",
   "metadata": {},
   "source": [
    "```shell\n",
    "Installing humann utility mapping database\n",
    "Creating directory to install database: /home/junyuchen/biobakery_workflows_databases/humann\n",
    "Creating subdirectory to install database: /home/junyuchen/biobakery_workflows_databases/humann/utility_mapping\n",
    "Download URL: http://huttenhower.sph.harvard.edu/humann2_data/full_mapping_v201901.tar.gz\n",
    "Downloading file of size: 2.55 GB\n",
    "```"
   ]
  },
  {
   "cell_type": "markdown",
   "id": "common-resolution",
   "metadata": {},
   "source": [
    "mapping 文件大小没问题吧？"
   ]
  },
  {
   "cell_type": "code",
   "execution_count": null,
   "id": "aggregate-folks",
   "metadata": {},
   "outputs": [],
   "source": []
  },
  {
   "cell_type": "markdown",
   "id": "integral-montgomery",
   "metadata": {},
   "source": [
    "下的还是humann2的数据库"
   ]
  },
  {
   "cell_type": "code",
   "execution_count": null,
   "id": "harmful-liver",
   "metadata": {},
   "outputs": [],
   "source": [
    "biobakery_workflows_databases --install wmgx --location /home/junyuchen/3-Resources/Databases/bioBakeryDB"
   ]
  },
  {
   "cell_type": "markdown",
   "id": "twelve-liquid",
   "metadata": {},
   "source": [
    "太大了，要下很久"
   ]
  },
  {
   "cell_type": "markdown",
   "id": "round-cholesterol",
   "metadata": {},
   "source": [
    "无法提供已下载的数据库，自定义数据库位置"
   ]
  },
  {
   "cell_type": "markdown",
   "id": "bizarre-transsexual",
   "metadata": {},
   "source": [
    "## Data Processing Workflows"
   ]
  },
  {
   "cell_type": "markdown",
   "id": "secure-service",
   "metadata": {},
   "source": [
    "### Whole Metagenome Shotgun (wmgx)"
   ]
  },
  {
   "cell_type": "markdown",
   "id": "incoming-relevance",
   "metadata": {},
   "source": [
    "1.  [Quality control]\n",
    "2.  [Taxonomic profiling]\n",
    "3.  [Functional profiling]\n",
    "4.  Strain profiling\n",
    "5.  Assembly (not run by default)"
   ]
  },
  {
   "cell_type": "markdown",
   "id": "indie-christian",
   "metadata": {},
   "source": [
    "`biobakery_workflows wmgx --input $INPUT --output $OUTPUT`"
   ]
  },
  {
   "cell_type": "code",
   "execution_count": null,
   "id": "corporate-clerk",
   "metadata": {},
   "outputs": [],
   "source": []
  },
  {
   "cell_type": "code",
   "execution_count": null,
   "id": "accessible-civilization",
   "metadata": {},
   "outputs": [],
   "source": []
  },
  {
   "cell_type": "code",
   "execution_count": null,
   "id": "flexible-craps",
   "metadata": {},
   "outputs": [],
   "source": []
  }
 ],
 "metadata": {
  "kernelspec": {
   "display_name": "Bash",
   "language": "bash",
   "name": "bash"
  },
  "language_info": {
   "codemirror_mode": "shell",
   "file_extension": ".sh",
   "mimetype": "text/x-sh",
   "name": "bash"
  }
 },
 "nbformat": 4,
 "nbformat_minor": 5
}
