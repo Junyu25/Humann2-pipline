{
 "cells": [
  {
   "cell_type": "code",
   "execution_count": null,
   "metadata": {},
   "outputs": [],
   "source": [
    "import os\n",
    "import sys\n",
    "import pandas as pd"
   ]
  },
  {
   "cell_type": "code",
   "execution_count": null,
   "metadata": {},
   "outputs": [],
   "source": [
    "path = pd.DataFrame()\n",
    "#!input the full path of project\n",
    "project = sys.argv[1]\n",
    "f1 = ''\n",
    "r2 = ''\n",
    "#project = \"/home/junyuchen/Lab/Meta-Analysis/DataDownload/data/PRJEB23207\"\n",
    "for run in os.listdir(project):\n",
    "    #panda run column\n",
    "    print(run)\n",
    "    \n",
    "    for fastq in os.listdir(os.path.join(project, run)):\n",
    "        if fastq.endswith(\"1.fq.gz\"):\n",
    "            f1 = os.path.join(project, run, fastq)\n",
    "            print(f1)\n",
    "            #add to pandas run column\n",
    "        elif fastq.endswith(\"2.fq.gz\"):\n",
    "            r2 = os.path.join(project, run, fastq)\n",
    "            print(r2)\n",
    "        else:\n",
    "            continue\n",
    "    path = path.append({'#SampleID':str(run), \"forward-absolute-filepath\":str(f1), \"reverse-absolute-filepath\":str(r2)}, ignore_index=True)\n",
    "\n",
    "path.to_csv(\"PathTable-2.tsv\", sep=\"\\t\", index=False, encoding = \"utf-8\")"
   ]
  }
 ],
 "metadata": {
  "kernelspec": {
   "display_name": "Python 3",
   "language": "python",
   "name": "python3"
  },
  "language_info": {
   "codemirror_mode": {
    "name": "ipython",
    "version": 3
   },
   "file_extension": ".py",
   "mimetype": "text/x-python",
   "name": "python",
   "nbconvert_exporter": "python",
   "pygments_lexer": "ipython3",
   "version": "3.7.6"
  }
 },
 "nbformat": 4,
 "nbformat_minor": 4
}
